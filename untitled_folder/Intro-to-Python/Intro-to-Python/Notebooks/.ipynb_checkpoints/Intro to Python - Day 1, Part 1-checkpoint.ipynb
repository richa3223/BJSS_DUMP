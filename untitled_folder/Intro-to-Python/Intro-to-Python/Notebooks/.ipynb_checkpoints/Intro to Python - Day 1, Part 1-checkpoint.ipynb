{
 "cells": [
  {
   "cell_type": "markdown",
   "metadata": {},
   "source": [
    "<div class=\"row\">\n",
    "    <div class=\"columm\">\n",
    "        <h1 style=\"position: absolute;font-size: 300%;\">Introduction to Python: Day 1</h1>\n",
    "        <br>\n",
    "        <h1 style=\"position: absolute;font-size: 300%;\">Python basics</h1>\n",
    "    <div class=\"column\">\n",
    "        <img src=\"https://www.bjss.com/wp-content/uploads/BJSS.svg\"\n",
    "             alt=\"BJSS Logo\"\n",
    "             align=\"right\" \n",
    "             width = \"200\"\n",
    "             style=\"margin: 0px 60px\"\n",
    "             />\n",
    "    </div>\n",
    "</div>"
   ]
  },
  {
   "cell_type": "markdown",
   "metadata": {},
   "source": [
    "## Table of Contents\n",
    "<a href=\"#Background\"><font size=\"+1\">Background</font></a>\n",
    "* Learning Objectives\n",
    "* Working with Python\n",
    "* Jupyter Notebooks  \n",
    "* Markdown\n",
    "\n",
    "<a href=\"#Basic-Python\"><font size=\"+1\">Basic Python</font></a>\n",
    "* Numeric Values\n",
    "* Text Values\n",
    "* Logical Values\n",
    "* Casting (Type Conversions) in Python\n",
    "* Variable Assignment\n",
    "* Simple Conditional Statements\n",
    "\n",
    "<a href=\"#Python-Objects\"><font size=\"+1\">Python Objects</font></a>\n",
    "* Lists\n",
    "* Tuples\n",
    "* Accessing Values in Lists and Tuples\n",
    "* Dictionaries\n",
    "* Keeping Track of Objects\n",
    "* Iterable Objects\n",
    "* Getting Help\n",
    "* General Purpose Objects\n",
    "\n",
    "<a href=\"#The-Pandas-Library\"><font size=\"+1\">The Pandas Library</font></a>\n",
    "* Series Objects\n",
    "* DataFrame Objects\n",
    "* Importing Python Modules (pandas)\n",
    "* Setting a Working Directory\n",
    "* Reading in Data\n",
    "* Exploring the Data\n",
    "\n",
    "<a href=\"#Selecting-Columns-from-DataFrames\"><font size=\"+1\">Selecting Columns from DataFrames</font></a>\n",
    "* Selecting single and multiple columns.\n",
    "* <a href=\"#Exercise-1\">Exercise 1</a>\n",
    "\n",
    "<a href=\"#Filtering-rows-from-Dataframes\"><font size=\"+1\">Filtering Rows from DataFrames</font></a>\n",
    "* Simple filtering\n",
    "* Conditional filtering\n",
    "* <a href=\"#Exercise-2\">Exercise 2</a>\n",
    "* Using multiple conditions to filter\n",
    "* <a href=\"#Exercise-3\">Exercise 3</a>\n",
    "\n",
    "<a href=\"#Generating-New-Variables\"><font size=\"+1\">Generating New Variables</font></a>\n",
    "* Creating Binary Variables\n",
    "* Constant Value Variables\n",
    "* Creating Variables Based on Existing Columns\n",
    "* Classifying Numerical Values using pd.cut() and pd.qcut()\n",
    "* Removing (Dropping) Columns\n",
    "* <a href=\"#Exercise-4\">Exercise 4</a>\n",
    "\n",
    "<a href=\"#Consolidation\"><font size=\"+1\">Consolidation</font></a>\n",
    "* Today's Learning Objectives\n",
    "* Plan For Day 2"
   ]
  },
  {
   "cell_type": "markdown",
   "metadata": {},
   "source": [
    "# Background\n",
    "\n",
    "## Learning objectives\n",
    "\n",
    "By the end of the session, participants will be able to:\n",
    "* Use the Jupyter notebook environment, which is what we'll use to interact with python\n",
    "* Identify and describe python's basic data types - integers, floats, strings and Booleans.\n",
    "* Recognise python's general data structure objects - lists, tuples, and dictionaries.\n",
    "* Explain the basics of 'pandas', python's data manipulation and analysis library, including:\n",
    "    * Series and DataFrame objects.\n",
    "    * Reading data into python using pandas.\n",
    "    * Getting information about DataFrames.\n",
    "* Apply some simple DataFrame manipulation approaches, including:\n",
    "    * Selecting columns\n",
    "    * Filtering rows\n",
    "    * Generating new variables\n",
    "\n",
    "## Working with Python\n",
    "\n",
    "Python is:\n",
    "\n",
    "* A general purpose programming language which has been designed for readability. \n",
    "* Named for Monty Python (the British comedy group) to indicate that Python should be fun to use.\n",
    "* Interoperable across multiple computing platforms (e.g. Windows, Mac, Linux)\n",
    "* Used by many people, giving it a large user base and active community.\n",
    "* Open-source - It is much more cost effective and easier to maintain than SAS, SPSS etc.\n",
    "* Extensible - A broad range of modules: Data Management, Visualisation, Statistics, Machine Learning, Scientific Computing...\n",
    "* High-level - Concise expressions compared to low-level languages (e.g. c, java etc.) giving greater productivity.\n",
    "\n",
    "There are a number of different ways of interacting with python, if you're using anaconda you should see three different options:\n",
    "* Jupyter notebook - a straightforward browser-based interactive python environment great for data analysis tasks.\n",
    "* IPython qtconsole - a stripped-down, command line python application, suitable for more advanced users. \n",
    "* Spyder - a python IDE (integrated development environment), for fully-featured software development.\n",
    "\n",
    "Many teams also use PyCharm, which is another example of a python IDE, while some developers prefer to use notepad apps (like notepad++) which incorporate a lot of useful features for writing code.\n",
    "\n",
    "## Further steps\n",
    "\n",
    "Following completion of this notebook, it's time to dig into pandas in more detail, in preparation for tomorrow's exercise. Recommended resources:\n",
    "* Intro to Python - Day 1, Part 2 (a look into Pandas in more detail)\n",
    "* An O'Reilly course on data cleaning with pandas https://learning.oreilly.com/videos/pandas-data-cleaning/9780135170199\n",
    "* If the above isn't enough to get on with, you can always take a look at any of the materials on https://realpython.com/tutorials/basics/\n"
   ]
  },
  {
   "cell_type": "code",
   "execution_count": 1,
   "metadata": {},
   "outputs": [
    {
     "name": "stdout",
     "output_type": "stream",
     "text": [
      "The Zen of Python, by Tim Peters\n",
      "\n",
      "Beautiful is better than ugly.\n",
      "Explicit is better than implicit.\n",
      "Simple is better than complex.\n",
      "Complex is better than complicated.\n",
      "Flat is better than nested.\n",
      "Sparse is better than dense.\n",
      "Readability counts.\n",
      "Special cases aren't special enough to break the rules.\n",
      "Although practicality beats purity.\n",
      "Errors should never pass silently.\n",
      "Unless explicitly silenced.\n",
      "In the face of ambiguity, refuse the temptation to guess.\n",
      "There should be one-- and preferably only one --obvious way to do it.\n",
      "Although that way may not be obvious at first unless you're Dutch.\n",
      "Now is better than never.\n",
      "Although never is often better than *right* now.\n",
      "If the implementation is hard to explain, it's a bad idea.\n",
      "If the implementation is easy to explain, it may be a good idea.\n",
      "Namespaces are one honking great idea -- let's do more of those!\n"
     ]
    }
   ],
   "source": [
    "# Execute this code cell for the 'zen' of python\n",
    "import this"
   ]
  },
  {
   "cell_type": "markdown",
   "metadata": {},
   "source": [
    "## Jupyter Notebooks\n",
    "\n",
    "You're going to be using Jupyter 'notebooks' in this training, because they allow you to author and execute: python code to perform data analysis tasks; and, descriptive material to support the code, using a simple language called 'markdown'.\n",
    "\n",
    "Jupyter Notebook gives the opportunity to combine code and description in a single human-readable notebook. You can conduct analysis and give interpretation side-by-side. \n",
    "\n",
    "This means that your entire analytical approach can be documented together, from raw data input to analysis model outputs, and from initial assumptions to interpretation of results and conclusions. This also means that notebooks are great for sharing analysis, as the approach taken can be clearly and transparently documented both in code, and with supporting text.\n",
    "\n",
    "### Working with notebooks\n",
    "\n",
    "* **Creating New Notebooks** - Navigate to where you'd like to create a new notebook, select the 'New &#9660;' button towards the top-right of the screen and choose 'Python 3', this will open a new, untitled notebook in a new tab.\n",
    "\n",
    "***Basic tools***\n",
    "\n",
    "* **Saving Notebooks** File -> Save and Checkpoint, or click the save icon (the floppy disk), or Ctrl + s.\n",
    " * Notebooks are saved into your user area (e.g C:/Users/[User_Name]) by default\n",
    " \n",
    "\n",
    "* **(re)Naming Notebooks** Just click on the title (e.g. 'Intro to Python - Day 1', 'Untitled' etc.) at the top of the page and type the name you'd like. This will be used to save the notebook, as the chosen name + '.ipynb' (ipython notebook, the file type).\n",
    "\n",
    "\n",
    "* **Adding New Cells** Either click the **+** button, or use insert -> Insert Cell Above/Below.\n",
    "\n",
    "Importantly, there are two types of cell you should be aware of: code cells, and markdown cells.\n",
    "\n",
    "* **Code Cells** are what you type python code into.\n",
    "* **Markdown Cells** are where you write supporting text, equations etc.\n",
    "\n",
    "You can toggle between Code and Markdown cells (and others that we won't cover here) using the drop-down box on the toolbar above.\n",
    "\n",
    "Finally, it is useful to mention that notebooks have 2 'modes': edit mode and command mode.\n",
    "\n",
    "* A cell in **Edit Mode** has a green border and a cursor in the cell indicating that you can write in the cell.\n",
    "* A cell in **Command Mode** has a blue border, this indicates that you are not editing a specific cell, but instead allows you to control the properties of the whole notebook using keyboard shortcuts.\n",
    "\n",
    "Most of the time you'll be using edit mode, this is the default when you click into a cell and start typing code. Command mode is really for more advanced users who know have memorised some of the notebook keyboard shortcuts. To enter command mode, you can either click outside of the cell space (i.e. on the grey border space), or press Esc when you are editing a cell.\n",
    "\n",
    "Speaking of which, you can see all the keyboard shortcuts, and get other help on notebooks from Help in the menu bar above. Try Help -> Keyboard Shortcuts."
   ]
  },
  {
   "cell_type": "markdown",
   "metadata": {},
   "source": [
    "# Markdown\n",
    "\n",
    "Markdown is what we've used to produce all the descriptive text in this notebook. \n",
    "\n",
    "Markdown is a really simple 'markup' language. This means that you can write in plain text and provide some formatting instructions which change how the text is displayed once the cell is executed. Here are a few pointers on how to use it to create your own markdown supporting text.\n",
    "\n",
    "* Try creating a new cell and make it a 'Markdown' cell using the drop-down box on the toolbar at the top of the notebook.\n",
    "* Then, type some text in and then press Ctrl + Enter. See how executing the cell renders the text?\n",
    "\n",
    "There are a range of ways you can decorate plain text to produce formatted text when executed. Try:\n",
    "\n",
    "* Putting 1 or more # at the start of a line, then typing after it (e.g. ### A third level header)\n",
    "* Surrounding a word or phrase with asterisks, e.g. \\*hello world\\*\n",
    "* What about two asterisks? e.g. \\*\\*hello world\\*\\*\n",
    "* Try creating a bullet list by starting a line with an asterisk (e.g. * item 1) or a numbered list (e.g. 1. item 1)\n",
    "\n",
    "There's loads that Markdown can represent, including embedding images and equations. From the toolbar choose Help -> Markdown to see some detailed information on using Markdown.\n",
    "\n",
    "You can edit existing Markdown too, just double-click into the cell, amend it, and then ctrl-enter or shift-enter to remake the html."
   ]
  },
  {
   "cell_type": "markdown",
   "metadata": {},
   "source": [
    "# Basic Python\n",
    "\n",
    "## Entering Values in a Notebook Cell\n",
    "\n",
    "We can use Python as a basic calculator by entering values in the cells. This doesn't store any of the information, other than in the notebook cell, rather you're just passing information to the python interpreter and receiving an answer.\n",
    "\n",
    "## Numeric Values\n",
    "\n",
    "Python has  - \n",
    "* ints (integers, whole numbers) e.g 6, 12, 100000, 8960005060030102\n",
    "* floats (floating-point numbers, decimal numbers) e.g 3.4, 7.8, 3.14, 98.99997\n",
    "\n",
    "We can use mathematical expressions\n",
    "\n",
    "* \\+ for addition\n",
    "* \\- for subtraction\n",
    "* \\* for multiplication\n",
    "* / for division\n",
    "* \\*\\* for powers and roots\n",
    "\n",
    "Plus, loads of other useful operators, including:\n",
    "\n",
    "* () Brackets for order of operations  \n",
    "* % modulo - remainder in integer division (e.g. 11%4 = 3, because 11 fully divides by 4 twice, with 3 (of 4) remaining)  \n",
    "* // Floor Division (Rounds down to the nearest integer, e.g. 12/5 = 2.4 but 12//4 = 2)\n",
    "\n",
    "And, some built-in functions:\n",
    "* `abs(`_number_`)` - get the absolute value of a number.\n",
    "* `divmod(`_dividend_, _divisor_`)` - get the quotient and remainder from integer division. Combines floor division and modulo.\n",
    "* `pow(`_number_, _power_`)` - function version of _number_\\*\\*_power_\n",
    "* `round(`_number_, _ndigits_`)` - round a floating-point number to _ndigits_ number of decimal places."
   ]
  },
  {
   "cell_type": "code",
   "execution_count": 1,
   "metadata": {},
   "outputs": [
    {
     "data": {
      "text/plain": [
       "4"
      ]
     },
     "execution_count": 1,
     "metadata": {},
     "output_type": "execute_result"
    }
   ],
   "source": [
    "# Addition of ints (produces an int)\n",
    "2 + 2\n"
   ]
  },
  {
   "cell_type": "code",
   "execution_count": 2,
   "metadata": {},
   "outputs": [
    {
     "data": {
      "text/plain": [
       "3"
      ]
     },
     "execution_count": 2,
     "metadata": {},
     "output_type": "execute_result"
    }
   ],
   "source": [
    "4 - 1\n"
   ]
  },
  {
   "cell_type": "code",
   "execution_count": 5,
   "metadata": {},
   "outputs": [
    {
     "data": {
      "text/plain": [
       "3.0"
      ]
     },
     "execution_count": 5,
     "metadata": {},
     "output_type": "execute_result"
    }
   ],
   "source": [
    "# Addition of Floats (produces a float)\n",
    "4.2 - 1.2"
   ]
  },
  {
   "cell_type": "markdown",
   "metadata": {},
   "source": [
    "Note that the answer has a \".0\" after it, indicating it's a float, not an integer!"
   ]
  },
  {
   "cell_type": "code",
   "execution_count": null,
   "metadata": {},
   "outputs": [],
   "source": [
    "# Addition of Ints and Floats (produces...?)\n",
    "\n",
    "# TODO - Add your own code here to show what addition of a float and an integer produces"
   ]
  },
  {
   "cell_type": "markdown",
   "metadata": {},
   "source": [
    "## Text Values\n",
    "\n",
    "In python, we refer to text as 'string' data, this is because they are sequences of characters strung together.\n",
    "* Strings are ordered sequences of characters (letters, numbers, punctuation, whitespace and other special symbols).\n",
    "* Strings needs to be enclosed in apostrophes (' ') or quotation marks (\" \")\n",
    "    * It doesn't matter which, so long as you're consistent. You can't start with ' and end with \"!\n",
    "    * 'hello world!' is the same as \"hello world!\"\n",
    "\n",
    "Strings can be manipulated with some arithmetic operators:\n",
    "* \\+ concatenates strings (joins them together).\n",
    "* \\* repeats a given string *n* times.\n",
    "\n",
    "Strings are *objects* and so have a number of built-in *methods* for manipulating them.\n",
    "* Use a '.' to access the string object's methods, e.g.\n",
    "    * *string*`.lower()` transforms a string to all lowercase.\n",
    "    * *string*`.upper()` transforms a string to all UPPERCASE.\n",
    "    * *string*`.title()` transforms a string to Title Case.\n",
    "* Some string methods require parameters, e.g.\n",
    "    * *string*`.count('a')` counts the number of 'a'characters in the string, returning an integer.\n",
    "    * *string*`.replace(\" \",\"_\")` replaces any spaces in the string with underscores. \n",
    "\n",
    "There are loads more string methods, see: https://docs.python.org/3/library/stdtypes.html#string-methods for more info."
   ]
  },
  {
   "cell_type": "code",
   "execution_count": null,
   "metadata": {},
   "outputs": [],
   "source": [
    "# Enter a string here with quotation marks \"\"\n",
    "\n",
    "# TODO"
   ]
  },
  {
   "cell_type": "code",
   "execution_count": null,
   "metadata": {},
   "outputs": [],
   "source": [
    "# Now with apostrophes ''\n",
    "\n",
    "# TODO"
   ]
  },
  {
   "cell_type": "code",
   "execution_count": null,
   "metadata": {},
   "outputs": [],
   "source": [
    "# We can use the + symbol here too - but it works differently!\n",
    "\"Bjss\" + \" Data \" + \"Academy\""
   ]
  },
  {
   "cell_type": "code",
   "execution_count": null,
   "metadata": {},
   "outputs": [],
   "source": [
    "# Multiplication too!\n",
    "\"BJSS\" * 5"
   ]
  },
  {
   "cell_type": "code",
   "execution_count": null,
   "metadata": {},
   "outputs": [],
   "source": [
    "#.lower()\n",
    "'BJSS'.lower()"
   ]
  },
  {
   "cell_type": "code",
   "execution_count": null,
   "metadata": {},
   "outputs": [],
   "source": [
    "#.upper()\n",
    "'bjss'.upper()"
   ]
  },
  {
   "cell_type": "code",
   "execution_count": null,
   "metadata": {},
   "outputs": [],
   "source": [
    "#.count()\n",
    "'bjss'.count('j')"
   ]
  },
  {
   "cell_type": "code",
   "execution_count": null,
   "metadata": {},
   "outputs": [],
   "source": [
    "#.replace()\n",
    "'bjss'.replace('s','x')"
   ]
  },
  {
   "cell_type": "markdown",
   "metadata": {},
   "source": [
    "## Logical Values\n",
    "\n",
    "Logical values or \"Boolean values\" (NB Boolean is capitalised as it refers to logician George Boole).\n",
    "\n",
    "In Python these are written as `True` and `False`.\n",
    "\n",
    "They are special python data types - not strings! So they don't need ' ' or \" \" around them.\n",
    "\n",
    "They also have numerics behind them - True is 1 and False is 0."
   ]
  },
  {
   "cell_type": "code",
   "execution_count": null,
   "metadata": {},
   "outputs": [],
   "source": []
  },
  {
   "cell_type": "code",
   "execution_count": null,
   "metadata": {},
   "outputs": [],
   "source": []
  },
  {
   "cell_type": "code",
   "execution_count": null,
   "metadata": {},
   "outputs": [],
   "source": [
    "# You can add them together\n",
    "True + True"
   ]
  },
  {
   "cell_type": "code",
   "execution_count": null,
   "metadata": {},
   "outputs": [],
   "source": [
    "# In fact you can attempt any arithmetic operations with booleans\n",
    "# This owes to their underlying numeric value of either 1 or 0.\n",
    "True * 2.5"
   ]
  },
  {
   "cell_type": "code",
   "execution_count": null,
   "metadata": {},
   "outputs": [],
   "source": [
    "# Try testing the truthiness of a statement\n",
    "4 > 5"
   ]
  },
  {
   "cell_type": "code",
   "execution_count": 6,
   "metadata": {},
   "outputs": [
    {
     "data": {
      "text/plain": [
       "True"
      ]
     },
     "execution_count": 6,
     "metadata": {},
     "output_type": "execute_result"
    }
   ],
   "source": [
    "# Truthiness of strings (note the == sign for a logical '=', rather than a single = sign which is reserved for assignment)\n",
    "\"Daniel\" == \"daniel\".title()"
   ]
  },
  {
   "cell_type": "markdown",
   "metadata": {},
   "source": [
    "## Casting (Type Conversion) in Python\n",
    "\n",
    "Python doesn't require you to set the data type when you create it, instead it figures out what the best data type is for the object you are creating - int, float, string, boolean etc.\n",
    "\n",
    "Sometimes you want to ensure that a particular object is actually a certain type, rather than leaving it up to python. This is done using casting. Python has a range of in-built functions that enable you to cast data from one type to another.\n",
    "\n",
    "Firstly, the `type()` function will tell you what a given object is.\n",
    "\n",
    "Then, if it is allowed, you can convert that object to a specific data type using:\n",
    "* `int()`\n",
    "* `float()`\n",
    "* `str()`\n",
    "* `bool()`\n",
    "\n",
    "Obviously, you can't turn strings into numbers, unless the string in question is a numeric value stored as a string (e.g. '3' instead of 3).\n",
    "\n",
    "Some transformations make sense, ints into floats and vice versa.\n",
    "\n",
    "However, try turning numbers and text into Booleans, or make `True` or `False` a string, what do you think will happen? "
   ]
  },
  {
   "cell_type": "code",
   "execution_count": null,
   "metadata": {},
   "outputs": [],
   "source": [
    "# Learn the type of different objects\n",
    "type(True)"
   ]
  },
  {
   "cell_type": "code",
   "execution_count": null,
   "metadata": {},
   "outputs": [],
   "source": [
    "# Int from whole number float\n",
    "int(4.0)"
   ]
  },
  {
   "cell_type": "code",
   "execution_count": null,
   "metadata": {},
   "outputs": [],
   "source": [
    "# Int from decimal number float\n",
    "int(7.8)"
   ]
  },
  {
   "cell_type": "code",
   "execution_count": null,
   "metadata": {},
   "outputs": [],
   "source": [
    "# Float from int\n",
    "float(7)"
   ]
  },
  {
   "cell_type": "code",
   "execution_count": null,
   "metadata": {},
   "outputs": [],
   "source": [
    "# int from string\n",
    "int(float('5.0'))"
   ]
  },
  {
   "cell_type": "code",
   "execution_count": null,
   "metadata": {},
   "outputs": [],
   "source": [
    "# float from string\n",
    "float(\"5\")"
   ]
  },
  {
   "cell_type": "code",
   "execution_count": null,
   "metadata": {},
   "outputs": [],
   "source": [
    "# Try to find some transformation that python doesn't like.\n"
   ]
  },
  {
   "cell_type": "code",
   "execution_count": null,
   "metadata": {},
   "outputs": [],
   "source": []
  },
  {
   "cell_type": "markdown",
   "metadata": {},
   "source": [
    "## Variable Assignment\n",
    "\n",
    "* Variables store data values under a specific name:\n",
    "    * `name = 'Laura'` - here the variable `name` is storing the string `'Laura'`.\n",
    "    * `age = 21` - here the variable `age` is storing the integer `21`.\n",
    "    * `height = 1.80` - here the variable height is storing the float `1.80`.\n",
    "* Variables have to be assigned. Assignment is done with the `=` (equals) sign.\n",
    "* Once created, using a variable means getting the value of whatever it is storing.\n",
    "    * Inputting `height` into python will return `1.80` until the variable is either changed or deleted.\n",
    "* We can change the value of variables at any point by assigning it a new value.\n",
    "    * `height = 1.75` - reassigns the height variable to the value `1.75`\n",
    "    * `height = \"egg\"` - reassigns the height variable to the value `\"egg\"`\n",
    "    * `del height` - deletes the height variable, it is no longer in python's memory.\n",
    "* Variable names are case sensitive\n",
    "* Variable names can't start with a number (must start with an _ or a letter)\n",
    "* Can't use reserved words - like ` True, Class, Yield` which already mean something to python.\n",
    "* Should be descriptive (ideally).\n",
    "* Can be any length - but should be sensible!\n",
    "* Can look like this\n",
    "    * norwegianblue (lowercase)\n",
    "    * NORWEGIANBLUE (UPPERCASE)\n",
    "    * norwegianBlue (camelCase)\n",
    "    * NorwegianBlue (UpperCamelCase)\n",
    "    * norwegian_blue (snake_case, can also be Norwegian_Blue"
   ]
  },
  {
   "cell_type": "code",
   "execution_count": null,
   "metadata": {},
   "outputs": [],
   "source": [
    "# Let's create some variables.\n"
   ]
  },
  {
   "cell_type": "code",
   "execution_count": null,
   "metadata": {},
   "outputs": [],
   "source": [
    "name = ''\n",
    "surname = \"\"\n",
    "\n",
    "print(name)\n",
    "print(surname)"
   ]
  },
  {
   "cell_type": "code",
   "execution_count": null,
   "metadata": {},
   "outputs": [],
   "source": [
    "an_integer = 4"
   ]
  },
  {
   "cell_type": "code",
   "execution_count": null,
   "metadata": {},
   "outputs": [],
   "source": [
    "a_float = float(an_integer)"
   ]
  },
  {
   "cell_type": "code",
   "execution_count": null,
   "metadata": {},
   "outputs": [],
   "source": [
    "a_float"
   ]
  },
  {
   "cell_type": "markdown",
   "metadata": {},
   "source": [
    "## Simple Conditional Statements\n",
    "\n",
    "Conditional statements are basic parts of 'control flow' that allow for different actions depending on whether given a condition(s) evaluates to `True` or `False`. Python implements conditional statements in the format:\n",
    "```python\n",
    "if <condition>:\n",
    "    # Do something.\n",
    "elif <condition>:\n",
    "    # Do something else.\n",
    "else:\n",
    "    # Do another thing.\n",
    "```\n",
    "Depending on context you might see:\n",
    "* A single `if` with a condition. `False` evaluations are ignored.\n",
    "* An `if... else...` condition. `False` evaluations are all handled by `else`.\n",
    "* An `if...elif...else...` condition.\n",
    "    * There can be one or more `elif` conditions.\n",
    "    * The conditions are evaluated in order, with further evaluation terminated once a condition is met.\n",
    "\n",
    "Conditions in python are evaluated using the boolean operators:\n",
    "* == to mean 'is equal to'\n",
    "* != to mean 'is not equal to'\n",
    "* \\>, <, >=, <= to give inequalities\n",
    "\n",
    "Methods that return booleans can also be used to determine different courses of action, e.g.\n",
    "* *string*`.isnumeric()` returns `True` if all characters in a string are numeric."
   ]
  },
  {
   "cell_type": "code",
   "execution_count": null,
   "metadata": {},
   "outputs": [],
   "source": [
    "# Conditional example\n",
    "test = 'data science'\n",
    "\n",
    "if len(test) < 5: # NB len() gives the 'length' of an object\n",
    "    print(\"'\" + test + \"'\" + \" has very few characters\")\n",
    "elif test.istitle():\n",
    "    print(\"'\" + test + \"'\" + \" is in title case\")\n",
    "else:\n",
    "    print(\"That's a dull object!\")"
   ]
  },
  {
   "cell_type": "code",
   "execution_count": null,
   "metadata": {},
   "outputs": [],
   "source": [
    "# Conditional example 2\n",
    "string_number = 'Tommy'\n",
    "\n",
    "if string_number.isnumeric():\n",
    "    string_number = float(string_number)\n",
    "\n",
    "type(string_number)"
   ]
  },
  {
   "cell_type": "code",
   "execution_count": null,
   "metadata": {},
   "outputs": [],
   "source": []
  },
  {
   "cell_type": "markdown",
   "metadata": {},
   "source": [
    "# Python Objects\n",
    "\n",
    "Object is the general name for data types, data structures, functions and so on that python stores in memory and references with an identifier. Technically, an object is a specific instance of a 'class', which is an abstract template for a data type, data structure etc. A class is a pattern for creating new objects that can be reused and extended.\n",
    "\n",
    "```python\n",
    "days_list = [\"Mon\", \"Tues\", \"Weds\", \"Thurs\", \"Fri\", \"Sat\", \"Sun\"]\n",
    "```\n",
    "`days_list` is the identifier for a python 'list' data structure (object) that in this case stores some text values.\n",
    "\n",
    "All objects have properties and methods, which relate to data that the object stores and behaviours (procedures) that can be performed on the object to get a specific output.\n",
    "\n",
    "Accessing the properties and methods of an object usually means using the '.' (dot notation). This means we type the name of the object we are interested in, put a dot, then type the name of the property or method we want to call.\n",
    "\n",
    "For instance, calling the `clear()` method of a list object named `fruit` would be achieved like this:\n",
    "```python\n",
    "fruit.clear()\n",
    "```\n",
    "This would have the effect of removing any items stored by the list `fruit`, emptying the list.\n",
    "\n",
    "Similarly, if we wanted to use the count method to count the number of times a particular item occured in a list, we might do the following:\n",
    "```python\n",
    "fruit = ['apple','apple','banana','orange'] # create a list called fruit.\n",
    "fruit.count('apple') # count the number of times that the string 'apple' occurs in the fruit list\n",
    "```\n",
    "In the above, we would expect the `.count()` method, with the parameter 'apple' to return the value 2, because 'apple' appears twice in the list `fruit`.\n",
    "\n",
    "Additionally, there are some special in-built python functions that interact with objects and perform special behaviours, like `print()` and `len()`, or the numeric functions (e.g. `pow()`) you've seen already.\n",
    "\n",
    "For example, calling the python `print()` function enables us to print a representation of an object based on how a given object behaves with respect to that function.\n",
    "\n",
    "## Lists\n",
    "\n",
    "* The python list object is (possibly) the most versatile of the built in data structures.\n",
    "\n",
    "* It can hold any sequence of objects, including mixes of objects like strings, integers and Boolean variables together.\n",
    "\n",
    "* Lists can also hold other lists and dictionaries.\n",
    "\n",
    "* They can also hold custom data structures, and can be used to create custom data structures.\n",
    "\n",
    "* Lists are generally created, or 'instantiated', using square brackets `[]`.\n",
    "\n",
    "* A new list is considered to be an 'instance' of the list object.\n",
    "\n",
    "* Each item in the list is separated by a comma.\n",
    "\n",
    "* Lists can be amended (they are 'mutable' - they can be changed).\n",
    "\n",
    "* Technically, a string is a list of characters, this becomes clear if we explictly make it a list."
   ]
  },
  {
   "cell_type": "code",
   "execution_count": null,
   "metadata": {},
   "outputs": [],
   "source": [
    "# Create a list.\n",
    "days_list = [\"Mon\", \"Tues\", \"Weds\", \"Thurs\", \"Fri\", \"Sat\", \"Sun\"]\n",
    "print(type(days_list))\n",
    "print(days_list)"
   ]
  },
  {
   "cell_type": "code",
   "execution_count": null,
   "metadata": {},
   "outputs": [],
   "source": [
    "# A list of mixed objects\n",
    "mixed = [2,2.3,'string',True]\n",
    "mixed"
   ]
  },
  {
   "cell_type": "code",
   "execution_count": null,
   "metadata": {},
   "outputs": [],
   "source": [
    "# We can use the inbuilt function list() to convert a string to a list.\n",
    "mp = list(\"Monty Python\")\n",
    "mp"
   ]
  },
  {
   "cell_type": "markdown",
   "metadata": {},
   "source": [
    "There are a number of methods we can call on list objects, including -  \n",
    " * _list_`.append(object)` - adds an object to the end of the list.\n",
    " * _list_`.extend([objects])` - similar to append but contents of the list object is added not the list itself.\n",
    " * _list_`.insert(index, object)` - allows you to insert an object at a particular position in the list.\n",
    " * _list_`.pop(index)` - removes and returns the object at a particular position."
   ]
  },
  {
   "cell_type": "code",
   "execution_count": null,
   "metadata": {},
   "outputs": [],
   "source": [
    "list_1 = [10, 20, 30, 40, 50, 60]\n",
    "list_1.append(70) # append integer object 70 to end of list\n",
    "list_1"
   ]
  },
  {
   "cell_type": "code",
   "execution_count": null,
   "metadata": {},
   "outputs": [],
   "source": [
    "list_2 = [10, 20, 30, 40, 50, 60]\n",
    "list_2.extend(list_1) # extend list with items in second list.\n",
    "list_2"
   ]
  },
  {
   "cell_type": "code",
   "execution_count": null,
   "metadata": {},
   "outputs": [],
   "source": [
    "# What will happen here?\n",
    "list_2.append(list_1)\n",
    "list_2"
   ]
  },
  {
   "cell_type": "code",
   "execution_count": null,
   "metadata": {},
   "outputs": [],
   "source": [
    "list_1 = [10, 20, 30, 40, 50, 60]\n",
    "list_1.insert(0, 5) # insert a 0 in the at index zero (the 1st position in python).\n",
    "list_1"
   ]
  },
  {
   "cell_type": "code",
   "execution_count": null,
   "metadata": {},
   "outputs": [],
   "source": [
    "list_1 = [10, 20, 30, 40, 50, 60]\n",
    "value = list_1.pop(3) # remove the value at index 3 (the 4th index position) and store as a variable called value.\n",
    "print(value)\n",
    "print(list_1)"
   ]
  },
  {
   "cell_type": "code",
   "execution_count": null,
   "metadata": {},
   "outputs": [],
   "source": [
    "# Note that arithmetic approaches can have similar results.\n",
    "list_1 += [80]\n",
    "list_1"
   ]
  },
  {
   "cell_type": "markdown",
   "metadata": {},
   "source": [
    "In the code above there is a common programming shortcut being employed: `+=`  \n",
    "The following two assignments are identical:\n",
    "```python\n",
    "list_1 = list_1 + [80]\n",
    "list_1 += [80]\n",
    "```\n",
    "Other possible assignments operators include: `-=`, `*=`, `/=`, `//=`, `**=` and a few others.\n",
    "\n",
    "However, only `+` and `*` are meaningful for list operations, so other assignment operators give errors. However, these assignment operators will work for updating a numeric value."
   ]
  },
  {
   "cell_type": "code",
   "execution_count": null,
   "metadata": {},
   "outputs": [],
   "source": [
    "# Starting values for cell below.\n",
    "lump_sum = 100\n",
    "interest = 1.025 # 2.5%"
   ]
  },
  {
   "cell_type": "code",
   "execution_count": null,
   "metadata": {},
   "outputs": [],
   "source": [
    "# Imagine this is a compund interest calculation.\n",
    "# Run this cell a few times and see the output value change.\n",
    "lump_sum *= interest\n",
    "lump_sum"
   ]
  },
  {
   "cell_type": "markdown",
   "metadata": {},
   "source": [
    "## Tuples\n",
    "\n",
    "* Tuples are similar to lists, they can also hold any mixed sequence of objects.\n",
    "\n",
    "* However, tuples cannot be edited once created (immutable).\n",
    "\n",
    "* Tuples are created using parentheses () with items separated by commas.\n",
    "\n",
    "* The tuple() function can convert lists or strings to tuples.\n"
   ]
  },
  {
   "cell_type": "code",
   "execution_count": null,
   "metadata": {},
   "outputs": [],
   "source": [
    "tuple1 = (\"Monday\", \"Tuesday\", \"Wednesday\")\n",
    "type(tuple1)"
   ]
  },
  {
   "cell_type": "code",
   "execution_count": null,
   "metadata": {},
   "outputs": [],
   "source": [
    "tuple1"
   ]
  },
  {
   "cell_type": "code",
   "execution_count": null,
   "metadata": {},
   "outputs": [],
   "source": [
    "# You can convert to a list using list\n",
    "list_from_tuple = list(tuple1)\n",
    "type(list_frm_tuple)"
   ]
  },
  {
   "cell_type": "markdown",
   "metadata": {},
   "source": [
    "## Accessing Values in Lists and Tuples\n",
    "\n",
    "In addition to creating list objects, python also uses square brackets as an indexing operator.\n",
    "\n",
    "Therefore, to access a value in a list or tuple use the square brackets, along with the index of the value you want to obtain to return that value. e.g.\n",
    "```python\n",
    "vegetables= ['Carrot','Onion','Potato', 'Cauliflower']\n",
    "vegetables[1]\n",
    "```\n",
    "In the above list, the value obtained is `'Onion'` this is because python counts from zero:\n",
    "* `vegetable[0]` is 'Carrot'\n",
    "* `vegetable[1]` is 'Onion'\n",
    "* `vegetable[2]` is 'Potato'\n",
    "* `vegetable[3]` is 'Cauliflower'\n",
    "\n",
    "The same would apply if we had made a tuple instead of a list.\n",
    "\n",
    "If you are dealing with lists, you can also update the values in lists using indexing. This is because lists are mutable. e.g.\n",
    "```python\n",
    "vegetables= ['Carrot','Onion','Potato','Cauliflower']\n",
    "vegetables[1] = 'Courgette'\n",
    "```\n",
    "Will give: `['Carrot', 'Courgette', 'Potato', 'Cauliflower']`\n",
    "\n",
    "As `'Onion'` has been updated with `'Courgette'`\n",
    "\n",
    "Ways to index:\n",
    "\n",
    "Python Expression | Result | Explanation\n",
    "------------------|--------|------------\n",
    "vegetables[1]     |'Courgette'| Indexing from start of list at 0\n",
    "vegetables[-2] | 'Potato' | Backwards indexing from end of list\n",
    "vegetables[2:] | ['Potato','Cauliflower'] | Slicing a section from a given start index to the end of the list.\n",
    "vegetables[:2] | ['Carrot','Courgette'] | Slicing a section from the start of the list until a given end index.\n",
    "vegetables[1:3] | ['Courgette','Potato'] | Slicing a section from a given start index to a given end index.\n",
    "\n",
    "Try some of these approaches below."
   ]
  },
  {
   "cell_type": "code",
   "execution_count": null,
   "metadata": {},
   "outputs": [],
   "source": [
    "# Try indexing list_1 and list_2\n",
    "list_1[0]"
   ]
  },
  {
   "cell_type": "code",
   "execution_count": null,
   "metadata": {},
   "outputs": [],
   "source": [
    "# slicing\n",
    "list_1[3:5]"
   ]
  },
  {
   "cell_type": "code",
   "execution_count": null,
   "metadata": {},
   "outputs": [],
   "source": [
    "# Backwards indexing\n",
    "tuple1[-1]"
   ]
  },
  {
   "cell_type": "markdown",
   "metadata": {},
   "source": [
    "## Dictionaries\n",
    "\n",
    "* A dictionary has a set of 'keys' and each key has a single associated value.\n",
    "\n",
    "* Instead of indexing by position as with lists and tuples, dictionaries are indexed by keys.\n",
    "\n",
    "* When presented with a key, the dictionary will return the associated value.\n",
    "\n",
    "* A dictionary key must be an immutable data type. Usually this will mean integers or strings, but it is possible to use a tuple as a dictionary key.\n",
    "\n",
    "* In contrast, a dictionary value can hold any combination of objects. Including other dictionaries to create 'nested' dictionaries.\n",
    "\n",
    "* Dictionaries are 'key-value pair' data structures, also known as a _hash_, a _map_, and a _hashmap_ in other programming languages.\n",
    "\n",
    "* Python dictionaries are created using curly brackets {}.\n",
    "```python\n",
    "dictionary = {key1: value1, key2:value2, ...}\n",
    "```\n",
    "    \n",
    "* Values can be indexed by using a key within square brackets.\n",
    "```python\n",
    "dictionary[key2]\n",
    "```\n",
    "    \n",
    "* New keys can be assigned to a dictionary by providing a new key-value pair, however, if the key already exists this will overwrite the existing value as dicitonary keys must be unique."
   ]
  },
  {
   "cell_type": "code",
   "execution_count": null,
   "metadata": {},
   "outputs": [],
   "source": [
    "# Example \n",
    "person1 = {'name': 'Steve', 'occupation': 'musician', 'instrument' : ['keyboards', 'guitar', 'vocals'], \n",
    "      'nationality': 'English'}\n",
    "\n",
    "print(\"Name is\" , person1['name'], 'and',\n",
    "      \"instrument 1 is \", person1['instrument'][1])"
   ]
  },
  {
   "cell_type": "code",
   "execution_count": null,
   "metadata": {},
   "outputs": [],
   "source": [
    "# Example 2\n",
    "person2 = {'name': 'John', 'occupation': 'Programmer', 'languages': ['python','C++','scala'], 'nationality': 'UK'}\n",
    "person2"
   ]
  },
  {
   "cell_type": "code",
   "execution_count": null,
   "metadata": {},
   "outputs": [],
   "source": [
    "# Add a new key to a dictionary\n",
    "person1['age'] = 59\n",
    "person1"
   ]
  },
  {
   "cell_type": "code",
   "execution_count": null,
   "metadata": {},
   "outputs": [],
   "source": [
    "# Update an existing key\n",
    "person2['occupation'] = 'Data Scientist'"
   ]
  },
  {
   "cell_type": "markdown",
   "metadata": {},
   "source": [
    "## Keeping Track of Objects\n",
    "\n",
    "The Jupyter Notebook has a 'magic' command `%whos` which shows the current objects in memory and some information about them."
   ]
  },
  {
   "cell_type": "code",
   "execution_count": null,
   "metadata": {},
   "outputs": [],
   "source": [
    "# Have a look at currently instantiated objects.\n",
    "%whos"
   ]
  },
  {
   "cell_type": "markdown",
   "metadata": {},
   "source": [
    "## Iterable Objects\n",
    "\n",
    "In python, some objects are iterable. This means that they have a method which allows sequential access to the indices in the object from 0 to *n*. Iterable objects can therefore be looped over using the built-in `for` loop. Iteration, in this context, means taking each item of an object, one after another.\n",
    "\n",
    "Technically, the string is the simplest iterable object. Using a for loop we can iterate over each character in the string and perform a task."
   ]
  },
  {
   "cell_type": "code",
   "execution_count": null,
   "metadata": {},
   "outputs": [],
   "source": [
    "# iterate over characters in a string.\n",
    "for char in \"Data Engineering\":\n",
    "    print(char)"
   ]
  },
  {
   "cell_type": "markdown",
   "metadata": {},
   "source": [
    "In the code above the iterable object is the string \"BJSS Data Academy\". The `for` loop creates a local variable, in this case called `char`, which will hold the value of the object for a given iteration. In this case the `for` loop indexes each character in the string in turn. The local variable `char` can then be used within the loop (notice the indents) for a given behaviour. Here we just print out the local variable `char` printing out each character in the string in turn.\n",
    "\n",
    "Here's a slightly more complex case:"
   ]
  },
  {
   "cell_type": "code",
   "execution_count": null,
   "metadata": {},
   "outputs": [],
   "source": [
    "# iterate over characters in a string, print true for vowels.\n",
    "for char in \"BJSS Data Academy\":\n",
    "    print(char, char.lower() in ['a','e','i','o','u'])"
   ]
  },
  {
   "cell_type": "markdown",
   "metadata": {},
   "source": [
    "Lists and tuples are also easily iterable using `for` loops, providing each item in turn as the local variable:"
   ]
  },
  {
   "cell_type": "code",
   "execution_count": null,
   "metadata": {},
   "outputs": [],
   "source": [
    "# iterate over days list\n",
    "for item in days_list:\n",
    "    print(item)"
   ]
  },
  {
   "cell_type": "markdown",
   "metadata": {},
   "source": [
    "Dictionaries are more complex objects and have a number of possible iteration behaviours.\n",
    "\n",
    "The basic iteration behaviour iterates over keys:"
   ]
  },
  {
   "cell_type": "code",
   "execution_count": null,
   "metadata": {},
   "outputs": [],
   "source": [
    "# iterate over keys and get values by indexing.\n",
    "for key in person1:\n",
    "    #print(key)\n",
    "    print(key, person1[key])"
   ]
  },
  {
   "cell_type": "code",
   "execution_count": null,
   "metadata": {},
   "outputs": [],
   "source": [
    "for key in person1.keys():\n",
    "    print(key)"
   ]
  },
  {
   "cell_type": "markdown",
   "metadata": {},
   "source": [
    "_dictionary_`.keys()` produces the same behaviour if used as an iterable. Similarly _dictionary_`.values()` allows the values of a dictionary to be iterated over in the same order as the keys."
   ]
  },
  {
   "cell_type": "code",
   "execution_count": null,
   "metadata": {},
   "outputs": [],
   "source": [
    "# Iterate over D1 values\n",
    "for value in person1.values():\n",
    "    print(value)"
   ]
  },
  {
   "cell_type": "markdown",
   "metadata": {},
   "source": [
    "Dictionaries also have a more complex iterator, _dictionary_`.items()` which produces a key:value tuple at each iteration. Because this produces a tuple, we can 'unpack' the tuple into two local variables:"
   ]
  },
  {
   "cell_type": "code",
   "execution_count": null,
   "metadata": {},
   "outputs": [],
   "source": [
    "person1.items()"
   ]
  },
  {
   "cell_type": "code",
   "execution_count": null,
   "metadata": {},
   "outputs": [],
   "source": [
    "# Iterate over D1 key:value pairs\n",
    "for key, value in person1.items():\n",
    "    print(key,\"---\", value)"
   ]
  },
  {
   "cell_type": "markdown",
   "metadata": {},
   "source": [
    "Python has a useful built-in iterable object called `range()` this allows you to specify the start, stop and step parameters to produce a sequence of integers."
   ]
  },
  {
   "cell_type": "code",
   "execution_count": null,
   "metadata": {},
   "outputs": [],
   "source": [
    "# simple use of range\n",
    "for i in range(5):\n",
    "    print(i)"
   ]
  },
  {
   "cell_type": "code",
   "execution_count": null,
   "metadata": {},
   "outputs": [],
   "source": [
    "# intermediate use of range\n",
    "for i in range(3,7):\n",
    "    print(i)"
   ]
  },
  {
   "cell_type": "code",
   "execution_count": null,
   "metadata": {},
   "outputs": [],
   "source": [
    "# Advanced use of range\n",
    "for i in range(0,10,2):\n",
    "    print(i)"
   ]
  },
  {
   "cell_type": "code",
   "execution_count": null,
   "metadata": {},
   "outputs": [],
   "source": [
    "# advanced use of range\n",
    "for i in range(5,0,-1):\n",
    "    print(i)"
   ]
  },
  {
   "cell_type": "markdown",
   "metadata": {},
   "source": [
    "## While Loops\n",
    "\n",
    "While loops are different to for loops, `for` loops do definite iteration - you know *a priori* how many loops you are doing - whereas `while` loops do indefinite iteration, they require a stop condition and until that stop condition is met they simply keep iterating.\n",
    "\n",
    "You start a while loop with `while` then you provide the condition that, when falsified, breaks the loop.\n",
    "\n",
    "There are some examples below:"
   ]
  },
  {
   "cell_type": "code",
   "execution_count": null,
   "metadata": {},
   "outputs": [],
   "source": [
    "# Set an initial condition\n",
    "i = 0\n",
    "# Now use a while loop to increment the variable i\n",
    "while i < 6:\n",
    "    print(i)\n",
    "    i += 1 # += 1 means 'increment by 1 on each loop occasion'."
   ]
  },
  {
   "cell_type": "markdown",
   "metadata": {},
   "source": [
    "## Getting Help\n",
    "\n",
    "Most python modules include information on how to use their functions with something called a 'docstring'. You can look at docstrings using python's in-built help() function. Run the code below to look at the docstring for the string object `str`'s `replace` method."
   ]
  },
  {
   "cell_type": "code",
   "execution_count": null,
   "metadata": {},
   "outputs": [],
   "source": [
    "# Have a look at the docstring using python.\n",
    "help(str.lower)"
   ]
  },
  {
   "cell_type": "markdown",
   "metadata": {},
   "source": [
    "When you're using a notebook, you can also access the docstring by pressing Shift-Tab with the cursor somewhere in the object. This produces a **tool-tip**. A small pop-up box with relevant information.\n",
    "\n",
    "Pressing Tab once shows the parameters available for the particular object you are looking at.  \n",
    "Pressing Tab twice shows the whole docstring.  \n",
    "Pressing Tab a third time makes the tool-tip linger for 10 seconds.  \n",
    "Pressing Tab a fourth time put the tool-tip into a larger pane in the browser.  \n",
    "\n",
    "The tool-tip provides the same information as the `help()` function, but with nicer formatting!"
   ]
  },
  {
   "cell_type": "code",
   "execution_count": null,
   "metadata": {},
   "outputs": [],
   "source": [
    "str.replace()"
   ]
  },
  {
   "cell_type": "markdown",
   "metadata": {},
   "source": [
    "Note that in order to get help, we are using the 'abstract' object, rather than a specific instance of that object. Getting the help for the replace method of a string means using `str.replace()` rather than say `\"Data Science\".replace()`.\n",
    "\n",
    "### Docstrings\n",
    "\n",
    "Docstrings look a bit scary at first, but once you learn how to read them they're super useful!\n",
    "\n",
    "The first block of text is the function we're looking at - read_csv - followed by all the possible parameters you can use to modify how pandas reads a csv file.\n",
    "\n",
    "Note that the first parameter is 'filepath_or_buffer', that's currently all you're passing to this function - the filepath of 'MarvelUniverse.csv'.\n",
    "\n",
    "If you scroll down a little, you can then see all of the possible parameters listed and described.\n",
    "\n",
    "E.g If your data were semi-colon delimited you'd have to specify the 'sep' parameter. \n",
    "No header row? (i.e. column names) you could set 'header' to None.\n",
    "\n",
    "At the very bottom of the docstring, you can see that read_csv function returns a 'DataFrame'.\n",
    "\n",
    "Don't get too hung up on docstrings for now though, as you become more experienced they'll begin to make more sense!"
   ]
  },
  {
   "cell_type": "markdown",
   "metadata": {},
   "source": [
    "## General Purpose Objects\n",
    "\n",
    "The data structures above, lists, tuples, and dictionaries, are the core, in-built data structures available in python. They are always available for use and easily created and destroyed. They are general purpose which means they are useful in many situations, however, they may not always be able to do everything we want them to do for specific purposes.\n",
    "\n",
    "Nonetheless, it is really important to know a bit about lists, tuples and dictionaries because they are used throughout python, and you will be very likely to encounter them in some form. Perhaps as an output from a function or method; as a way of providing input to a procedure; or, as the way that the package you are using stores properties.\n",
    "\n",
    "Many advanced python libraries that have been built for specific purposes, like data science, take advantage of the fact that objects are extensible. Programmers can create new classes based on existing objects and add in specific properties or methods that do specific things. This means that general purpose objects can be customised for particular tasks.\n",
    "\n",
    "In data applications, the Pandas library provides specialised objects that make working with data tables a lot easier than if we had to rely on python's general purpose objects. However, because pandas objects are specialised, they are also more complicated than general purpose objects.\n",
    "\n",
    "# The Pandas Library\n",
    "\n",
    "Pandas adds two important data structures that we need to know about. The 1 dimensional `Series` and the 2 dimensional `DataFrame`.\n",
    "\n",
    "## Series Objects\n",
    "\n",
    "* A Series is like a one-dimensional array (effectively a list) with a label for each observation.\n",
    "\n",
    "* You can think of a Series as being similar to a single column in a spreadsheet: a list of values.\n",
    "\n",
    "* However, the items in a Series must all be of the same data type, unlike a list.\n",
    "\n",
    "* The Series index provides a label for each observation, the default is for consecutive integer labels starting at 0.\n",
    "\n",
    "* However, a Series index does not have to be consecutive numbers, they can be non-unique numbers, non-consecutive numbers, as well as string objects or tuples.\n",
    "\n",
    "* As such, the Series itself is a bit like a list, whereas the Series index is a bit like a dictionary, and is able to return a value in the Series based on the index, like a key-value pair.\n",
    "\n",
    "* The Series object implements a large number of special behaviours (methods, procedures) that can be called on the data held in a Series to get useful outputs. This includes mathematical functions, like taking the average of all values in a numerical Series.\n",
    "\n",
    "##  DataFrame Objects\n",
    "\n",
    "* A DataFrame is a two-dimensional version of a Series object.\n",
    "\n",
    "* In effect, a DataFrame is a collection of Series objects - one Series for each column in the DataFrame.\n",
    "\n",
    "* A DataFrame is thus similar to a whole spreadsheet, like an Excel file, a STATA .dta file, a SAS file, an SPSS .sav file etc.\n",
    "\n",
    "* A DataFrame can hold columns with different data types, but as per Series above, any single column must contain vlaues of the same data type.\n",
    "\n",
    "* The dimensions are labeled in a similar way to the Series object:\n",
    "\n",
    "    * **index** - refers to the row labels\n",
    "    * **columns** - refers to the column labels\n",
    "    \n",
    " * Having indexed data allows fast look up and powerful relational operations \n",
    " \n",
    " * Each row has a label and each column has a label\n",
    "\n",
    "Most the the time you'll be working with DataFrame objects in Pandas, however, as DataFrames are composed of Series, it is very likely that through indexing, selection, creation of new columns, and analysis you'll encounter Series objects too. Luckily, DataFrame and Series objects are similar, DataFrames effectively extend the Series into two-dimensions and as such implement some additional properties and methdos that may not be relevant to Series on their own."
   ]
  },
  {
   "cell_type": "markdown",
   "metadata": {},
   "source": [
    "## Importing Python Modules (Pandas)\n",
    "\n",
    "Python is great on its own, but most of the time you need to add useful functionality by 'importing' modules which expand python  along particular lines.\n",
    "\n",
    "We'll import a module called 'pandas'.\n",
    "\n",
    "Pandas massively expands what we can do with data. It allows for: the easy reading and writing of data in loads of different formats; the manipulation, selection, aggregation, merging and joining of data tables; the creation of statistical summaries; and, analysis and modeling."
   ]
  },
  {
   "cell_type": "code",
   "execution_count": null,
   "metadata": {},
   "outputs": [],
   "source": [
    "# importing pandas is this simple!\n",
    "import pandas as pd"
   ]
  },
  {
   "cell_type": "markdown",
   "metadata": {},
   "source": [
    "The above code cell has two lines.\n",
    "\n",
    "The first line is a comment - Python (and other languages) \"skip\" anything with a # infront of it.\n",
    "\n",
    "On the second line I've written my import statement. There are two parts to this statement:\n",
    "1. import pandas\n",
    "2. as pd\n",
    "\n",
    "In python, it is sufficient just to write 'import pandas'.\n",
    "\n",
    "'pd' is a common nickname or 'alias' used for pandas - rather than write 'pandas' each time I can just write 'pd.'\n",
    "\n",
    "Many packages have nicknames that are consistently applied by members of the wider python community, such as pandas being pd. You don't have to adhere to these conventions, but you'll probably see them used a lot in training and help materials online.\n",
    "\n",
    "When you successfully import a module, you don't usually get any feedback. However, if you get it wrong you'll get an error message that should give you some idea of what happened, for instance:"
   ]
  },
  {
   "cell_type": "code",
   "execution_count": null,
   "metadata": {},
   "outputs": [],
   "source": [
    "# If you run this code cell you should get a 'ModuleNotFoundError' as there is no 'pandahs' module!\n",
    "import pandahs # by the way, I can also comment on the end of lines too!\n"
   ]
  },
  {
   "cell_type": "markdown",
   "metadata": {},
   "source": [
    "## Setting a Working Directory\n",
    "\n",
    "The 'working directory' is the place that Jupyter will try to load files from, or save files to, without any more explicit instructions. The default is usually the same folder that the notebook you are using is in.  \n",
    "\n",
    "* On Windows this might look like: C:/users/[yourName]/Intro_to_Python/Notebooks  \n",
    "\n",
    "* On Macs it might look like: /User/[yourName]/Intro_to_Python/Notebooks\n",
    "\n",
    "We can check the working directory by typing `%pwd ` in a cell. pwd = print working directory."
   ]
  },
  {
   "cell_type": "code",
   "execution_count": null,
   "metadata": {},
   "outputs": [],
   "source": [
    "%pwd"
   ]
  },
  {
   "cell_type": "markdown",
   "metadata": {},
   "source": [
    "If the working directory is not in the notebooks folder, you can use %cd (change directory) and provide an absolute or relative file path to change the working directory to."
   ]
  },
  {
   "cell_type": "code",
   "execution_count": null,
   "metadata": {},
   "outputs": [],
   "source": [
    "%cd\n"
   ]
  },
  {
   "cell_type": "markdown",
   "metadata": {},
   "source": [
    "When we want to find something - like data, folders, or notebooks - we can type an **absolute file path**, e.g. `\"C:/users/[yourName]/Documents/Training/Intro_to_Python/Notebooks\"`\n",
    "\n",
    "These give the complete address of the file or folder, however, this is often only correct for your computer. If you share your notebook the person receiving the notebook will need to update all of the file paths to reflect where the relevant files are on their system.\n",
    "\n",
    "We can also use what's called a **relative file path**. These filepaths are *relative* to whatever the working directory is at the time.\n",
    "\n",
    "Think of a file structure like a tree diagram. From a given folder you can either move up or down the file structure.\n",
    "\n",
    "```\n",
    "Intro_to_Python\n",
    "│    \n",
    "│\n",
    "└───Notebooks\n",
    "│       Intro to Python - Day 1.ipynb\n",
    "│       Intro to Python - Day 2.ipynb\n",
    "│       Vignette-User-Defined-Functions.ipynb\n",
    "│\n",
    "└───Data\n",
    "│       titanic.csv\n",
    "│\n",
    "└───Solutions\n",
    "│   │     \n",
    "│   └───Day1\n",
    "│   │       exercise1.py\n",
    "│   │       exercise2.py\n",
    "│   │       ...\n",
    "```\n",
    "\n",
    "If our current working directory is 'Notebooks', and we want to switch to 'Data', we can use the relative path:\n",
    "```terminal\n",
    "%cd ../Data\n",
    "```\n",
    "This effectively says, first go up a directory (..), so from `Notebooks` to `Intro_to_Python`. Then go down a directory into `Data`.\n",
    "\n",
    "Going up a directory always requires .., whereas going down a directory always requires you to name the intended directory."
   ]
  },
  {
   "cell_type": "markdown",
   "metadata": {},
   "source": [
    "## Reading in Data\n",
    "\n",
    "Now that you've loaded pandas, lets read some data into python and see what that looks like.\n",
    "\n",
    "Pandas can read data in a variety of different formats. In the code cell below type pd.read then press **Tab**\n",
    "\n",
    "Pressing Tab gives you all the things you can do with pandas that start with read. You probably recognise some of the data input types (e.g. Excel, SAS, Stata), while others you may not have heard of (e.g. pickle, json etc.) You can then select whichever method you wish to use.\n",
    "\n",
    "**Tab** is a really useful shortcut to know for finding or completing commands in notebooks. "
   ]
  },
  {
   "cell_type": "code",
   "execution_count": null,
   "metadata": {},
   "outputs": [],
   "source": [
    "# type pd.read then without adding a space press Tab.\n",
    "pd.read"
   ]
  },
  {
   "cell_type": "markdown",
   "metadata": {},
   "source": [
    "As you can see we can read in a large variety of data using pandas readers.\n",
    "\n",
    "(NB There isn't a specific reader for SPSS files - it is possible to read .sav files, unfortunately you need another module called savReaderWriter at the moment.)\n",
    "\n",
    "## Reading a CSV file\n",
    "\n",
    "Now that you've seen the different options, try reading a simple csv (comma separated value) dataset. \n",
    "\n",
    "To read a csv file, the only piece of information we absolutely need is the location of the file.\n",
    "\n",
    "The file is called 'titanic.csv' and is in the data folder.\n",
    "\n",
    "The code below demonstrates how you can read these data."
   ]
  },
  {
   "cell_type": "code",
   "execution_count": null,
   "metadata": {},
   "outputs": [],
   "source": [
    "titanic = pd.read_csv('../Data/titanic.csv')"
   ]
  },
  {
   "cell_type": "markdown",
   "metadata": {},
   "source": [
    "There are a number of variables within this dataset:\n",
    "* pclass = Passenger class of travel.\n",
    "* survived = 1 if the passenger survived the sinking, 0 if not.\n",
    "* name = Full name of the passenger, including title.\n",
    "* sex = Passenger gender.\n",
    "* age = Passenger age.\n",
    "* sibsp = Count of siblings or spouse also aboard.\n",
    "* Parch = Count of parents or children also aboard.\n",
    "* ticket = Ticket reference.\n",
    "* fare = fare paid.\n",
    "* cabin = Cabin number.\n",
    "* embarked = Port of embarkation. (S = Southampton (UK); C = Cherbourg (France); Q = Queenstown (Cobh, Ireland))\n",
    "\n",
    "## Exploring the Data\n",
    "\n",
    "The first thing we may want to do having read in a DataFrame is have a quick look at it to check it looks right.\n",
    "\n",
    "There are DataFrame methods we might use to do this: `.head()`, `.tail()` and `.sample()`"
   ]
  },
  {
   "cell_type": "code",
   "execution_count": null,
   "metadata": {},
   "outputs": [],
   "source": [
    "# head shows the first n rows of the dataframe (5 by default).\n",
    "titanic.head()"
   ]
  },
  {
   "cell_type": "code",
   "execution_count": null,
   "metadata": {},
   "outputs": [],
   "source": [
    "# tail shows the last n rows of a dataframe (5 by default)\n",
    "titanic.tail(3)"
   ]
  },
  {
   "cell_type": "code",
   "execution_count": null,
   "metadata": {},
   "outputs": [],
   "source": [
    "# sample shows n rows chosen at random from the dataframe (1 by default)\n",
    "titanic.sample(5)"
   ]
  },
  {
   "cell_type": "markdown",
   "metadata": {},
   "source": [
    "### DataFrame Size\n",
    "\n",
    "Knowing how many rows and columns your DataFrame has is important. Luckily, this is a *property* of the DataFrame object called `.shape`."
   ]
  },
  {
   "cell_type": "code",
   "execution_count": null,
   "metadata": {},
   "outputs": [],
   "source": [
    "# get the number of rows and columns\n",
    "# NB This line 'unpacks' the tuple returned by shape\n",
    "numrows, numcols = titanic.shape"
   ]
  },
  {
   "cell_type": "code",
   "execution_count": null,
   "metadata": {},
   "outputs": [],
   "source": [
    "# print out the number of rows and columns\n",
    "print(\"There are {} rows and {} columns in the titanic dataset\".format(numrows, numcols))"
   ]
  },
  {
   "cell_type": "code",
   "execution_count": null,
   "metadata": {},
   "outputs": [],
   "source": [
    "# number of rows using pythons inbuilt len() function (len meaning 'length')\n",
    "numrows = len(titanic)\n",
    "# print the number of rows using f-string formatting.\n",
    "print(f\"There are {numrows} rows in the titanic dataframe\")"
   ]
  },
  {
   "cell_type": "markdown",
   "metadata": {},
   "source": [
    "### DataFrame Data Types\n",
    "\n",
    "When we want to know what type of object a particular object is we can use python's `type()` function. However, `type(titanic)` will only tell us that `titantic` is a pandas DataFrame object. It won't tell us the kinds of data that are in the DataFrame. To find this out we can use the DataFrame object's `.dtypes` property.\n",
    "\n",
    "Calling `dtypes` on a DataFrame object, like `titanic` returns a pandas series, in which the row indices are the column names in `titanic` and the values are the type of data stored in each column."
   ]
  },
  {
   "cell_type": "code",
   "execution_count": null,
   "metadata": {},
   "outputs": [],
   "source": [
    "# get column data types\n",
    "titanic.dtypes"
   ]
  },
  {
   "cell_type": "markdown",
   "metadata": {},
   "source": [
    "Remember our different data types - \n",
    "\n",
    "* **int** indicates integers, 'parch' for instance is recording counts as whole numbers, such as: 0, 1, 2 etc.\n",
    "* **float** indicates 'floating-point numbers', effectively decimal numbers like in the age column.\n",
    "* **object** indicates text, also known as 'string' data. The 'name' column gives passenger full names and titles.\n",
    "* **bool** which indicates Boolean values, Booleans encode True or False values.\n",
    "\n",
    "Other data types you might see include:\n",
    "* **datetime** which encodes date and time values.\n",
    "* **category** which is a special Pandas datatype for categorical or factor variables.\n",
    "\n",
    "Sometimes the datatype will have some numbers after it, e.g. float64, int32. These numbers tell you something about the range of storage capacity as they relate to the number of bits used to encode the data. An int64 can hold a very large number, much larger than an int32 which can hold a number as large as 2,147,483,647 but no larger.\n",
    "\n",
    "Most of the time you won't have to worry about the range of the data type, but it's useful to be aware of."
   ]
  },
  {
   "cell_type": "markdown",
   "metadata": {},
   "source": [
    "### DataFrame Column Names\n",
    "\n",
    "It can be useful to extract a list of column names from a DataFrame, this is easily done by calling the `.columns` property."
   ]
  },
  {
   "cell_type": "code",
   "execution_count": null,
   "metadata": {},
   "outputs": [],
   "source": [
    "# Column names are really easy to get!\n",
    "colnames = titanic.columns\n",
    "colnames"
   ]
  },
  {
   "cell_type": "code",
   "execution_count": null,
   "metadata": {},
   "outputs": [],
   "source": [
    "# colnames is an index object, if we wanted a list we could use:\n",
    "#colnames = colnames.tolist()\n",
    "# or\n",
    "colnames = list(colnames)\n",
    "colnames"
   ]
  },
  {
   "cell_type": "markdown",
   "metadata": {},
   "source": [
    "As standard, pandas returns 'columns' as a special object called an 'index'. \n",
    "\n",
    "I've chosen to use some additional code to return it as a 'list'. Lists are inbuilt python objects. Remember:\n",
    "\n",
    "* a **tuple** or an **index** is 'immutable', this means you can't change it, it's a fixed thing in a fixed order.\n",
    "* a **list** is 'mutable', you can pretty much do whatever you want with it!\n",
    "\n",
    "Pandas returns a tuple for the `.shape` property, because the number of rows and number of columns is fixed. \n",
    "\n",
    "Other things, like a list of column names can actually be changed and updated, a list allows this whereas a tuple wouldn't."
   ]
  },
  {
   "cell_type": "markdown",
   "metadata": {},
   "source": [
    "### DataFrame Info\n",
    "\n",
    "DataFrames also have an `.info()` method which returns a concise summary of information about the Data."
   ]
  },
  {
   "cell_type": "code",
   "execution_count": null,
   "metadata": {},
   "outputs": [],
   "source": [
    "titanic.info()"
   ]
  },
  {
   "cell_type": "markdown",
   "metadata": {},
   "source": [
    "Note the different counts in the information above, this suggests that some variables are completely observed (e.g. pclass, survived), while others have missing data values (e.g. age, embarked, cabin).\n",
    "\n",
    "### Saving a DataFrame\n",
    "\n",
    "When you read a DataFrame into pandas, the data are loaded in memory. This means that any changes you make won't be reflected in the original file you loaded. If you want to preserve the changes you make to the dataset you have to export the DataFrame object to a file.\n",
    "\n",
    "Pandas has a number of file writers. Let's save the `titanic` DataFrame as an excel file."
   ]
  },
  {
   "cell_type": "code",
   "execution_count": null,
   "metadata": {},
   "outputs": [],
   "source": [
    "# File writers are prefixed with .to_ press tab to find avaialble options.\n",
    "titanic.to_excel('../Save/titanic.xlsx')"
   ]
  },
  {
   "cell_type": "markdown",
   "metadata": {},
   "source": [
    "# Selecting and Filtering DataFrames\n",
    "\n",
    "Over the following sections, we will learn how to select and filter data using pandas DataFrames. This is one of the most useful and powerful features of pandas.  \n",
    "\n",
    "It is useful for a range of reasons, from simply cutting down a large dataset into the specific sub-sets of data required for analysis, to managing the various components of a model (e.g. dependent and independent variables, training and test data etc.) and conducting specific subgroup analyses.\n",
    "\n",
    "Selecting and filtering can be done by using the indexing operator. Pandas uses the same indexing operator as lists, tuples, and dictionaries - `[]` (square brackets).\n",
    "\n",
    "However, the DataFrame indexing operator is more sophisticated than one used for the python built-in data structures, the behaviour of the DataFrame indexer depends, as you'll see, on what you pass to the DataFrame indexing operator. This allows you to pass different kinds of information to the same indexing operator and get specific outputs."
   ]
  },
  {
   "cell_type": "markdown",
   "metadata": {},
   "source": [
    "# Selecting Columns from DataFrames\n",
    "\n",
    "The simplest way to select a column from a dataframe is to use the name of that column!"
   ]
  },
  {
   "cell_type": "code",
   "execution_count": null,
   "metadata": {},
   "outputs": [],
   "source": [
    "# Select by passing the name of a column as a string.\n",
    "passengers = titanic['name']\n",
    "passengers.head()"
   ]
  },
  {
   "cell_type": "markdown",
   "metadata": {},
   "source": [
    "In the code above, the following things happen:\n",
    "1. We index the DataFrame `titanic` using the column header.\n",
    "2. Assuming 'name' is a legitimate column header, a pandas Series is returned.\n",
    "3. This Series, representing the 'name' column of the `titanic` Dataframe, is assigned to a variable called `passengers`\n",
    "5. Finally, we look at the first 5 rows of the Series object `passengers`\n",
    "\n",
    "If we want to select multiple columns, we have to first collect the column names together using a list, and then pass that to the DataFrame indexing operator."
   ]
  },
  {
   "cell_type": "code",
   "execution_count": null,
   "metadata": {},
   "outputs": [],
   "source": [
    "# First make a list of column names called cols\n",
    "cols = ['name','age']\n",
    "# Use cols to select multiple columns from marvel.\n",
    "passenger_cols = titanic[cols]\n",
    "passenger_cols.head()"
   ]
  },
  {
   "cell_type": "markdown",
   "metadata": {},
   "source": [
    "The code above is very similar to the code for selecting a single column, the main difference is that to select multiple columns we pass a list of string objects, rather that a single string object directly.\n",
    "\n",
    "However, because we have selected multiple columns, the `passenger_cols` object is actually a DataFrame, rather than a Series object.\n",
    "\n",
    "Note, that we don't have to create the `cols` list first, we can actually create it on-the-fly in the indexing operator, you just have to learn to distinguish the list constructor square brackets from the indexing square brackets!"
   ]
  },
  {
   "cell_type": "code",
   "execution_count": null,
   "metadata": {},
   "outputs": [],
   "source": [
    "# select multiple columns directly.\n",
    "passenger_cols = titanic[['name','age']]\n",
    "passenger_cols.head()"
   ]
  },
  {
   "cell_type": "code",
   "execution_count": null,
   "metadata": {},
   "outputs": [],
   "source": [
    "# Just have a look, rather than assigning to a variable\n",
    "titanic[['name','age']].sample(9)"
   ]
  },
  {
   "cell_type": "markdown",
   "metadata": {},
   "source": [
    "# Exercise 1\n",
    "\n",
    "1. Refresh your memory of the titanic data by getting:\n",
    "    * The number of rows and columns in the DataFrame\n",
    "    * The datatypes of the columns.\n",
    "    * A list of the columns names for the titanic dataset.\n",
    "2. Select the 'fare' column from the `titanic` data and show the tail of the data.\n",
    "3. Select just the last column, try using the list of column names you made earlier.\n",
    "4. Select the second, third and fourth columns, try doing it using DataFrame columns property directly."
   ]
  },
  {
   "cell_type": "code",
   "execution_count": null,
   "metadata": {},
   "outputs": [],
   "source": [
    "# Use these code cells to write your answers. Add more if necessary."
   ]
  },
  {
   "cell_type": "code",
   "execution_count": null,
   "metadata": {},
   "outputs": [],
   "source": []
  },
  {
   "cell_type": "code",
   "execution_count": 1,
   "metadata": {},
   "outputs": [],
   "source": [
    "%load ../Solutions/Day1/exercise1.py\n"
   ]
  },
  {
   "cell_type": "markdown",
   "metadata": {},
   "source": [
    "# Filtering rows from Dataframes\n",
    "\n",
    "Filtering rows from a pandas dataframe works in a very similar way to selecting columns. Simple filtering can be achieved by passing a range to the DataFrame indexer, just like slicing a list.\n",
    "\n",
    "## Simple Filtering\n",
    "\n",
    "The code below does the same thing as `.head()` and `.tail()` and can be used to show any arbitrary range of rows in a given DataFrame.\n",
    "\n",
    "Note that this is identical to slicing a list.\n",
    "\n",
    "However, we can't get individual rows by indexing as we would with a list, because a column could be named with an integer. This would mean that `dataframe[0]` is ambiguous and could refer to the first row, or a column named 0. Hence it is not allowed, `dataframe[0]` only works if you have a column named '0', which is a default for some operations in pandas.\n",
    "\n",
    "This means that selecting a single row also requires a slice."
   ]
  },
  {
   "cell_type": "code",
   "execution_count": null,
   "metadata": {},
   "outputs": [],
   "source": [
    "# first 5 rows\n",
    "titanic[:5] # or - titanic[:5]"
   ]
  },
  {
   "cell_type": "code",
   "execution_count": null,
   "metadata": {},
   "outputs": [],
   "source": [
    "# last 5 rows\n",
    "titanic[-5:]"
   ]
  },
  {
   "cell_type": "code",
   "execution_count": null,
   "metadata": {},
   "outputs": [],
   "source": [
    "# arbitrary slice\n",
    "titanic[102:109]"
   ]
  },
  {
   "cell_type": "code",
   "execution_count": null,
   "metadata": {},
   "outputs": [],
   "source": [
    "# 1 row\n",
    "titanic[123:124]"
   ]
  },
  {
   "cell_type": "markdown",
   "metadata": {},
   "source": [
    "## Conditional Filtering\n",
    "\n",
    "Most filtering is a more involved operation where we first specify the condition(s) that must be met in order for rows to be included in or excluded from the output dataframe.\n",
    "\n",
    "## The Filtering Process\n",
    "\n",
    "The way that pandas filters rows can be though of as a two-step process.\n",
    "\n",
    "1. Create a 'mask' that specifies inclusion and exclusion for each row in the dataframe.\n",
    "2. Mask the dataframe to return the subset of rows that are included.\n",
    "\n",
    "This sounds a bit abstract, so let's consider what this might look like in practice.\n",
    "\n",
    "Imagine you have the following (very simple) dataframe, called 'catdog':\n",
    "\n",
    "index | Animal | Name\n",
    "---| --- | ---\n",
    "0 | Cat | Catalie Portman\n",
    "1 | Cat | Pico de Gato\n",
    "2 | Dog | Chewbarka\n",
    "3 | Cat | JK Meowling\n"
   ]
  },
  {
   "cell_type": "markdown",
   "metadata": {},
   "source": [
    "You want to filter so you just have 'Cat' rows. Therefore you design the following condition:\n",
    "\n",
    "```python \n",
    "mask = catdog['Animal'] == 'Cat'\n",
    "```\n",
    "\n",
    "There are a lot of = (equals) in the above statement.\n",
    "* The first = indicates assignment, we are assigning the outcome of the expression on the right to the variable on the left of the equals sign.\n",
    "* The second double equals sign, ==, indicates a comparison, in this case it assesses whether each value in the 'Animal' column of catdog is equal to the text 'Cat'. If python finds that the column value and 'Cat' are the same it assigns a True value, and if not a False value.\n",
    "\n",
    "This produces a 'mask' which is a Series of `True` and `False` values against the DataFrame index.\n",
    "\n",
    "index | &#xfeff;\n",
    "---|---\n",
    "0 | True\n",
    "1 | True\n",
    "2 | False\n",
    "3 | True"
   ]
  },
  {
   "cell_type": "markdown",
   "metadata": {},
   "source": [
    "Now, you just have to pass the mask to the original dataframe to complete the filtering process.\n",
    "\n",
    "```python\n",
    "catdog2 = catdog[mask]\n",
    "catdog2\n",
    "```\n",
    "This subsets the catdog dataframe based on the True (include) and False (exclude) values. Producing:\n",
    "\n",
    "index | Animal | Name\n",
    "---| --- | ---\n",
    "0 | Cat | Catalie Portman\n",
    "1 | Cat | Pico de Gato\n",
    "3 | Cat | JK Meowling"
   ]
  },
  {
   "cell_type": "markdown",
   "metadata": {},
   "source": [
    "The row that had a 'Dog' value for 'Animal', has been removed. Note though that the index has remained the same as the original. Sometimes it is important to reset the index after filtering to restore the index to sequential integers starting at 0.\n",
    "\n",
    "If you want to reset the index - you can do so by using this code - \n",
    "\n",
    "```python\n",
    "catdog2 = catdog2.reset_index(drop = True)\n",
    "catdog2\n",
    "```\n",
    "index | Animal | Name\n",
    "---| --- | ---\n",
    "0 | Cat | Catalie Portman\n",
    "1 | Cat | Pico de Gato\n",
    "2 | Cat | JK Meowling"
   ]
  },
  {
   "cell_type": "markdown",
   "metadata": {},
   "source": [
    "See above that the index has been reset to be sequential.\n",
    "\n",
    "## Filtering Data\n",
    "\n",
    "Just like with simple conditional statements, we filter by using logical comparison statements\n",
    "\n",
    "* == 'is equal to' notice the double == and watch out! A single one would be assigning to a variable!\n",
    "* != 'does not equal' - the opposite of ==\n",
    "* $\\gt$  greater than\n",
    "* $\\lt$ less than\n",
    "* $\\gt$= greater than or equal too\n",
    "* $\\lt$= less than or equal too.\n",
    "\n",
    "In addition, pandas includes some functions to make particular comparisons easier:\n",
    "\n",
    "* .isin(list) which we can use for multiple conditions \n",
    "* .between() which we can use to specify upper and lower bounds\n",
    "\n",
    "Finally, the ~ (tilde) allows us to flip or invert an expression. Basically, if an expression returns `[True, True, False]`, the same expression with a ~ in front of it will return `[False, False, True]`.\n",
    "\n",
    "However, we'll concentrate on the simple operators in the top list for now."
   ]
  },
  {
   "cell_type": "code",
   "execution_count": null,
   "metadata": {},
   "outputs": [],
   "source": [
    "# Filter titanic for 3rd class passengers only\n",
    "\n",
    "# First make the mask\n",
    "mask = titanic['pclass'] == 3\n",
    "# Have a quick look at the mask\n",
    "mask.sample(5) # 5 rows in the mask."
   ]
  },
  {
   "cell_type": "code",
   "execution_count": null,
   "metadata": {},
   "outputs": [],
   "source": [
    "# Now filter the titanic dataframe with this mask\n",
    "thirdclass = titanic[mask]\n",
    "thirdclass.head()"
   ]
  },
  {
   "cell_type": "code",
   "execution_count": null,
   "metadata": {},
   "outputs": [],
   "source": [
    "thirdclass.shape"
   ]
  },
  {
   "cell_type": "code",
   "execution_count": null,
   "metadata": {},
   "outputs": [],
   "source": [
    "# Use the same approach for other logical statements.\n",
    "mask = titanic['fare'] > 200\n",
    "titanic[mask].head(7)"
   ]
  },
  {
   "cell_type": "markdown",
   "metadata": {},
   "source": [
    "# Exercise 2\n",
    "\n",
    "1. Show the row for the passenger named: 'Birkeland, Mr. Hans Martin Monsen'\n",
    "2. How many passengers in the dataset are male?\n",
    "3. How many passengers are under 18 years of age?\n",
    "4. What proportion of passenger in the dataset survived?"
   ]
  },
  {
   "cell_type": "code",
   "execution_count": null,
   "metadata": {},
   "outputs": [],
   "source": [
    "# Type your code here, continue by adding new code cells is you wish.\n"
   ]
  },
  {
   "cell_type": "code",
   "execution_count": null,
   "metadata": {},
   "outputs": [],
   "source": [
    "# exercise 2 solutions\n",
    "%load ../Solutions/Day1/Exercise2.py"
   ]
  },
  {
   "cell_type": "markdown",
   "metadata": {},
   "source": [
    "## Using Multiple Conditions to Filter\n",
    "\n",
    "So far, we've only filtered according to individual conditions set on a single column, but there is no reason we can't use multiple conditions to filter by several conditions and/or columns at once. However, we do need to think about how the conditions relate to each other, we have two options to establish these relationships.\n",
    "\n",
    "* **and** relationships are given by the **&** (ampersand) symbol. This implies both/all conditions must be met for a row to evaluate to True.\n",
    "* **or** relationships are given by the **|** (pipe) symbol. This implies that if _any_ of the conditions can be met a given row evaluates to True.\n",
    "\n",
    "You can think of `.isin()` and `.between()` as being special versions of multiple condition filters.\n",
    "\n",
    "* isin() is basically just a lot of linked **or** statements - *value1* **or** *value2* **or** *value3* etc.\n",
    "* between() is an **and** condition - greater than (or equal to) the lower bound **and** less than (or equal to) the upper bound.\n",
    "\n",
    "Let's again take a simple example to illustrate this with the `catdog` dataframe:\n",
    "\n",
    "index | Animal | Name | Age\n",
    "---| --- | --- | ---\n",
    "0 | Cat | Catalie Portman | 3.0\n",
    "1 | Cat | Pico de Gato | 5.0\n",
    "2 | Dog | Chewbarka | 1.0\n",
    "3 | Cat | JK Meowling | 7.0\n",
    "4 | Dog | K-9 | 11.0"
   ]
  },
  {
   "cell_type": "markdown",
   "metadata": {},
   "source": [
    "If you wanted to select all animals that are cats **and** who are over 4 years old, you could do the following:\n",
    "\n",
    "```python\n",
    "mask = (catdog['Animal'] == 'Cat') & (catdog['Age'] > 4.0)\n",
    "\n",
    "catdog[mask]\n",
    "```\n",
    "index | Animal | Name | Age\n",
    "---| --- | --- | ---\n",
    "1 | Cat | Pico de Gato | 5.0\n",
    "3 | Cat | JK Meowling | 7.0"
   ]
  },
  {
   "cell_type": "markdown",
   "metadata": {},
   "source": [
    "Only Cats over 4 years old have been included in the filter.\n",
    "\n",
    "However, if you wanted to select all animals that are either cats **or** are over 4 years old, you could instead do:\n",
    "\n",
    "```python\n",
    "mask = (catdog['Animal'] == 'Cat') | (catdog['Age'] > 4.0)\n",
    "\n",
    "catdog[mask]\n",
    "```\n",
    "index | Animal | Name | Age\n",
    "---| --- | --- | ---\n",
    "0 | Cat | Catalie Portman | 3.0\n",
    "1 | Cat | Pico de Gato | 5.0\n",
    "3 | Cat | JK Meowling | 7.0\n",
    "4 | Dog | K-9 | 11.0\n"
   ]
  },
  {
   "cell_type": "code",
   "execution_count": null,
   "metadata": {},
   "outputs": [],
   "source": [
    "# Let's try some multiple condition filters with the titanic data\n",
    "# First class passengers who are women.\n",
    "mask = (titanic['pclass'] == 1) & (titanic['sex']== 'female')\n",
    "titanic[mask].head()"
   ]
  },
  {
   "cell_type": "code",
   "execution_count": null,
   "metadata": {},
   "outputs": [],
   "source": [
    "# Women or children\n",
    "mask = (titanic['sex'] == 'female') | (titanic['age'] < 18)\n",
    "titanic[mask].head()"
   ]
  },
  {
   "cell_type": "code",
   "execution_count": null,
   "metadata": {},
   "outputs": [],
   "source": [
    "# Try the special functions for multiple selection. First .isin()\n",
    "# Passeners from Cherbourg ('C') or Queenstown ('Q')\n",
    "titanic[titanic['embarked'].isin(['C','Q'])].sample(7)"
   ]
  },
  {
   "cell_type": "code",
   "execution_count": null,
   "metadata": {},
   "outputs": [],
   "source": [
    "# Now, .between()\n",
    "# passengers who paid between 100 and 250\n",
    "titanic[titanic['fare'].between(100,250)].head()"
   ]
  },
  {
   "cell_type": "markdown",
   "metadata": {},
   "source": [
    "# Exercise 3\n",
    "\n",
    "1. Select passengers who are in classes 2 and 3, what percentage of passengers is this?\n",
    "2. How many passengers who do not have siblings or spouses ('sibsp'), or parents or children ('parch') on the boat?\n",
    "3. What proportion of passengers who 'embarked' in Cherbourg ('C') or Queenstown ('Q') survived? "
   ]
  },
  {
   "cell_type": "code",
   "execution_count": null,
   "metadata": {},
   "outputs": [],
   "source": [
    "# type your code here, add cells as needed.\n"
   ]
  },
  {
   "cell_type": "code",
   "execution_count": null,
   "metadata": {},
   "outputs": [],
   "source": [
    "# Exercise 3 solutions\n",
    "%load ../Solutions/Day1/exercise3.py"
   ]
  },
  {
   "cell_type": "markdown",
   "metadata": {},
   "source": [
    "# Generating New Variables\n",
    "\n",
    "There are a number of approaches to adding new columns of data to a DataFrame, and depending on what you want to achieve some of these can be quite complicated. We start with simple examples and build up to more sophisticated approaches later.\n",
    "\n",
    "## Creating Binary Variables\n",
    "\n",
    "We can assign a condition to a new column to create a binary variable in much the same way as we might create a mask for filtering rows.\n",
    "\n",
    "Imagine that instead of filtering rows, we instead wanted to assign a 1 or a 0 to a new column depending on whether that condition was met. We can do this quite simply due to the fact that in python (and many other languages) a `True` value is equivalent to 1, and a `False` value is equivalent to 0."
   ]
  },
  {
   "cell_type": "code",
   "execution_count": null,
   "metadata": {},
   "outputs": [],
   "source": [
    "# First create the condition as a True/False Series\n",
    "cond = titanic['sex'] == 'female'\n",
    "\n",
    "# Now assign the condition variable cond to a new column, but as an integer type.\n",
    "titanic['female'] = cond.astype(int)\n",
    "titanic.head()"
   ]
  },
  {
   "cell_type": "markdown",
   "metadata": {},
   "source": [
    "In the code above, a condition is specified, returing a boolean Series. This Series object is converted to an integer data type and assigned to a new column in the `titanic` DataFrame called 'female'. If 'female' already existed, this code would have overwritten whatever was already in runtime.\n",
    "\n",
    "Using a condition we can either store `True` and `False` values directly, or convert them to their integer representations `1` and `0`. If we wanted to use arbitrary values for our new variable we can create a dictionary and `.map()` the dictionary to the column."
   ]
  },
  {
   "cell_type": "code",
   "execution_count": null,
   "metadata": {},
   "outputs": [],
   "source": [
    "# Use YES and NO instead of True and False.\n",
    "titanic['female'] = cond.map({True:'YES',False:'NO'})\n",
    "titanic.head()"
   ]
  },
  {
   "cell_type": "markdown",
   "metadata": {},
   "source": [
    "Note, this `.map()` approach is also good for aggregating (dissolving) or recoding categorical variables. The dictionary can be of an arbitrary length and act as a lookup, this is a benefit of the key:value structure. Note though that pandas also implements its own `category` variable. We're not going to discuss it here as it's not strictly necessary, but it can be useful. Check the pandas docs for more information."
   ]
  },
  {
   "cell_type": "markdown",
   "metadata": {},
   "source": [
    "## Constant Value Variables\n",
    "\n",
    "Constant values can also be assigned to all rows in a DataFrame with a single number or string, with the data type being dictated by the format of the value being assigned. This may be useful in the context of updating cells, which we'll discuss later on."
   ]
  },
  {
   "cell_type": "code",
   "execution_count": null,
   "metadata": {},
   "outputs": [],
   "source": [
    "# New column of ints\n",
    "titanic['int_zeroes'] = 0\n",
    "# New column of floats\n",
    "titanic['float_ones'] = 1.0 # note floating point.\n",
    "# New column of strings\n",
    "titanic['string_twos'] = 'two'\n",
    "titanic.head()"
   ]
  },
  {
   "cell_type": "markdown",
   "metadata": {},
   "source": [
    "## Creating Variables Based on Existing Columns\n",
    "\n",
    "We can simply assign the values of existing columns to new columns using assignment."
   ]
  },
  {
   "cell_type": "code",
   "execution_count": null,
   "metadata": {},
   "outputs": [],
   "source": [
    "titanic['name2'] = titanic['name']\n",
    "titanic.head(6)"
   ]
  },
  {
   "cell_type": "markdown",
   "metadata": {},
   "source": [
    "We can also use mathematical expressions with one or more existing columns to create new columns."
   ]
  },
  {
   "cell_type": "code",
   "execution_count": null,
   "metadata": {},
   "outputs": [],
   "source": [
    "titanic['family_size'] = titanic['sibsp'] + titanic['parch'] + 1\n",
    "titanic.head(6)"
   ]
  },
  {
   "cell_type": "markdown",
   "metadata": {},
   "source": [
    "## Classifying Numerical Values using pd.cut() and pd.qcut()\n",
    "\n",
    "New columns can be created directly when classifying numerical data using `pd.cut()` or `pd.qcut()`\n",
    "\n",
    "`cut()` has two behaviours. The default is to create a given number of equal-sized bins (e.g. the width of all bins are the same), however if you provide bins it will cut according to those bins.\n",
    "\n",
    "`qcut()` is similar, but rather than equal-sized bins it created bins that have (roughly) equal numbers of observations in them. These bins could have very different widths."
   ]
  },
  {
   "cell_type": "code",
   "execution_count": null,
   "metadata": {},
   "outputs": [],
   "source": [
    "# Divide fare into 3 equally sized classes.\n",
    "titanic['fare_3class'] = pd.cut(titanic['fare'], 3, labels=['low','mid','high'])\n",
    "titanic.head()"
   ]
  },
  {
   "cell_type": "code",
   "execution_count": null,
   "metadata": {},
   "outputs": [],
   "source": [
    "# Divide fare into tertile.\n",
    "titanic['fare_tertiles'] = pd.qcut(titanic['fare'], 3, labels=['low','mid','high'])\n",
    "titanic.head()"
   ]
  },
  {
   "cell_type": "markdown",
   "metadata": {},
   "source": [
    "## Removing (Dropping) Columns\n",
    "\n",
    "Not withstanding the fact that we could select the specific columns we want and exclude ones we don't want in our dataset, we also have a couple of options for dropping or deleting a column from a pandas DataFrame.\n",
    "\n",
    "Let's delete the constant valued columns we established earlier: 'int_zeroes', 'float_ones', 'string_twos'.\n",
    "\n",
    "The first option we have is the built in python statement `del`. Otherwise we can use the `.drop()` method.\n",
    "\n",
    "Note, that pandas is in active development, so sometimes parameters change as the library matures. If your `.drop()` method doesn't understand the code below then it may be an older version. try this instead:\n",
    "```python\n",
    "titanic.drop(['int_zeroes','float_ones','string_twos'], axis=1, inplace=True)\n",
    "```\n",
    "Note that this syntax is still compatible with newer versions of pandas, so old code won't break in this case."
   ]
  },
  {
   "cell_type": "code",
   "execution_count": null,
   "metadata": {},
   "outputs": [],
   "source": [
    "# drop a column with del\n",
    "del titanic['int_zeroes']\n",
    "titanic.head()"
   ]
  },
  {
   "cell_type": "code",
   "execution_count": null,
   "metadata": {},
   "outputs": [],
   "source": [
    "# drop using the drop method\n",
    "titanic.drop(columns=['float_ones','string_twos'], inplace = True)\n",
    "titanic.head()"
   ]
  },
  {
   "cell_type": "markdown",
   "metadata": {},
   "source": [
    "# Exercise 4\n",
    "\n",
    "1. Create a new binary variable called 'child', it should have the value 1 when the passenger is under 18 and 0 otherwise.\n",
    "2. Create a new variable called 'embarked_city', map 'S' to 'Southampton', 'C' to 'Cherbourg', and 'Q' to 'Queenstown'.\n",
    "3. Create a new variable called 'surname', the value should be the surname part of the 'name' field.\n",
    "    * Use `titanic['name'].str.split(',',expand=True)[0]` to get surnames.\n",
    "    * Explore this code and make sure you understand what's going on.\n",
    "    * How many unique surnames are there (hint: try `.unique()` or `.nunique()` on the new column."
   ]
  },
  {
   "cell_type": "code",
   "execution_count": null,
   "metadata": {},
   "outputs": [],
   "source": [
    "# Start your code here\n"
   ]
  },
  {
   "cell_type": "code",
   "execution_count": null,
   "metadata": {},
   "outputs": [],
   "source": [
    "# Exercise 4 solutions\n",
    "%load ../Solutions/Day1/exercise4.py"
   ]
  },
  {
   "cell_type": "markdown",
   "metadata": {},
   "source": [
    "In that last question we made use of a special module on the `Series` object called `str`, this exposes all the string methods we've encounter previous to a column of string data, but in a vectorised form. This means you can manipulate text is a row-by-row manner with a single method call. For example:"
   ]
  },
  {
   "cell_type": "code",
   "execution_count": null,
   "metadata": {},
   "outputs": [],
   "source": [
    "# lower case names\n",
    "titanic['name'].str.lower().head()"
   ]
  },
  {
   "cell_type": "code",
   "execution_count": null,
   "metadata": {},
   "outputs": [],
   "source": [
    "# Press tab after the last fullstop to see the string methods available.\n",
    "# Select one and use shift-tab to explore it further.\n",
    "pd.Series.str."
   ]
  },
  {
   "cell_type": "code",
   "execution_count": null,
   "metadata": {},
   "outputs": [],
   "source": [
    "# in this example we are trying to extract all the titles from the names field.\n",
    "titanic['name'].str.split(',',expand=True)[1].str.split('.',expand=True)[0].head()"
   ]
  },
  {
   "cell_type": "markdown",
   "metadata": {},
   "source": [
    "# Consolidation\n",
    "\n",
    "## Reminder of Learning Objectives\n",
    "\n",
    "By the end of the session, participants will be able to:\n",
    "* Use the Jupyter notebook environment, which is what we'll use to interact with python\n",
    "* Identify and describe python's basic data types - integers, floats, strings and Booleans.\n",
    "* Recognise python's general data structure objects - lists, tuples, and dictionaries.\n",
    "* Explain the basics of `pandas`, python's data manipulation and analysis library, including:\n",
    "    * Series and DataFrame objects\n",
    "    * Reading data into python using `pandas`\n",
    "    * Getting information about DataFrames\n",
    "* Apply some simple DataFrame manipulation approaches, including:\n",
    "    * Selecting columns\n",
    "    * Filtering rows\n",
    "    * Generating new variables\n",
    "    \n",
    "## Next Session\n",
    "\n",
    "Focus on basic analysis:\n",
    "* Descriptive statistics.\n",
    "* Aggregation and cross-tabulation.\n",
    "* Merging and updating."
   ]
  }
 ],
 "metadata": {
  "kernelspec": {
   "display_name": "Python 3",
   "language": "python",
   "name": "python3"
  },
  "language_info": {
   "codemirror_mode": {
    "name": "ipython",
    "version": 3
   },
   "file_extension": ".py",
   "mimetype": "text/x-python",
   "name": "python",
   "nbconvert_exporter": "python",
   "pygments_lexer": "ipython3",
   "version": "3.8.5"
  }
 },
 "nbformat": 4,
 "nbformat_minor": 4
}
