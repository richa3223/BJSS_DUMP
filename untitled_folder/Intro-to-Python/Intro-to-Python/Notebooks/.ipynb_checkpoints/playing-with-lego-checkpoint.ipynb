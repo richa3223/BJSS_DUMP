{
 "cells": [
  {
   "cell_type": "markdown",
   "metadata": {},
   "source": [
    "<div class=\"row\">\n",
    "    <div class=\"columm\">\n",
    "        <h1 style=\"position: absolute;font-size: 300%;\">Data Analysis with Python: </h1>\n",
    "        <br>\n",
    "        <h1 style=\"position: absolute;font-size: 300%;\">Playing with Lego</h1>\n",
    "    </div>\n",
    "    <div class=\"column\">\n",
    "        <img src=\"https://www.bjss.com/wp-content/uploads/BJSS.svg\"\n",
    "             alt=\"BJSS Logo\"\n",
    "             align=\"right\" \n",
    "             width = \"200\"\n",
    "             style=\"margin: 0px 60px\"\n",
    "             />\n",
    "    </div>\n",
    "</div>"
   ]
  },
  {
   "cell_type": "markdown",
   "metadata": {},
   "source": [
    "## Table of Contents\n",
    "<a href=\"#Preamble\"><font size=\"+1\">Preamble</font></a>\n",
    "* Task description\n",
    "* Advice\n",
    "* Testing your results\n",
    "* Let's get started!\n",
    "\n",
    "<a href=\"#Data-exploration\"><font size=\"+1\">1. Data exploration: Picking up our Lego</font></a>\n",
    "* Let's look at our Lego: Viewing the first n rows, last n rows, a random sample of rows, and the columns\n",
    "* How much Lego do we have: Total number of rows & columns\n",
    "* Is there any Lego missing? Number of null rows per column\n",
    "* Describing our Lego: Descriptive statistics\n",
    "* (Optional) What else could we explore? \n",
    "* Summary\n",
    "\n",
    "<a href=\"#Data-cleaning-preparation\"><font size=\"+1\">2. Data cleaning: Tidying our Lego</font></a>\n",
    "* Labelling our Lego properly: Making column names consistent\n",
    "* Getting our Lego in order: Ordering our columns\n",
    "* Where's our Lego from? Cleaning up the country codes in the `'Country'` column\n",
    "* What types of Lego have we got? Investigating `'ThemeName'`\n",
    "* How do we know what set of Lego we're looking at? Comparing `'SetName'` and `'ProdID'`\n",
    "* **Taking stock: What have we done so far? (Part 1)**\n",
    "* Who can play with our Lego? The `'Ages'` column\n",
    "* How difficult is our Lego? The `ReviewDifficulty` column\n",
    "* How expensive is our Lego? The `'ListPrice'` column\n",
    "* How much does our Lego weigh? The `'WeightGrs'` column\n",
    "* How big are our Lego sets? The `'PieceCount'` column \n",
    "* (Optional) What other cleaning could we do?\n",
    "\n",
    "<a href=\"#Data-extension\"><font size=\"+1\">3. Data extension: Let's get more Lego!</font></a>\n",
    "* Adding columns for country names, and currencies\n",
    "* (Optional) Adding an \"EndSellingDate\" column \n",
    "* **Taking stock: What have we done so far? (Part 2)**\n",
    "\n",
    "<a href=\"#Data-interrogation\"><font size=\"+1\">4. Data interrogation: Finally, playing with our Lego</font></a>\n",
    "* Which country has highest prices as an average?\n",
    "* Which country launched each product first?\n",
    "* Number of unique items offered globally and by country\n",
    "* The sets in each theme\n",
    "* (Optional) And more playing with Lego!!!\n",
    "-----"
   ]
  },
  {
   "cell_type": "markdown",
   "metadata": {},
   "source": [
    "<div class=\"row\">\n",
    "    <div class=\"column\">\n",
    "        <h1 style=\"font-size: 300%;\">Preamble</h1>\n",
    "        <h2 style=\"font-size: 200%;\">Task description</h2>\n",
    "        <p><b>It's time to play with some Lego</b> (data)!!!<p>\n",
    "        <p>\n",
    "           You have been presented with a dataset showing information about the sales of different sets of lego (<a href=\"Documents/Analysis%20Academy%20-%20Materials/Python%20exercises/exercise_lego/data/LegoDataRawData.csv\">LegoDataRawData.csv</a> - within the '/Data' directory). These sets have been sold across a number of different countries, and launched at different points in time. \n",
    "\n",
    "Your job as a Data Analyst is to interrogate this data to understand the make up of lego sales, product offerings, and much more. Before that can happen, the data must be cleaned and modified to aid your analysis, and later, presentation. This notebook sets out the steps that you'll want to take in such a process, explaining the tasks you'll want to perform at each stage, but leaving the implementation to you!\n",
    "        </p>\n",
    "    </div>\n",
    "    <div class=\"column\">\n",
    "        <h2 style=\"font-size: 200%;\">Advice</h2>\n",
    "        <p>\n",
    "           Given this, this is more of a technical exercise than a business one, but you are encouraged to keep a critical mind throughout the process. Where would we record the kind of decisions that are being made? How would you present the findings? What other options might there be at each stage, and what else could be explored?\n",
    "        </p>\n",
    "        <img src=\"https://phoenixts.com/wp-content/uploads/2019/08/computer-desk-5.jpg\"\n",
    "             alt=\"Lego analyst\"\n",
    "             align=\"right\" \n",
    "             width = \"400\"\n",
    "             style=\"margin: 0px 60px\"\n",
    "             />\n",
    "    </div>\n",
    "</div>\n"
   ]
  },
  {
   "cell_type": "markdown",
   "metadata": {},
   "source": [
    "## Testing your results\n",
    "\n",
    "Throughout this notebook, there are tasks set out in '**Task**' sections, followed by code blocks with a comment like so:\n",
    "\n",
    "```python\n",
    "# TODO - Add your code below\n",
    "```\n",
    "\n",
    "Add your code in those cells, and run them. Once you're happy it's had the desired effect, you can move on through the notebook. For more essential tasks, there will be a '**TEST**' codeblock below, which you can run to test whether your code has had the desired effect. If it has, you'll see a statement like so:\n",
    "\n",
    "```python\n",
    "\"( ͡❛ ͜ʖ ͡❛) Good job! Lego's looking pretty good.\"\n",
    "```\n",
    "\n",
    "If it unfortunately hasn't quite worked, you'll see something like:\n",
    "\n",
    "```python\n",
    "\"( ͡❛ ︵ ͡❛) This Lego still needs some cleaning...\"\n",
    "```\n",
    "\n",
    "Run the code block below to ensure you can test your answers!"
   ]
  },
  {
   "cell_type": "code",
   "execution_count": 1,
   "metadata": {},
   "outputs": [
    {
     "name": "stdout",
     "output_type": "stream",
     "text": [
      "SUCCESS: Assertion set up successful\n"
     ]
    }
   ],
   "source": [
    "# Add the location of the assertions module to the PYTHONPATH variable\n",
    "import sys\n",
    "import os\n",
    "\n",
    "if sys.platform == 'win32':\n",
    "    slash = \"\\\\\"\n",
    "else:\n",
    "    slash = \"/\"\n",
    "    \n",
    "notebook_dir = sys.path[0]\n",
    "root_path = notebook_dir[0:notebook_dir.rfind(slash)]\n",
    "\n",
    "assertions_path = rf'{root_path}{slash}Assertions'\n",
    "\n",
    "if not os.path.exists(assertions_path):\n",
    "    print('ERROR: Assertion set up has failed - contact a tutor')\n",
    "else:\n",
    "    sys.path.append(assertions_path)\n",
    "    # If it's worked, we can import assertions\n",
    "    import assertions\n",
    "    print('SUCCESS: Assertion set up successful')"
   ]
  },
  {
   "cell_type": "markdown",
   "metadata": {},
   "source": [
    "## Let's get started!\n",
    "\n",
    "Before we begin, we'll import `pandas`, giving it the alias `pd`, and import our dataset into a `pandas` DataFrame variable called `df`.\n",
    "\n",
    "### Task: \n",
    "\n",
    "* Import the Lego dataset from the path '../Data/LegoDataRawData.csv' into a `pandas` dataframe, called `df`, and run the test code to check it's worked"
   ]
  },
  {
   "cell_type": "code",
   "execution_count": 2,
   "metadata": {},
   "outputs": [],
   "source": [
    "## TODO: Add your own code below!\n"
   ]
  },
  {
   "cell_type": "code",
   "execution_count": 3,
   "metadata": {},
   "outputs": [
    {
     "name": "stdout",
     "output_type": "stream",
     "text": [
      "( ͡❛ ͜ʖ ͡❛) Good job! Lego's looking pretty good.\n"
     ]
    }
   ],
   "source": [
    "# Test your code here!\n",
    "try:\n",
    "    assertions.data_loaded(df)\n",
    "except:\n",
    "    print(\"The variable df isn't defined\")\n"
   ]
  },
  {
   "cell_type": "markdown",
   "metadata": {},
   "source": [
    "------\n",
    "<div class=\"row\">\n",
    "    <div class=\"column\">\n",
    "        <h1 style=\"font-size: 300%;\">1. Data exploration: Picking up our Lego</h1>\n",
    "        <p>\n",
    "            The first stage in any data analysis workflow is exploration. Let's look at the data in a number of different ways, to identify what kind of questions we might be able to ask, and what steps we might need to take before we can answer those questions.            \n",
    "        </p>\n",
    "    </div>\n",
    "</div>"
   ]
  },
  {
   "cell_type": "markdown",
   "metadata": {},
   "source": [
    "<div class=\"column\">\n",
    "        <img src=\"http://3.bp.blogspot.com/-zaiE5Nm86u4/U2s_FIzRYxI/AAAAAAAAAtA/0xzHw8dwwdM/s1600/image001-726789.png\"\n",
    "             alt=\"Lego data workflow\"\n",
    "             align=\"central\" \n",
    "             width = \"500\"\n",
    "             style=\"margin: 0px 100px\"\n",
    "             />\n",
    "    </div>"
   ]
  },
  {
   "cell_type": "markdown",
   "metadata": {},
   "source": [
    "Before each of the steps above can happen, we better understand what all this Lego looks like!\n"
   ]
  },
  {
   "cell_type": "markdown",
   "metadata": {},
   "source": [
    "## Viewing the first n rows, last n rows, a random sample of rows, and the columns of our dataframe\n",
    "\n",
    "Now we've got our dataframe, `df`, let's take a look at some of the rows, and the columns present."
   ]
  },
  {
   "cell_type": "markdown",
   "metadata": {},
   "source": [
    "### Task: \n",
    "\n",
    "* Write commands below to display: \n",
    "    * The columns of `df`\n",
    "    * The first 5 rows\n",
    "    * The last 5 rows, and\n",
    "    * A random sample of 5 rows\n"
   ]
  },
  {
   "cell_type": "code",
   "execution_count": 4,
   "metadata": {},
   "outputs": [
    {
     "data": {
      "text/plain": [
       "Index(['Unnamed: 0', 'ages', 'list_price', 'num reviews', 'piece_count',\n",
       "       'prod Desc', 'prod_id', 'prod_long_desc', 'review difficulty',\n",
       "       'set_name', 'themename', 'val_star_rating', 'country', 'LaunchDate',\n",
       "       'weight_grs'],\n",
       "      dtype='object')"
      ]
     },
     "execution_count": 4,
     "metadata": {},
     "output_type": "execute_result"
    }
   ],
   "source": [
    "## TODO: Add your own code below!\n"
   ]
  },
  {
   "cell_type": "code",
   "execution_count": 5,
   "metadata": {},
   "outputs": [
    {
     "data": {
      "text/html": [
       "<div>\n",
       "<style scoped>\n",
       "    .dataframe tbody tr th:only-of-type {\n",
       "        vertical-align: middle;\n",
       "    }\n",
       "\n",
       "    .dataframe tbody tr th {\n",
       "        vertical-align: top;\n",
       "    }\n",
       "\n",
       "    .dataframe thead th {\n",
       "        text-align: right;\n",
       "    }\n",
       "</style>\n",
       "<table border=\"1\" class=\"dataframe\">\n",
       "  <thead>\n",
       "    <tr style=\"text-align: right;\">\n",
       "      <th></th>\n",
       "      <th>Unnamed: 0</th>\n",
       "      <th>ages</th>\n",
       "      <th>list_price</th>\n",
       "      <th>num reviews</th>\n",
       "      <th>piece_count</th>\n",
       "      <th>prod Desc</th>\n",
       "      <th>prod_id</th>\n",
       "      <th>prod_long_desc</th>\n",
       "      <th>review difficulty</th>\n",
       "      <th>set_name</th>\n",
       "      <th>themename</th>\n",
       "      <th>val_star_rating</th>\n",
       "      <th>country</th>\n",
       "      <th>LaunchDate</th>\n",
       "      <th>weight_grs</th>\n",
       "    </tr>\n",
       "  </thead>\n",
       "  <tbody>\n",
       "    <tr>\n",
       "      <th>0</th>\n",
       "      <td>0</td>\n",
       "      <td>4+</td>\n",
       "      <td>2.4900</td>\n",
       "      <td>180.0</td>\n",
       "      <td>1.0</td>\n",
       "      <td>Everyone needs one!</td>\n",
       "      <td>630</td>\n",
       "      <td>This tool makes it a snap to pull those small ...</td>\n",
       "      <td>Very Easy</td>\n",
       "      <td>Brick Separator</td>\n",
       "      <td>Classic</td>\n",
       "      <td>4.6</td>\n",
       "      <td>US</td>\n",
       "      <td>25/06/2017</td>\n",
       "      <td>2003</td>\n",
       "    </tr>\n",
       "    <tr>\n",
       "      <th>1</th>\n",
       "      <td>1</td>\n",
       "      <td>4+</td>\n",
       "      <td>2.2724</td>\n",
       "      <td>180.0</td>\n",
       "      <td>1.0</td>\n",
       "      <td>Everyone needs one!</td>\n",
       "      <td>630</td>\n",
       "      <td>This tool makes it a snap to pull those small ...</td>\n",
       "      <td>Very Easy</td>\n",
       "      <td>Brick Separator</td>\n",
       "      <td>Classic</td>\n",
       "      <td>4.6</td>\n",
       "      <td>AU</td>\n",
       "      <td>20/02/2017</td>\n",
       "      <td>2003</td>\n",
       "    </tr>\n",
       "    <tr>\n",
       "      <th>2</th>\n",
       "      <td>2</td>\n",
       "      <td>4+</td>\n",
       "      <td>3.0378</td>\n",
       "      <td>180.0</td>\n",
       "      <td>1.0</td>\n",
       "      <td>Everyone needs one!</td>\n",
       "      <td>630</td>\n",
       "      <td>This tool makes it a snap to pull those small ...</td>\n",
       "      <td>Very Easy</td>\n",
       "      <td>Brick Separator</td>\n",
       "      <td>Classic</td>\n",
       "      <td>4.6</td>\n",
       "      <td>AT</td>\n",
       "      <td>12/07/2014</td>\n",
       "      <td>2003</td>\n",
       "    </tr>\n",
       "    <tr>\n",
       "      <th>3</th>\n",
       "      <td>3</td>\n",
       "      <td>4+</td>\n",
       "      <td>3.0378</td>\n",
       "      <td>180.0</td>\n",
       "      <td>1.0</td>\n",
       "      <td>Everyone needs one!</td>\n",
       "      <td>630</td>\n",
       "      <td>This tool makes it a snap to pull those small ...</td>\n",
       "      <td>Very Easy</td>\n",
       "      <td>Brick Separator</td>\n",
       "      <td>Classic</td>\n",
       "      <td>4.6</td>\n",
       "      <td>BE</td>\n",
       "      <td>09/12/2018</td>\n",
       "      <td>2003</td>\n",
       "    </tr>\n",
       "    <tr>\n",
       "      <th>4</th>\n",
       "      <td>4</td>\n",
       "      <td>4+</td>\n",
       "      <td>2.3322</td>\n",
       "      <td>180.0</td>\n",
       "      <td>1.0</td>\n",
       "      <td>Everyone needs one!</td>\n",
       "      <td>630</td>\n",
       "      <td>This tool makes it a snap to pull those small ...</td>\n",
       "      <td>Very Easy</td>\n",
       "      <td>Brick Separator</td>\n",
       "      <td>Classic</td>\n",
       "      <td>4.6</td>\n",
       "      <td>CA</td>\n",
       "      <td>15/04/2012</td>\n",
       "      <td>2003</td>\n",
       "    </tr>\n",
       "  </tbody>\n",
       "</table>\n",
       "</div>"
      ],
      "text/plain": [
       "   Unnamed: 0 ages  list_price  num reviews  piece_count            prod Desc  \\\n",
       "0           0   4+      2.4900        180.0          1.0  Everyone needs one!   \n",
       "1           1   4+      2.2724        180.0          1.0  Everyone needs one!   \n",
       "2           2   4+      3.0378        180.0          1.0  Everyone needs one!   \n",
       "3           3   4+      3.0378        180.0          1.0  Everyone needs one!   \n",
       "4           4   4+      2.3322        180.0          1.0  Everyone needs one!   \n",
       "\n",
       "   prod_id                                     prod_long_desc  \\\n",
       "0      630  This tool makes it a snap to pull those small ...   \n",
       "1      630  This tool makes it a snap to pull those small ...   \n",
       "2      630  This tool makes it a snap to pull those small ...   \n",
       "3      630  This tool makes it a snap to pull those small ...   \n",
       "4      630  This tool makes it a snap to pull those small ...   \n",
       "\n",
       "  review difficulty         set_name themename  val_star_rating country  \\\n",
       "0         Very Easy  Brick Separator   Classic              4.6      US   \n",
       "1         Very Easy  Brick Separator   Classic              4.6      AU   \n",
       "2         Very Easy  Brick Separator   Classic              4.6      AT   \n",
       "3         Very Easy  Brick Separator   Classic              4.6      BE   \n",
       "4         Very Easy  Brick Separator   Classic              4.6      CA   \n",
       "\n",
       "   LaunchDate  weight_grs  \n",
       "0  25/06/2017        2003  \n",
       "1  20/02/2017        2003  \n",
       "2  12/07/2014        2003  \n",
       "3  09/12/2018        2003  \n",
       "4  15/04/2012        2003  "
      ]
     },
     "execution_count": 5,
     "metadata": {},
     "output_type": "execute_result"
    }
   ],
   "source": [
    "## TODO: Add your own code below!\n"
   ]
  },
  {
   "cell_type": "code",
   "execution_count": 6,
   "metadata": {},
   "outputs": [
    {
     "data": {
      "text/html": [
       "<div>\n",
       "<style scoped>\n",
       "    .dataframe tbody tr th:only-of-type {\n",
       "        vertical-align: middle;\n",
       "    }\n",
       "\n",
       "    .dataframe tbody tr th {\n",
       "        vertical-align: top;\n",
       "    }\n",
       "\n",
       "    .dataframe thead th {\n",
       "        text-align: right;\n",
       "    }\n",
       "</style>\n",
       "<table border=\"1\" class=\"dataframe\">\n",
       "  <thead>\n",
       "    <tr style=\"text-align: right;\">\n",
       "      <th></th>\n",
       "      <th>Unnamed: 0</th>\n",
       "      <th>ages</th>\n",
       "      <th>list_price</th>\n",
       "      <th>num reviews</th>\n",
       "      <th>piece_count</th>\n",
       "      <th>prod Desc</th>\n",
       "      <th>prod_id</th>\n",
       "      <th>prod_long_desc</th>\n",
       "      <th>review difficulty</th>\n",
       "      <th>set_name</th>\n",
       "      <th>themename</th>\n",
       "      <th>val_star_rating</th>\n",
       "      <th>country</th>\n",
       "      <th>LaunchDate</th>\n",
       "      <th>weight_grs</th>\n",
       "    </tr>\n",
       "  </thead>\n",
       "  <tbody>\n",
       "    <tr>\n",
       "      <th>12256</th>\n",
       "      <td>12256</td>\n",
       "      <td>0</td>\n",
       "      <td>579.7350</td>\n",
       "      <td>8.0</td>\n",
       "      <td>2455.0</td>\n",
       "      <td>NaN</td>\n",
       "      <td>2000431</td>\n",
       "      <td>The LEGO® SERIOUS PLAY® program is a radical a...</td>\n",
       "      <td>Average</td>\n",
       "      <td>Connections Kit</td>\n",
       "      <td>SERIOUS PLAY®</td>\n",
       "      <td>2.9</td>\n",
       "      <td>NO</td>\n",
       "      <td>30/11/2020</td>\n",
       "      <td>1200</td>\n",
       "    </tr>\n",
       "    <tr>\n",
       "      <th>12257</th>\n",
       "      <td>12257</td>\n",
       "      <td>0</td>\n",
       "      <td>683.1878</td>\n",
       "      <td>8.0</td>\n",
       "      <td>2455.0</td>\n",
       "      <td>NaN</td>\n",
       "      <td>2000431</td>\n",
       "      <td>The LEGO® SERIOUS PLAY® program is a radical a...</td>\n",
       "      <td>Average</td>\n",
       "      <td>Connections Kit</td>\n",
       "      <td>SERIOUS PLAY®</td>\n",
       "      <td>2.9</td>\n",
       "      <td>NL</td>\n",
       "      <td>15/02/2013</td>\n",
       "      <td>1200</td>\n",
       "    </tr>\n",
       "    <tr>\n",
       "      <th>12258</th>\n",
       "      <td>12258</td>\n",
       "      <td>0</td>\n",
       "      <td>709.9929</td>\n",
       "      <td>8.0</td>\n",
       "      <td>2455.0</td>\n",
       "      <td>NaN</td>\n",
       "      <td>2000431</td>\n",
       "      <td>The LEGO® SERIOUS PLAY® program is a radical a...</td>\n",
       "      <td>Average</td>\n",
       "      <td>Connections Kit</td>\n",
       "      <td>SERIOUS PLAY®</td>\n",
       "      <td>2.9</td>\n",
       "      <td>NZ</td>\n",
       "      <td>24/04/2017</td>\n",
       "      <td>1200</td>\n",
       "    </tr>\n",
       "    <tr>\n",
       "      <th>12259</th>\n",
       "      <td>12259</td>\n",
       "      <td>0</td>\n",
       "      <td>725.0000</td>\n",
       "      <td>8.0</td>\n",
       "      <td>2455.0</td>\n",
       "      <td>NaN</td>\n",
       "      <td>2000431</td>\n",
       "      <td>The LEGO® SERIOUS PLAY® program is a radical a...</td>\n",
       "      <td>Average</td>\n",
       "      <td>Connections Kit</td>\n",
       "      <td>SERIOUS PLAY®</td>\n",
       "      <td>2.9</td>\n",
       "      <td>PL</td>\n",
       "      <td>10/03/2011</td>\n",
       "      <td>1200</td>\n",
       "    </tr>\n",
       "    <tr>\n",
       "      <th>12260</th>\n",
       "      <td>12260</td>\n",
       "      <td>0</td>\n",
       "      <td>683.1878</td>\n",
       "      <td>8.0</td>\n",
       "      <td>2455.0</td>\n",
       "      <td>NaN</td>\n",
       "      <td>2000431</td>\n",
       "      <td>The LEGO® SERIOUS PLAY® program is a radical a...</td>\n",
       "      <td>Average</td>\n",
       "      <td>Connections Kit</td>\n",
       "      <td>SERIOUS PLAY®</td>\n",
       "      <td>2.9</td>\n",
       "      <td>PT</td>\n",
       "      <td>09/06/2012</td>\n",
       "      <td>1200</td>\n",
       "    </tr>\n",
       "  </tbody>\n",
       "</table>\n",
       "</div>"
      ],
      "text/plain": [
       "       Unnamed: 0 ages  list_price  num reviews  piece_count prod Desc  \\\n",
       "12256       12256    0    579.7350          8.0       2455.0       NaN   \n",
       "12257       12257    0    683.1878          8.0       2455.0       NaN   \n",
       "12258       12258    0    709.9929          8.0       2455.0       NaN   \n",
       "12259       12259    0    725.0000          8.0       2455.0       NaN   \n",
       "12260       12260    0    683.1878          8.0       2455.0       NaN   \n",
       "\n",
       "       prod_id                                     prod_long_desc  \\\n",
       "12256  2000431  The LEGO® SERIOUS PLAY® program is a radical a...   \n",
       "12257  2000431  The LEGO® SERIOUS PLAY® program is a radical a...   \n",
       "12258  2000431  The LEGO® SERIOUS PLAY® program is a radical a...   \n",
       "12259  2000431  The LEGO® SERIOUS PLAY® program is a radical a...   \n",
       "12260  2000431  The LEGO® SERIOUS PLAY® program is a radical a...   \n",
       "\n",
       "      review difficulty         set_name      themename  val_star_rating  \\\n",
       "12256           Average  Connections Kit  SERIOUS PLAY®              2.9   \n",
       "12257           Average  Connections Kit  SERIOUS PLAY®              2.9   \n",
       "12258           Average  Connections Kit  SERIOUS PLAY®              2.9   \n",
       "12259           Average  Connections Kit  SERIOUS PLAY®              2.9   \n",
       "12260           Average  Connections Kit  SERIOUS PLAY®              2.9   \n",
       "\n",
       "      country  LaunchDate  weight_grs  \n",
       "12256      NO  30/11/2020        1200  \n",
       "12257      NL  15/02/2013        1200  \n",
       "12258      NZ  24/04/2017        1200  \n",
       "12259      PL  10/03/2011        1200  \n",
       "12260      PT  09/06/2012        1200  "
      ]
     },
     "execution_count": 6,
     "metadata": {},
     "output_type": "execute_result"
    }
   ],
   "source": [
    "## TODO: Add your own code below!\n"
   ]
  },
  {
   "cell_type": "code",
   "execution_count": 7,
   "metadata": {},
   "outputs": [
    {
     "data": {
      "text/html": [
       "<div>\n",
       "<style scoped>\n",
       "    .dataframe tbody tr th:only-of-type {\n",
       "        vertical-align: middle;\n",
       "    }\n",
       "\n",
       "    .dataframe tbody tr th {\n",
       "        vertical-align: top;\n",
       "    }\n",
       "\n",
       "    .dataframe thead th {\n",
       "        text-align: right;\n",
       "    }\n",
       "</style>\n",
       "<table border=\"1\" class=\"dataframe\">\n",
       "  <thead>\n",
       "    <tr style=\"text-align: right;\">\n",
       "      <th></th>\n",
       "      <th>Unnamed: 0</th>\n",
       "      <th>ages</th>\n",
       "      <th>list_price</th>\n",
       "      <th>num reviews</th>\n",
       "      <th>piece_count</th>\n",
       "      <th>prod Desc</th>\n",
       "      <th>prod_id</th>\n",
       "      <th>prod_long_desc</th>\n",
       "      <th>review difficulty</th>\n",
       "      <th>set_name</th>\n",
       "      <th>themename</th>\n",
       "      <th>val_star_rating</th>\n",
       "      <th>country</th>\n",
       "      <th>LaunchDate</th>\n",
       "      <th>weight_grs</th>\n",
       "    </tr>\n",
       "  </thead>\n",
       "  <tbody>\n",
       "    <tr>\n",
       "      <th>1083</th>\n",
       "      <td>1083</td>\n",
       "      <td>04-Jul</td>\n",
       "      <td>36.5878</td>\n",
       "      <td>2.0</td>\n",
       "      <td>175.0</td>\n",
       "      <td>Tear it down and build it again!</td>\n",
       "      <td>10734</td>\n",
       "      <td>Grab your hard hat and get to work on the LEGO...</td>\n",
       "      <td>NaN</td>\n",
       "      <td>Demolition Site</td>\n",
       "      <td>Juniors</td>\n",
       "      <td>4.0</td>\n",
       "      <td>DE</td>\n",
       "      <td>10/09/2016</td>\n",
       "      <td>926</td>\n",
       "    </tr>\n",
       "    <tr>\n",
       "      <th>1752</th>\n",
       "      <td>1752</td>\n",
       "      <td>04-Jul</td>\n",
       "      <td>34.9860</td>\n",
       "      <td>NaN</td>\n",
       "      <td>85.0</td>\n",
       "      <td>Rescue the Raptor before the volcano erupts!</td>\n",
       "      <td>10757</td>\n",
       "      <td>Introduce your child to the thrill of explorat...</td>\n",
       "      <td>NaN</td>\n",
       "      <td>Raptor Rescue Truck</td>\n",
       "      <td>Juniors</td>\n",
       "      <td>NaN</td>\n",
       "      <td>GB</td>\n",
       "      <td>09/07/2011</td>\n",
       "      <td>380</td>\n",
       "    </tr>\n",
       "    <tr>\n",
       "      <th>6340</th>\n",
       "      <td>6340</td>\n",
       "      <td>Jul-14</td>\n",
       "      <td>12.5860</td>\n",
       "      <td>2.0</td>\n",
       "      <td>176.0</td>\n",
       "      <td>Collect and transport heavy cargo with the Hoo...</td>\n",
       "      <td>42084</td>\n",
       "      <td>Enjoy a rewarding build-and-play experience wi...</td>\n",
       "      <td>Easy</td>\n",
       "      <td>Hook Loader</td>\n",
       "      <td>Technic</td>\n",
       "      <td>4.5</td>\n",
       "      <td>GB</td>\n",
       "      <td>16/09/2014</td>\n",
       "      <td>1930</td>\n",
       "    </tr>\n",
       "    <tr>\n",
       "      <th>4262</th>\n",
       "      <td>4262</td>\n",
       "      <td>05-Dec</td>\n",
       "      <td>19.1520</td>\n",
       "      <td>1.0</td>\n",
       "      <td>104.0</td>\n",
       "      <td>Get in training with Disney Mulan, ready for t...</td>\n",
       "      <td>41151</td>\n",
       "      <td>LEGO® l Disney Mulan’s Training Day is easy to...</td>\n",
       "      <td>Average</td>\n",
       "      <td>Mulan's Training Day</td>\n",
       "      <td>Disney™</td>\n",
       "      <td>5.0</td>\n",
       "      <td>CZ</td>\n",
       "      <td>13/11/2011</td>\n",
       "      <td>154</td>\n",
       "    </tr>\n",
       "    <tr>\n",
       "      <th>11968</th>\n",
       "      <td>11968</td>\n",
       "      <td>06-Dec</td>\n",
       "      <td>40.6980</td>\n",
       "      <td>6.0</td>\n",
       "      <td>271.0</td>\n",
       "      <td>Pursue Reverse Flash™ and grab the Energy Infu...</td>\n",
       "      <td>76098</td>\n",
       "      <td>Dash with The Flash™ to catch Reverse Flash™ a...</td>\n",
       "      <td>Easy</td>\n",
       "      <td>Speed Force Freeze Pursuit</td>\n",
       "      <td>DC Comics™ Super Heroes</td>\n",
       "      <td>4.5</td>\n",
       "      <td>CH</td>\n",
       "      <td>20/12/2012</td>\n",
       "      <td>609</td>\n",
       "    </tr>\n",
       "  </tbody>\n",
       "</table>\n",
       "</div>"
      ],
      "text/plain": [
       "       Unnamed: 0    ages  list_price  num reviews  piece_count  \\\n",
       "1083         1083  04-Jul     36.5878          2.0        175.0   \n",
       "1752         1752  04-Jul     34.9860          NaN         85.0   \n",
       "6340         6340  Jul-14     12.5860          2.0        176.0   \n",
       "4262         4262  05-Dec     19.1520          1.0        104.0   \n",
       "11968       11968  06-Dec     40.6980          6.0        271.0   \n",
       "\n",
       "                                               prod Desc  prod_id  \\\n",
       "1083                    Tear it down and build it again!    10734   \n",
       "1752        Rescue the Raptor before the volcano erupts!    10757   \n",
       "6340   Collect and transport heavy cargo with the Hoo...    42084   \n",
       "4262   Get in training with Disney Mulan, ready for t...    41151   \n",
       "11968  Pursue Reverse Flash™ and grab the Energy Infu...    76098   \n",
       "\n",
       "                                          prod_long_desc review difficulty  \\\n",
       "1083   Grab your hard hat and get to work on the LEGO...               NaN   \n",
       "1752   Introduce your child to the thrill of explorat...               NaN   \n",
       "6340   Enjoy a rewarding build-and-play experience wi...              Easy   \n",
       "4262   LEGO® l Disney Mulan’s Training Day is easy to...           Average   \n",
       "11968  Dash with The Flash™ to catch Reverse Flash™ a...              Easy   \n",
       "\n",
       "                         set_name                themename  val_star_rating  \\\n",
       "1083              Demolition Site                  Juniors              4.0   \n",
       "1752          Raptor Rescue Truck                  Juniors              NaN   \n",
       "6340                  Hook Loader                  Technic              4.5   \n",
       "4262         Mulan's Training Day                  Disney™              5.0   \n",
       "11968  Speed Force Freeze Pursuit  DC Comics™ Super Heroes              4.5   \n",
       "\n",
       "      country  LaunchDate  weight_grs  \n",
       "1083       DE  10/09/2016         926  \n",
       "1752       GB  09/07/2011         380  \n",
       "6340       GB  16/09/2014        1930  \n",
       "4262       CZ  13/11/2011         154  \n",
       "11968      CH  20/12/2012         609  "
      ]
     },
     "execution_count": 7,
     "metadata": {},
     "output_type": "execute_result"
    }
   ],
   "source": [
    "## TODO: Add your own code below!\n"
   ]
  },
  {
   "cell_type": "markdown",
   "metadata": {},
   "source": [
    "## Total number of rows & columns\n",
    "\n",
    "Let's take a look at the total number of rows and columns are in our dataframe.\n",
    "\n",
    "### Task:\n",
    "* Find and use a command to display the number of rows, and columns in `df`"
   ]
  },
  {
   "cell_type": "code",
   "execution_count": 8,
   "metadata": {},
   "outputs": [
    {
     "data": {
      "text/plain": [
       "(12261, 15)"
      ]
     },
     "execution_count": 8,
     "metadata": {},
     "output_type": "execute_result"
    }
   ],
   "source": [
    "## TODO: Add your own code below!\n"
   ]
  },
  {
   "cell_type": "markdown",
   "metadata": {},
   "source": [
    "### Number of null rows per column\n",
    "\n",
    "Having null data in columns that we want to use for reporting may (or may not) be problematic. \n",
    "\n",
    "What do null values represent? In each case, we'll have to figure out whether we want to exclude null records, or otherwise fill them in, based on the context.\n",
    "\n",
    "### Task:\n",
    "* Find and use a command to show the number of non-null rows, and data types, of all the columns in df"
   ]
  },
  {
   "cell_type": "code",
   "execution_count": 9,
   "metadata": {},
   "outputs": [
    {
     "name": "stdout",
     "output_type": "stream",
     "text": [
      "<class 'pandas.core.frame.DataFrame'>\n",
      "RangeIndex: 12261 entries, 0 to 12260\n",
      "Data columns (total 15 columns):\n",
      " #   Column             Non-Null Count  Dtype  \n",
      "---  ------             --------------  -----  \n",
      " 0   Unnamed: 0         12261 non-null  int64  \n",
      " 1   ages               12261 non-null  object \n",
      " 2   list_price         12261 non-null  float64\n",
      " 3   num reviews        10641 non-null  float64\n",
      " 4   piece_count        12254 non-null  float64\n",
      " 5   prod Desc          11884 non-null  object \n",
      " 6   prod_id            12261 non-null  int64  \n",
      " 7   prod_long_desc     12261 non-null  object \n",
      " 8   review difficulty  10205 non-null  object \n",
      " 9   set_name           12261 non-null  object \n",
      " 10  themename          12258 non-null  object \n",
      " 11  val_star_rating    10466 non-null  float64\n",
      " 12  country            12261 non-null  object \n",
      " 13  LaunchDate         12261 non-null  object \n",
      " 14  weight_grs         12261 non-null  int64  \n",
      "dtypes: float64(4), int64(3), object(8)\n",
      "memory usage: 1.4+ MB\n"
     ]
    }
   ],
   "source": [
    "## TODO: Add your own code below!\n"
   ]
  },
  {
   "cell_type": "markdown",
   "metadata": {},
   "source": [
    "\n",
    "We can see from the above that most columns have null values - num reviews, piece_count, prod Desc, review difficult, themename, and val_star_rating. This might be an issue later! What do null values represent in each case?\n",
    "\n",
    "## Descriptive statistics\n",
    "\n",
    "Let's take a look at some descriptive stats, in case they're helpful.\n",
    "\n",
    "### Task:\n",
    "* Find and use a command that shows the count, mean, standard deviation, minimum, maximum, and quartiles for each of the numeric columns in ```df```"
   ]
  },
  {
   "cell_type": "code",
   "execution_count": 10,
   "metadata": {},
   "outputs": [
    {
     "data": {
      "text/html": [
       "<div>\n",
       "<style scoped>\n",
       "    .dataframe tbody tr th:only-of-type {\n",
       "        vertical-align: middle;\n",
       "    }\n",
       "\n",
       "    .dataframe tbody tr th {\n",
       "        vertical-align: top;\n",
       "    }\n",
       "\n",
       "    .dataframe thead th {\n",
       "        text-align: right;\n",
       "    }\n",
       "</style>\n",
       "<table border=\"1\" class=\"dataframe\">\n",
       "  <thead>\n",
       "    <tr style=\"text-align: right;\">\n",
       "      <th></th>\n",
       "      <th>Unnamed: 0</th>\n",
       "      <th>list_price</th>\n",
       "      <th>num reviews</th>\n",
       "      <th>piece_count</th>\n",
       "      <th>prod_id</th>\n",
       "      <th>val_star_rating</th>\n",
       "      <th>weight_grs</th>\n",
       "    </tr>\n",
       "  </thead>\n",
       "  <tbody>\n",
       "    <tr>\n",
       "      <th>count</th>\n",
       "      <td>12261.00000</td>\n",
       "      <td>12261.000000</td>\n",
       "      <td>10641.000000</td>\n",
       "      <td>12254.000000</td>\n",
       "      <td>1.226100e+04</td>\n",
       "      <td>10466.000000</td>\n",
       "      <td>12261.000000</td>\n",
       "    </tr>\n",
       "    <tr>\n",
       "      <th>mean</th>\n",
       "      <td>6130.00000</td>\n",
       "      <td>65.141998</td>\n",
       "      <td>16.826238</td>\n",
       "      <td>493.687041</td>\n",
       "      <td>5.983675e+04</td>\n",
       "      <td>4.228960</td>\n",
       "      <td>1205.456162</td>\n",
       "    </tr>\n",
       "    <tr>\n",
       "      <th>std</th>\n",
       "      <td>3539.59016</td>\n",
       "      <td>91.980429</td>\n",
       "      <td>36.368984</td>\n",
       "      <td>825.516526</td>\n",
       "      <td>1.638115e+05</td>\n",
       "      <td>0.660282</td>\n",
       "      <td>660.158228</td>\n",
       "    </tr>\n",
       "    <tr>\n",
       "      <th>min</th>\n",
       "      <td>0.00000</td>\n",
       "      <td>2.272400</td>\n",
       "      <td>1.000000</td>\n",
       "      <td>1.000000</td>\n",
       "      <td>6.300000e+02</td>\n",
       "      <td>1.000000</td>\n",
       "      <td>100.000000</td>\n",
       "    </tr>\n",
       "    <tr>\n",
       "      <th>25%</th>\n",
       "      <td>3065.00000</td>\n",
       "      <td>19.990000</td>\n",
       "      <td>2.000000</td>\n",
       "      <td>97.000000</td>\n",
       "      <td>2.103400e+04</td>\n",
       "      <td>4.000000</td>\n",
       "      <td>612.000000</td>\n",
       "    </tr>\n",
       "    <tr>\n",
       "      <th>50%</th>\n",
       "      <td>6130.00000</td>\n",
       "      <td>36.587800</td>\n",
       "      <td>6.000000</td>\n",
       "      <td>216.000000</td>\n",
       "      <td>4.206900e+04</td>\n",
       "      <td>4.300000</td>\n",
       "      <td>1207.000000</td>\n",
       "    </tr>\n",
       "    <tr>\n",
       "      <th>75%</th>\n",
       "      <td>9195.00000</td>\n",
       "      <td>70.192200</td>\n",
       "      <td>13.000000</td>\n",
       "      <td>544.000000</td>\n",
       "      <td>7.092200e+04</td>\n",
       "      <td>4.700000</td>\n",
       "      <td>1796.000000</td>\n",
       "    </tr>\n",
       "    <tr>\n",
       "      <th>max</th>\n",
       "      <td>12260.00000</td>\n",
       "      <td>1104.870000</td>\n",
       "      <td>367.000000</td>\n",
       "      <td>7541.000000</td>\n",
       "      <td>2.000431e+06</td>\n",
       "      <td>5.000000</td>\n",
       "      <td>2299.000000</td>\n",
       "    </tr>\n",
       "  </tbody>\n",
       "</table>\n",
       "</div>"
      ],
      "text/plain": [
       "        Unnamed: 0    list_price   num reviews   piece_count       prod_id  \\\n",
       "count  12261.00000  12261.000000  10641.000000  12254.000000  1.226100e+04   \n",
       "mean    6130.00000     65.141998     16.826238    493.687041  5.983675e+04   \n",
       "std     3539.59016     91.980429     36.368984    825.516526  1.638115e+05   \n",
       "min        0.00000      2.272400      1.000000      1.000000  6.300000e+02   \n",
       "25%     3065.00000     19.990000      2.000000     97.000000  2.103400e+04   \n",
       "50%     6130.00000     36.587800      6.000000    216.000000  4.206900e+04   \n",
       "75%     9195.00000     70.192200     13.000000    544.000000  7.092200e+04   \n",
       "max    12260.00000   1104.870000    367.000000   7541.000000  2.000431e+06   \n",
       "\n",
       "       val_star_rating    weight_grs  \n",
       "count     10466.000000  12261.000000  \n",
       "mean          4.228960   1205.456162  \n",
       "std           0.660282    660.158228  \n",
       "min           1.000000    100.000000  \n",
       "25%           4.000000    612.000000  \n",
       "50%           4.300000   1207.000000  \n",
       "75%           4.700000   1796.000000  \n",
       "max           5.000000   2299.000000  "
      ]
     },
     "execution_count": 10,
     "metadata": {},
     "output_type": "execute_result"
    }
   ],
   "source": [
    "## TODO: Add your own code below!\n"
   ]
  },
  {
   "cell_type": "markdown",
   "metadata": {},
   "source": [
    "## (Optional) What else could we explore? \n",
    "\n",
    "These have been some pretty basic methods for exploring the data. What else might you want to investigate?\n",
    "\n",
    "You could look at:\n",
    "* The distribution of values in each column\n",
    "* The number of unique values in each column\n",
    "* Whether there is a 1-1 correspondence between different columns. For example, does `'prod_id'` uniquely correspond to one `'set_name'`? These kind of questions will be useful for cleaning later\n",
    "* And many more things!"
   ]
  },
  {
   "cell_type": "code",
   "execution_count": 11,
   "metadata": {},
   "outputs": [],
   "source": [
    "# TODO - Add your own explorations here!\n",
    "\n",
    "# Note that at this stage we don't want to be editing the 'df' variable directly, just exploring it"
   ]
  },
  {
   "cell_type": "markdown",
   "metadata": {},
   "source": [
    "## Summary - Data exploration\n",
    "\n",
    "Let's take stock of what we've learnt from this:\n",
    "\n",
    "* There's a column called `'Unnamed: 0`', which doesn't seem useful - every value is the same as the corresponding value in the index of our dataframe. Once we begin cleaning our data, we can drop this column.\n",
    "* The column names don't follow a consistent convention! This is confusing, and something we'll want to fix right away.\n",
    "* There are two things that look like they might identify a product - `'prod_id'`, and `'set_name'`. Later, we should probably check whether either would work to identify a product - could one `'set_name'` have multiple `'prod_id'` values? How about the other way round? Let's come back to this.\n",
    "* Most of the columns look pretty messy... we'll have to look at each one in turn to see whether we need to (and can) clean them!\n",
    "* There are columns that we might expect would be uniquely identified by combinations of other columns, e.g.:\n",
    "    * `'ages'` - will this be uniquely identified by the `'prod_id'`/`'set_name'`? How about by a combination of `'prod_id'` and '`country`'? \n",
    "    * `'piece_count'` - will this be uniquely determined by `'prod_id'`/`'set_name'`?\n",
    "    We'll want to look into these questions later!\n"
   ]
  },
  {
   "cell_type": "markdown",
   "metadata": {},
   "source": [
    "-----\n",
    "<div class=\"row\">\n",
    "    <div class=\"column\">\n",
    "        <h1 style=\"font-size: 300%;\">2. Data cleaning: Tidying our Lego</h1>\n",
    "        <p>\n",
    "            We've now seen that this Lego is pretty messy! We're going to want to get to work cleaning it up, making sure the all pieces are all clean, in the right place, look sensible, there aren't any missing, and so forth. Once that's all done, we'll have something that can be used for analysis and reporting. \n",
    "\n",
    "Before we do so, let's create a new dataframe that we'll update, called, `df_cleaned`. This is good practice so that we can always compare back to the original values if needed.\n",
    "        </p>\n",
    "    </div>\n",
    "    <div>\n",
    "        <img src=\"https://i.redd.it/mmx472by7nf31.jpg\"\n",
    "             alt=\"Lazy Lego\"\n",
    "             align=\"left\" \n",
    "             width = \"500\"\n",
    "             style=\"margin: 0px 0px\"\n",
    "             />\n",
    "    </div>\n",
    "</div>"
   ]
  },
  {
   "cell_type": "code",
   "execution_count": 12,
   "metadata": {},
   "outputs": [],
   "source": [
    "# Let's make a copy of df, called df_cleaned\n",
    "df_cleaned = df.copy()"
   ]
  },
  {
   "cell_type": "markdown",
   "metadata": {},
   "source": [
    "## Labelling our Lego properly: Making column names consistent\n",
    "\n",
    "There's current a mismatch in naming conventions for the columns in our dataframe - some are CamelCase, some are snake_case, and others are written with spaces. This won't do! Let's rename our columns so that they all follow a CamelCase convention (e.g. `'list_price'` becomes `'ListPrice'`, and so on), and let's also drop the column called `'Unnamed: 0'`, we don't need it.\n",
    "\n",
    "\n",
    "### Task:\n",
    "* Make all of the column names in `df_cleaned` follow a CamelCase convention, and get rid of the column called `'Unnamed: 0'`\n",
    "* Also, make any instance of `'Id'` into an upper case `'ID'`"
   ]
  },
  {
   "cell_type": "code",
   "execution_count": 13,
   "metadata": {},
   "outputs": [
    {
     "name": "stdout",
     "output_type": "stream",
     "text": [
      "Index(['ages', 'list_price', 'num reviews', 'piece_count', 'prod Desc',\n",
      "       'prod_id', 'prod_long_desc', 'review difficulty', 'set_name',\n",
      "       'themename', 'val_star_rating', 'country', 'LaunchDate', 'weight_grs'],\n",
      "      dtype='object')\n"
     ]
    }
   ],
   "source": [
    "## TODO: Add your own code below!\n"
   ]
  },
  {
   "cell_type": "code",
   "execution_count": 14,
   "metadata": {},
   "outputs": [
    {
     "name": "stdout",
     "output_type": "stream",
     "text": [
      "Index(['Ages', 'ListPrice', 'NumReviews', 'PieceCount', 'ProdDesc', 'ProdID',\n",
      "       'ProdLongDesc', 'ReviewDifficulty', 'SetName', 'ThemeName',\n",
      "       'ValStarRating', 'Country', 'LaunchDate', 'WeightGrs'],\n",
      "      dtype='object')\n"
     ]
    }
   ],
   "source": [
    "## TODO: Add your own code below!\n"
   ]
  },
  {
   "cell_type": "markdown",
   "metadata": {},
   "source": [
    "Once you've done the above, you can run the block of code below to test your output!\n",
    "\n",
    "### TEST: \n",
    "<span style=\"color:blue\">Run the code block below to test your output!"
   ]
  },
  {
   "cell_type": "code",
   "execution_count": 15,
   "metadata": {},
   "outputs": [
    {
     "name": "stdout",
     "output_type": "stream",
     "text": [
      "( ͡❛ ͜ʖ ͡❛) Good job! Lego's looking pretty good.\n"
     ]
    }
   ],
   "source": [
    "# TEST CELL - Run this cell to test your column modifications\n",
    "\n",
    "assertions.column_renaming(df_cleaned)"
   ]
  },
  {
   "cell_type": "markdown",
   "metadata": {},
   "source": [
    "## Getting our Lego in order: Ordering our columns\n",
    "\n",
    "Now that we've got a decent naming convention for our columns, it might be helpful to re-order them. \n",
    "\n",
    "* Some columns, like `'ProdID'`, `'SetName'`, `'ProdDesc'`, and `'ProdLongDesc'` are descriptive fields about our Lego sets - explaining what they are. These are what are known as **dimensions**. It'd make sense to group these columns together.\n",
    "* On the other hand, the columns such as `'ThemeName'`, `'Country'`, `'Ages'`, `'ReviewDifficulty'`, `'NumReviews'`, `'ListPrice'`, `'WeightGrs'`, `'PieceCount'`, `'ValStarRating'`, and `'LaunchDate'` are all **facts** about our Lego sets - the kind of columns we'd use for answering different business questions about our different Lego sets. Again, we'd probably want to group these together!\n",
    "\n",
    "This distinction is important in how we're thinking about our data - some columns are identifying information, and some are descriptive. It's something you'll hear much more about through the academy.\n",
    "\n",
    "Let's reorder the columns of our dataframe so that they have the dimension columns first, and then the fact columns.\n",
    "\n",
    "### Task:\n",
    "* Put the columns of `df_cleaned` into the *order specified above*, i.e. starting with `'ProdId'`, and finishing with `'LaunchDate'`"
   ]
  },
  {
   "cell_type": "code",
   "execution_count": 16,
   "metadata": {},
   "outputs": [],
   "source": [
    "## TODO: Add your own code below!\n"
   ]
  },
  {
   "cell_type": "markdown",
   "metadata": {},
   "source": [
    "### TEST: \n",
    "<span style=\"color:blue\">Run the code block below to test your output!"
   ]
  },
  {
   "cell_type": "code",
   "execution_count": 17,
   "metadata": {},
   "outputs": [
    {
     "name": "stdout",
     "output_type": "stream",
     "text": [
      "( ͡❛ ͜ʖ ͡❛) Good job! Lego's looking pretty good.\n"
     ]
    }
   ],
   "source": [
    "# TEST CELL - Run this cell to test your column modifications\n",
    "\n",
    "assertions.column_reordering(df_cleaned)"
   ]
  },
  {
   "cell_type": "markdown",
   "metadata": {},
   "source": [
    "## Where's our Lego from? Cleaning up the country codes in the `'Country'` column\n",
    "\n",
    "If we take a look at the list of unique country codes (`'Country'`), as below, we see that there isn't a consistent convention in the entries within this column:\n"
   ]
  },
  {
   "cell_type": "code",
   "execution_count": 18,
   "metadata": {},
   "outputs": [
    {
     "name": "stdout",
     "output_type": "stream",
     "text": [
      "['AT', 'AU', 'Austria', 'BE', 'CA', 'CH', 'CH ', 'CZ', 'DE', 'DN', 'Dn', 'ES', 'FI', 'FR', 'GB', 'IE', 'IT', 'LU', 'NL', 'NO', 'NZ', 'PL', 'PT', 'US']\n"
     ]
    }
   ],
   "source": [
    "unique_countries = list(df_cleaned['Country'].unique())\n",
    "unique_countries.sort()\n",
    "print(unique_countries)"
   ]
  },
  {
   "cell_type": "markdown",
   "metadata": {},
   "source": [
    "We don't want some rows to record 'AU', and some to report 'Austria' - it's difficult to deal with. Let's relabel any entries that aren't a 2 letter country code.\n",
    "\n",
    "### Task:\n",
    "\n",
    "* Update the entries in the 'Country' column so that they are all upper case 2 letter country codes, without spaces."
   ]
  },
  {
   "cell_type": "code",
   "execution_count": 19,
   "metadata": {},
   "outputs": [],
   "source": [
    "## TODO: Add your own code below!\n"
   ]
  },
  {
   "cell_type": "markdown",
   "metadata": {},
   "source": [
    "### TEST: \n",
    "<span style=\"color:blue\">Run the code block below to test your output!"
   ]
  },
  {
   "cell_type": "code",
   "execution_count": 20,
   "metadata": {},
   "outputs": [
    {
     "name": "stdout",
     "output_type": "stream",
     "text": [
      "( ͡❛ ͜ʖ ͡❛) Good job! Lego's looking pretty good.\n"
     ]
    }
   ],
   "source": [
    "# TEST CELL - Run this cell to test your column modifications\n",
    "\n",
    "assertions.country_cleaning(df_cleaned)"
   ]
  },
  {
   "cell_type": "markdown",
   "metadata": {},
   "source": [
    "## What types of Lego have we got: Investigating `'ThemeName'`\n",
    "\n",
    "We've already seen there were some little issues in the `'Country'` column regarding the spelling and case of entries. We've also got the `'ThemeName'` column that tells us what kind of Lego set we're looking at. But there might be similar issues!\n",
    "\n",
    "Let's take a look at what kinds of themes are present, and clean up some entries if there are similar themes with slightly different spelling.\n",
    "\n",
    "### Task:\n",
    "\n",
    "* Create a new variable, `unique_themes`, that is a `list` of the **unique** `'ThemeName'` values present in our dataset.\n",
    "\n",
    "#### Hints\n",
    "* The code used above to find `unique_countries` might be helpful! If you get an error, maybe try dropping the '`.sort()`' operation.\n"
   ]
  },
  {
   "cell_type": "code",
   "execution_count": 21,
   "metadata": {},
   "outputs": [
    {
     "data": {
      "text/plain": [
       "['Angry Birds™',\n",
       " 'Architecture',\n",
       " 'BOOST',\n",
       " \"Blue's Helicopter Pursuit\",\n",
       " 'BrickHeadz',\n",
       " 'Carnotaurus Gyrosphere Escape',\n",
       " 'City',\n",
       " 'Classic',\n",
       " 'Creator 3-in-1',\n",
       " 'Creator Expert',\n",
       " 'DC Comics™ Super Heroes',\n",
       " 'DC Super Hero Girls',\n",
       " 'DIMENSIONS™',\n",
       " 'DUPLO®',\n",
       " 'Dilophosaurus Outpost Attack',\n",
       " 'Disney™',\n",
       " 'Elves',\n",
       " 'Friends',\n",
       " 'Ghostbusters™',\n",
       " 'Ideas',\n",
       " 'Indoraptor Rampage at Lockwood Estate',\n",
       " 'Juniors',\n",
       " 'Jurassic Park Velociraptor Chase',\n",
       " 'LEGO® Creator 3-in-1',\n",
       " 'MINDSTORMS®',\n",
       " 'Marvel Super Heroes',\n",
       " 'Minecraft™',\n",
       " 'Minifigures',\n",
       " 'NEXO KNIGHTS™',\n",
       " 'NINJAGO®',\n",
       " 'Power Functions',\n",
       " 'Pteranodon Chase',\n",
       " 'SERIOUS PLAY®',\n",
       " 'Speed Champions',\n",
       " 'Star Wars™',\n",
       " 'Stygimoloch Breakout',\n",
       " 'T. rex Transport',\n",
       " 'THE LEGO® BATMAN MOVIE',\n",
       " 'THE LEGO® NINJAGO® MOVIE™',\n",
       " 'Technic']"
      ]
     },
     "execution_count": 21,
     "metadata": {},
     "output_type": "execute_result"
    }
   ],
   "source": [
    "## TODO: Add your own code below!\n"
   ]
  },
  {
   "cell_type": "markdown",
   "metadata": {},
   "source": [
    "### TEST: \n",
    "<span style=\"color:blue\">Run the code block below to test your output!"
   ]
  },
  {
   "cell_type": "code",
   "execution_count": 22,
   "metadata": {},
   "outputs": [
    {
     "name": "stdout",
     "output_type": "stream",
     "text": [
      "( ͡❛ ͜ʖ ͡❛) Good job! Lego's looking pretty good.\n"
     ]
    }
   ],
   "source": [
    "# TEST CELL - Run this cell to test your column modifications\n",
    "try:\n",
    "    assertions.unique_themes(unique_themes)\n",
    "except:\n",
    "    print('The unique_themes variable wasnt found... have you defined it?')\n"
   ]
  },
  {
   "cell_type": "markdown",
   "metadata": {},
   "source": [
    "If you manage to investigate the `'ThemeName'` values present, you should find that they mostly look OK, although there are some values that are 'nan' (missing)! \n",
    "\n",
    "To assess how much of an issue these null values might be, let's take a look at how many values are null.\n",
    "\n",
    "### Task:\n",
    "\n",
    "* Count the number of entries that have a `'NaN'` entry in the `'ThemeName'` column.\n",
    "\n",
    "#### Hints\n",
    "* A `.loc` operation will be useful\n",
    "* The `.isna()` operation will also be useful\n"
   ]
  },
  {
   "cell_type": "code",
   "execution_count": 23,
   "metadata": {},
   "outputs": [
    {
     "data": {
      "text/plain": [
       "3"
      ]
     },
     "execution_count": 23,
     "metadata": {},
     "output_type": "execute_result"
    }
   ],
   "source": [
    "## TODO: Add your own code below!\n"
   ]
  },
  {
   "cell_type": "markdown",
   "metadata": {},
   "source": [
    "If you manage the above, you should find that there are only 3 rows that are missing a `ThemeName`. Given this is so few, let's not bother worrying about them, and move on to our next topic."
   ]
  },
  {
   "cell_type": "markdown",
   "metadata": {},
   "source": [
    "## How do we know what set of Lego we're looking at? Comparing `'SetName'` and `'ProdID'`\n",
    "\n",
    "As mentioned at the end of the the exploration stage, we have two columns that could feasibly be used to identify a certain Lego set - `'SetName'`, and `'ProdID'`. Run the code block below to look at just these two columns in isolation.\n"
   ]
  },
  {
   "cell_type": "code",
   "execution_count": 24,
   "metadata": {},
   "outputs": [
    {
     "data": {
      "text/html": [
       "<div>\n",
       "<style scoped>\n",
       "    .dataframe tbody tr th:only-of-type {\n",
       "        vertical-align: middle;\n",
       "    }\n",
       "\n",
       "    .dataframe tbody tr th {\n",
       "        vertical-align: top;\n",
       "    }\n",
       "\n",
       "    .dataframe thead th {\n",
       "        text-align: right;\n",
       "    }\n",
       "</style>\n",
       "<table border=\"1\" class=\"dataframe\">\n",
       "  <thead>\n",
       "    <tr style=\"text-align: right;\">\n",
       "      <th></th>\n",
       "      <th>ProdID</th>\n",
       "      <th>SetName</th>\n",
       "    </tr>\n",
       "  </thead>\n",
       "  <tbody>\n",
       "    <tr>\n",
       "      <th>0</th>\n",
       "      <td>630</td>\n",
       "      <td>Brick Separator</td>\n",
       "    </tr>\n",
       "    <tr>\n",
       "      <th>1</th>\n",
       "      <td>630</td>\n",
       "      <td>Brick Separator</td>\n",
       "    </tr>\n",
       "    <tr>\n",
       "      <th>2</th>\n",
       "      <td>630</td>\n",
       "      <td>Brick Separator</td>\n",
       "    </tr>\n",
       "    <tr>\n",
       "      <th>3</th>\n",
       "      <td>630</td>\n",
       "      <td>Brick Separator</td>\n",
       "    </tr>\n",
       "    <tr>\n",
       "      <th>4</th>\n",
       "      <td>630</td>\n",
       "      <td>Brick Separator</td>\n",
       "    </tr>\n",
       "  </tbody>\n",
       "</table>\n",
       "</div>"
      ],
      "text/plain": [
       "   ProdID          SetName\n",
       "0     630  Brick Separator\n",
       "1     630  Brick Separator\n",
       "2     630  Brick Separator\n",
       "3     630  Brick Separator\n",
       "4     630  Brick Separator"
      ]
     },
     "execution_count": 24,
     "metadata": {},
     "output_type": "execute_result"
    }
   ],
   "source": [
    "# Let's just show these two columns, and the first five rows\n",
    "df_cleaned[['ProdID','SetName']].head(5)"
   ]
  },
  {
   "cell_type": "markdown",
   "metadata": {},
   "source": [
    "They look like they might be the same! But we can't just be satisfied from seeing the first couple rows. \n",
    "\n",
    "This brings us to our first more difficult task - finding out whether `'ProdID'` and `'SetName'` have a 1-to-1 correspondence...\n",
    "\n",
    "### Task:\n",
    "\n",
    "* Find out whether, for each unique `'ProdID'`, there is only one possible `'SetName'` value. \n",
    "* To do so, you'll want to break the problem down into the following steps:\n",
    "    1. Create a new dataframe, `prod_to_set`, which has just the `'ProdID'` and `'SetName'` columns, and drop any duplicate rows\n",
    "    2. Get a count of the number of unique countries for each `'ProdID'` by using `.groupby` operation. Define this as a DataFrame called `set_count_by_product` \n",
    "        * Note: You'll want to use `.reset_index()` operation as well to return a `DataFrame` object, rather than just a pandas `Series`\n",
    "    3. Using a `.loc` operation, modify `set_count_by_product` to select only the `'ProdIds'` that have >1 unique `'SetName'`"
   ]
  },
  {
   "cell_type": "code",
   "execution_count": 25,
   "metadata": {},
   "outputs": [
    {
     "data": {
      "text/html": [
       "<div>\n",
       "<style scoped>\n",
       "    .dataframe tbody tr th:only-of-type {\n",
       "        vertical-align: middle;\n",
       "    }\n",
       "\n",
       "    .dataframe tbody tr th {\n",
       "        vertical-align: top;\n",
       "    }\n",
       "\n",
       "    .dataframe thead th {\n",
       "        text-align: right;\n",
       "    }\n",
       "</style>\n",
       "<table border=\"1\" class=\"dataframe\">\n",
       "  <thead>\n",
       "    <tr style=\"text-align: right;\">\n",
       "      <th></th>\n",
       "      <th>ProdID</th>\n",
       "      <th>SetName</th>\n",
       "    </tr>\n",
       "  </thead>\n",
       "  <tbody>\n",
       "    <tr>\n",
       "      <th>1</th>\n",
       "      <td>2304</td>\n",
       "      <td>2</td>\n",
       "    </tr>\n",
       "    <tr>\n",
       "      <th>6</th>\n",
       "      <td>8293</td>\n",
       "      <td>2</td>\n",
       "    </tr>\n",
       "    <tr>\n",
       "      <th>96</th>\n",
       "      <td>10816</td>\n",
       "      <td>2</td>\n",
       "    </tr>\n",
       "    <tr>\n",
       "      <th>238</th>\n",
       "      <td>41150</td>\n",
       "      <td>3</td>\n",
       "    </tr>\n",
       "    <tr>\n",
       "      <th>538</th>\n",
       "      <td>71171</td>\n",
       "      <td>2</td>\n",
       "    </tr>\n",
       "    <tr>\n",
       "      <th>573</th>\n",
       "      <td>75060</td>\n",
       "      <td>2</td>\n",
       "    </tr>\n",
       "  </tbody>\n",
       "</table>\n",
       "</div>"
      ],
      "text/plain": [
       "     ProdID  SetName\n",
       "1      2304        2\n",
       "6      8293        2\n",
       "96    10816        2\n",
       "238   41150        3\n",
       "538   71171        2\n",
       "573   75060        2"
      ]
     },
     "execution_count": 25,
     "metadata": {},
     "output_type": "execute_result"
    }
   ],
   "source": [
    "## TODO: Add your own code below!\n"
   ]
  },
  {
   "cell_type": "markdown",
   "metadata": {},
   "source": [
    "### TEST: \n",
    "<span style=\"color:blue\">Run the code block below to test your output!"
   ]
  },
  {
   "cell_type": "code",
   "execution_count": 26,
   "metadata": {},
   "outputs": [
    {
     "name": "stdout",
     "output_type": "stream",
     "text": [
      "( ͡❛ ͜ʖ ͡❛) Good job! Lego's looking pretty good.\n"
     ]
    }
   ],
   "source": [
    "# TEST CELL - Run this cell to test your set_count_by_product DataFrame\n",
    "\n",
    "assertions.set_count_by_product(set_count_by_product)\n"
   ]
  },
  {
   "cell_type": "markdown",
   "metadata": {},
   "source": [
    "If the code passes, you'll be able to see that your dataframe, called `set_count_by_product` has identified 6 products with >1 possible `'SetName'` value. We could do with knowing why this is!\n",
    "\n",
    "Let's use the `set_count_by_product` dataframe you've created to get a `list` of `'ProdID'`'s that have >1 associated set name. Once we've got that, we can use a `.loc` operation on `df_cleaned` to show just the different `'SetName'`'s present for these products.\n",
    "\n",
    "### Task:\n",
    "\n",
    "* Using your `set_count_by_product`, create variable called `prods_to_investigate`, that is a `list` object of the `'ProdID'`'s that have >1 `'SetName'`.\n",
    "* Using a `.loc` operation on `prod_to_set`, create a DataFrame variable called `duped_sets` that has just the rows with the `'ProdID'`'s in `prods_to_investigate`\n",
    "* View the rows in `duped_sets`"
   ]
  },
  {
   "cell_type": "code",
   "execution_count": 27,
   "metadata": {},
   "outputs": [
    {
     "data": {
      "text/html": [
       "<div>\n",
       "<style scoped>\n",
       "    .dataframe tbody tr th:only-of-type {\n",
       "        vertical-align: middle;\n",
       "    }\n",
       "\n",
       "    .dataframe tbody tr th {\n",
       "        vertical-align: top;\n",
       "    }\n",
       "\n",
       "    .dataframe thead th {\n",
       "        text-align: right;\n",
       "    }\n",
       "</style>\n",
       "<table border=\"1\" class=\"dataframe\">\n",
       "  <thead>\n",
       "    <tr style=\"text-align: right;\">\n",
       "      <th></th>\n",
       "      <th>ProdID</th>\n",
       "      <th>SetName</th>\n",
       "    </tr>\n",
       "  </thead>\n",
       "  <tbody>\n",
       "    <tr>\n",
       "      <th>21</th>\n",
       "      <td>2304</td>\n",
       "      <td>LEGO® DUPLO® Green Baseplate</td>\n",
       "    </tr>\n",
       "    <tr>\n",
       "      <th>22</th>\n",
       "      <td>2304</td>\n",
       "      <td>Green LEGO® DUPLO® Baseplate</td>\n",
       "    </tr>\n",
       "    <tr>\n",
       "      <th>126</th>\n",
       "      <td>8293</td>\n",
       "      <td>LEGO® Power Functions Motor Set</td>\n",
       "    </tr>\n",
       "    <tr>\n",
       "      <th>127</th>\n",
       "      <td>8293</td>\n",
       "      <td>Power Functions Motor Set</td>\n",
       "    </tr>\n",
       "    <tr>\n",
       "      <th>1964</th>\n",
       "      <td>10816</td>\n",
       "      <td>My First Cars and Trucks</td>\n",
       "    </tr>\n",
       "    <tr>\n",
       "      <th>1976</th>\n",
       "      <td>10816</td>\n",
       "      <td>My First Vehicles</td>\n",
       "    </tr>\n",
       "    <tr>\n",
       "      <th>4235</th>\n",
       "      <td>41150</td>\n",
       "      <td>Moana’s Ocean Voyage</td>\n",
       "    </tr>\n",
       "    <tr>\n",
       "      <th>4237</th>\n",
       "      <td>41150</td>\n",
       "      <td>Vaiana's Ocean Voyage</td>\n",
       "    </tr>\n",
       "    <tr>\n",
       "      <th>4247</th>\n",
       "      <td>41150</td>\n",
       "      <td>Moana's Ocean Voyage</td>\n",
       "    </tr>\n",
       "    <tr>\n",
       "      <th>9376</th>\n",
       "      <td>71171</td>\n",
       "      <td>LEGO® DIMENSIONS™ PLAYSTATION® 4 Starter Pack</td>\n",
       "    </tr>\n",
       "    <tr>\n",
       "      <th>9378</th>\n",
       "      <td>71171</td>\n",
       "      <td>Starter Pack PLAYSTATION® 4</td>\n",
       "    </tr>\n",
       "    <tr>\n",
       "      <th>9782</th>\n",
       "      <td>75060</td>\n",
       "      <td>Slave I</td>\n",
       "    </tr>\n",
       "    <tr>\n",
       "      <th>9786</th>\n",
       "      <td>75060</td>\n",
       "      <td>Slave I™</td>\n",
       "    </tr>\n",
       "  </tbody>\n",
       "</table>\n",
       "</div>"
      ],
      "text/plain": [
       "      ProdID                                        SetName\n",
       "21      2304                   LEGO® DUPLO® Green Baseplate\n",
       "22      2304                   Green LEGO® DUPLO® Baseplate\n",
       "126     8293                LEGO® Power Functions Motor Set\n",
       "127     8293                      Power Functions Motor Set\n",
       "1964   10816                       My First Cars and Trucks\n",
       "1976   10816                              My First Vehicles\n",
       "4235   41150                           Moana’s Ocean Voyage\n",
       "4237   41150                          Vaiana's Ocean Voyage\n",
       "4247   41150                           Moana's Ocean Voyage\n",
       "9376   71171  LEGO® DIMENSIONS™ PLAYSTATION® 4 Starter Pack\n",
       "9378   71171                    Starter Pack PLAYSTATION® 4\n",
       "9782   75060                                        Slave I\n",
       "9786   75060                                       Slave I™"
      ]
     },
     "execution_count": 27,
     "metadata": {},
     "output_type": "execute_result"
    }
   ],
   "source": [
    "## TODO: Add your own code below!\n"
   ]
  },
  {
   "cell_type": "markdown",
   "metadata": {},
   "source": [
    "### TEST: \n",
    "<span style=\"color:blue\">Run the code block below to test your output!"
   ]
  },
  {
   "cell_type": "code",
   "execution_count": 28,
   "metadata": {},
   "outputs": [
    {
     "name": "stdout",
     "output_type": "stream",
     "text": [
      "( ͡❛ ͜ʖ ͡❛) Good job! Lego's looking pretty good.\n"
     ]
    }
   ],
   "source": [
    "# TEST CELL - Run this cell to test your duped_sets variable\n",
    "\n",
    "assertions.duped_sets(duped_sets)"
   ]
  },
  {
   "cell_type": "markdown",
   "metadata": {},
   "source": [
    "If you've managed to create and view the `duped_sets` variable, you'll see that there are probably only small differences here! \n",
    "\n",
    "For example, `'ProdID' = 2304` has two possible values:\n",
    "* 'LEGO® DUPLO® Green Baseplate'\n",
    "* 'Green LEGO® DUPLO® Baseplate'\n",
    "\n",
    "For all these cases, we can be satisfied that these really are the same values.\n",
    "\n",
    "Just for completeness, let's replace some of the values in the `'SetName'` column so that each `'ProdID'` will just have one possible `'SetName'` value.\n",
    "\n",
    "### Task:\n",
    "* Update the `'SetName'` column of `df_cleaned` to replace entries in the following way:\n",
    "    * Replace 'LEGO® DUPLO® Green Baseplate' with 'Green LEGO® DUPLO® Baseplate'\n",
    "    * Replace 'LEGO® Power Functions Motor Set' with 'Power Functions Motor Set'\n",
    "    * Replace 'My First Cars and Trucks' with 'My First Vehicles'\n",
    "    * Replace 'Moana’s Ocean Voyage', and 'Vaiana's Ocean Voyage' with 'Moana's Ocean Voyage'\n",
    "    * Replace 'LEGO® DIMENSIONS™ PLAYSTATION® 4 Starter Pack' with 'Starter Pack PLAYSTATION® 4'\n",
    "    * Replace 'Slave I™' with 'Slave I'\n",
    "    \n",
    "#### Hints\n",
    "\n",
    "* You'll find the `.replace` function helpful\n",
    "* To deal with strings that contain a `'` symbol, use `\"` marks"
   ]
  },
  {
   "cell_type": "code",
   "execution_count": 29,
   "metadata": {},
   "outputs": [],
   "source": [
    "## TODO: Add your own code below!\n"
   ]
  },
  {
   "cell_type": "markdown",
   "metadata": {},
   "source": [
    "### TEST: \n",
    "<span style=\"color:blue\">Run the code block below to test your output!"
   ]
  },
  {
   "cell_type": "code",
   "execution_count": 30,
   "metadata": {},
   "outputs": [
    {
     "name": "stdout",
     "output_type": "stream",
     "text": [
      "( ͡❛ ͜ʖ ͡❛) Good job! Lego's looking pretty good.\n"
     ]
    }
   ],
   "source": [
    "# TEST CELL - Run this cell to test your cleaning of 'SetName'\n",
    "\n",
    "assertions.cleaned_set_names(df_cleaned)\n"
   ]
  },
  {
   "cell_type": "markdown",
   "metadata": {},
   "source": [
    "Phew! Now we can rest assured that `'ProdID'` and `'SetName'` are pretty much the same. We've got to know what Lego set we're looking at, after all!\n",
    "\n",
    "Let's move on to some further cleaning."
   ]
  },
  {
   "cell_type": "markdown",
   "metadata": {},
   "source": [
    "<div>\n",
    "        <img src=\"https://i.ebayimg.com/images/g/IGwAAOSwLEtYfP~g/s-l300.jpg\"\n",
    "             alt=\"Happy Lego Dude\"\n",
    "             align=\"left\" \n",
    "             width = \"400\"\n",
    "             style=\"margin: 0px 0px\"\n",
    "             />\n",
    "    </div>"
   ]
  },
  {
   "cell_type": "markdown",
   "metadata": {},
   "source": [
    "-----\n",
    "## Taking stock: What have we done so far? (Part 1)\n",
    "\n",
    "We're doing a pretty good job of getting our Lego in order at this point! To summarise where we're up to, we have:\n",
    "* Made our column names consistent, and put them in a logic ordering, with dimensions at the front, facts at the back\n",
    "* Cleaned up the entries in some of our descriptive fact columns (e.g., 'Country'), or at least checked that there weren't big issues with them (e.g. 'ThemeName' - only 3 null values)\n",
    "* Addressed an important question - whether two of our dimensions, i.e., 'ProdID' and 'SetName' represent the same thing, and cleaned up some entries where there were small differences\n",
    "\n",
    "This is an important milestone! Effectively, our Lego is looking pretty neat (column names and ordering), and we know how to identify and describe our blocks (dimension columns align, and `'Country'` and `'ThemeName'` are in a good state).\n",
    "\n",
    "Now, it's time to make sure our facts about our Lego are accurate! We're going to start looking at the other **fact** columns we identified earlier: \n",
    "\n",
    "* `'Ages'` \n",
    "* `'ReviewDifficulty'`\n",
    "* `'NumReviews'`\n",
    "* `'ListPrice'`\n",
    "* `'WeightGrs'`\n",
    "* `'PieceCount'`\n",
    "* `'ValStarRating'`, and\n",
    "* `'LaunchDate'`\n",
    "\n",
    "For each of these columns, we've got some important questions to ask, and issues to resolve as and when we find them.\n",
    "\n",
    "We'll only actually investigate a subset of these columns, as some are less important to report on. We decide we're going to investigate the following columns:\n",
    "\n",
    "* `'Ages'` \n",
    "* `'ReviewDifficulty'`\n",
    "* `'ListPrice'`\n",
    "* `'WeightGrs'` \n",
    "* `'PieceCount'` and\n",
    "* `'LaunchDate'`\n"
   ]
  },
  {
   "cell_type": "markdown",
   "metadata": {},
   "source": [
    "## Who can play with our Lego? The `'Ages'` column\n",
    "\n",
    "Let's think about the `'Ages'` column. First things first, let's take a look at the unique values present there - do they make sense? Can we clean them?\n",
    "\n",
    "## Task:\n",
    "* Write a command below to define a variable, `unique_ages` as a list of unique values in the `'Ages'` column\n",
    "* Sort this list, and print it\n"
   ]
  },
  {
   "cell_type": "code",
   "execution_count": 31,
   "metadata": {},
   "outputs": [
    {
     "data": {
      "text/plain": [
       "['0',\n",
       " '02-May',\n",
       " '04-Jul',\n",
       " '05-Aug',\n",
       " '05-Dec',\n",
       " '06-Dec',\n",
       " '07-Dec',\n",
       " '08-Dec',\n",
       " '09-Dec',\n",
       " '10+',\n",
       " '12+',\n",
       " '14+',\n",
       " '16+',\n",
       " '1½-3',\n",
       " '1½-5',\n",
       " '4+',\n",
       " '5+',\n",
       " '6+',\n",
       " '7+',\n",
       " '8+',\n",
       " '9+',\n",
       " 'Apr-99',\n",
       " 'Aug-14',\n",
       " 'Dec-16',\n",
       " 'Jul-14',\n",
       " 'Jun-14',\n",
       " 'Nov-16',\n",
       " 'Oct-14',\n",
       " 'Oct-16',\n",
       " 'Oct-21',\n",
       " 'Sep-14',\n",
       " 'Sep-16']"
      ]
     },
     "execution_count": 31,
     "metadata": {},
     "output_type": "execute_result"
    }
   ],
   "source": [
    "## TODO: Add your own code below!\n"
   ]
  },
  {
   "cell_type": "markdown",
   "metadata": {},
   "source": [
    "### TEST: \n",
    "<span style=\"color:blue\">Run the code block below to test your output!"
   ]
  },
  {
   "cell_type": "code",
   "execution_count": 32,
   "metadata": {},
   "outputs": [
    {
     "name": "stdout",
     "output_type": "stream",
     "text": [
      "( ͡❛ ͜ʖ ͡❛) Good job! Lego's looking pretty good.\n"
     ]
    }
   ],
   "source": [
    "# TEST CELL - Run this cell to test your unique_ages variable\n",
    "\n",
    "assertions.unique_ages(unique_ages)"
   ]
  },
  {
   "cell_type": "markdown",
   "metadata": {},
   "source": [
    "We can see that there are string in this column, and whilst some make sense (e.g., `'10+'`, `'1½-5'`), some don't - they're dates. Let's start by updating the `'Ages'` column in the following ways:\n",
    "\n",
    "\n",
    "### Task:\n",
    "\n",
    "* Clean the `'Ages'` column, by: \n",
    "    * Removing any entries that don't follow the format: '{number}+' or '{number_1}-{number_2}'\n",
    "    * Replacing each instance of '{number}+' with just the number, replace each instance of '{number_1}-{number_2}' with number_1\n",
    "    * Format the column as integers/floats"
   ]
  },
  {
   "cell_type": "code",
   "execution_count": 33,
   "metadata": {},
   "outputs": [],
   "source": [
    "## TODO: Add your own code below!\n"
   ]
  },
  {
   "cell_type": "markdown",
   "metadata": {},
   "source": [
    "### TEST: \n",
    "<span style=\"color:blue\">Run the code block below to test your output!"
   ]
  },
  {
   "cell_type": "code",
   "execution_count": 34,
   "metadata": {},
   "outputs": [
    {
     "name": "stdout",
     "output_type": "stream",
     "text": [
      "( ͡❛ ͜ʖ ͡❛) Good job! Lego's looking pretty good.\n"
     ]
    }
   ],
   "source": [
    "# TEST CELL - Run this cell to test your cleaning of the 'Ages' column\n",
    "\n",
    "assertions.ages_cleaned(df_cleaned)"
   ]
  },
  {
   "cell_type": "markdown",
   "metadata": {},
   "source": [
    "Now that we've cleaned the column, we can start thinking about its relationship to our dimension columns. Will a specific `'SetName'` always have the same `'Ages'` value? Not necessarily. It's feasible that sets have different age ratings in different countries.\n",
    "\n",
    "We'd expect that the `'Ages'` value would be uniquely identified by a particular `'SetName'`, and `'Country'`. "
   ]
  },
  {
   "cell_type": "markdown",
   "metadata": {},
   "source": [
    "### Task:\n",
    "\n",
    "* For each (`'SetName'`, `'Country'`) pairing, identify whether there are any records with >1 possible value for `'Ages'`"
   ]
  },
  {
   "cell_type": "code",
   "execution_count": 35,
   "metadata": {},
   "outputs": [],
   "source": [
    "## TODO: Add your own code below!\n"
   ]
  },
  {
   "cell_type": "markdown",
   "metadata": {},
   "source": [
    "If you complete the above, you should find out that this is fine! We don't need to worry - the `'Ages'` column is consistent across each `'SetName'` and `'Country'` pair."
   ]
  },
  {
   "cell_type": "markdown",
   "metadata": {},
   "source": [
    "## How difficult is our Lego? The `ReviewDifficulty` column - TODO: FINISH\n",
    "\n",
    "Let's now take a look at the `'ReviewDifficulty'` column - what are the possible values? Are they consistent?\n",
    "\n",
    "Run the code in the cells below to look at the values present for the `'ReviewDifficulty'` field. We can see that there are supposed to be a handful of different categories:"
   ]
  },
  {
   "cell_type": "code",
   "execution_count": 36,
   "metadata": {},
   "outputs": [
    {
     "data": {
      "text/plain": [
       "['Very Easy',\n",
       " 'Easy',\n",
       " 'Challenging',\n",
       " 'Average',\n",
       " nan,\n",
       " 'EASY',\n",
       " 'average',\n",
       " 'AVERAGE',\n",
       " 'Very Challenging']"
      ]
     },
     "execution_count": 36,
     "metadata": {},
     "output_type": "execute_result"
    }
   ],
   "source": [
    "# Examine the unique values present in ReviewDifficulty\n",
    "\n",
    "list(df_cleaned['ReviewDifficulty'].unique())"
   ]
  },
  {
   "cell_type": "markdown",
   "metadata": {},
   "source": [
    "We can see that difficulties range from 'Very Easy' through to 'Very challenging', formatted as strings, but there are some spelling variations, and some 'nan' (not a number) values. We'll want to do two things: \n",
    "\n",
    "(1) Standardise the case of the entries to title case, e.g. 'EASY' becomes 'Easy', 'average' and 'AVERAGE' to average, and\n",
    "(2) Decide how we are going to deal with the null (nan) entries\n",
    "\n",
    "### Task 1:\n",
    "Make all the entries follow a title case convention"
   ]
  },
  {
   "cell_type": "code",
   "execution_count": 37,
   "metadata": {},
   "outputs": [],
   "source": [
    "## TODO: Add your own code below!\n"
   ]
  },
  {
   "cell_type": "markdown",
   "metadata": {},
   "source": [
    "### TEST: \n",
    "<span style=\"color:blue\">Run the code block below to test your output!</span>"
   ]
  },
  {
   "cell_type": "code",
   "execution_count": 38,
   "metadata": {},
   "outputs": [
    {
     "name": "stdout",
     "output_type": "stream",
     "text": [
      "( ͡❛ ͜ʖ ͡❛) Good job! Lego's looking pretty good.\n"
     ]
    }
   ],
   "source": [
    "# TEST CELL - Run this cell to test your cleaning of the 'ReviewDifficulty' column\n",
    "\n",
    "assertions.difficulty_cleaned(df_cleaned)"
   ]
  },
  {
   "cell_type": "markdown",
   "metadata": {},
   "source": [
    "Now that we've cleaned up the entries, it's time to take a look at these null values. Run the code below to take a look at some of the records where the ReviewDifficulty field is showing nan."
   ]
  },
  {
   "cell_type": "code",
   "execution_count": 39,
   "metadata": {},
   "outputs": [
    {
     "data": {
      "text/html": [
       "<div>\n",
       "<style scoped>\n",
       "    .dataframe tbody tr th:only-of-type {\n",
       "        vertical-align: middle;\n",
       "    }\n",
       "\n",
       "    .dataframe tbody tr th {\n",
       "        vertical-align: top;\n",
       "    }\n",
       "\n",
       "    .dataframe thead th {\n",
       "        text-align: right;\n",
       "    }\n",
       "</style>\n",
       "<table border=\"1\" class=\"dataframe\">\n",
       "  <thead>\n",
       "    <tr style=\"text-align: right;\">\n",
       "      <th></th>\n",
       "      <th>ProdID</th>\n",
       "      <th>SetName</th>\n",
       "      <th>ProdDesc</th>\n",
       "      <th>ProdLongDesc</th>\n",
       "      <th>ThemeName</th>\n",
       "      <th>Country</th>\n",
       "      <th>Ages</th>\n",
       "      <th>ReviewDifficulty</th>\n",
       "      <th>NumReviews</th>\n",
       "      <th>ListPrice</th>\n",
       "      <th>WeightGrs</th>\n",
       "      <th>PieceCount</th>\n",
       "      <th>ValStarRating</th>\n",
       "      <th>LaunchDate</th>\n",
       "    </tr>\n",
       "  </thead>\n",
       "  <tbody>\n",
       "    <tr>\n",
       "      <th>575</th>\n",
       "      <td>10606</td>\n",
       "      <td>Doc McStuffins™ Backyard Clinic</td>\n",
       "      <td>Help toys feel better in Doc McStuffins™’ Back...</td>\n",
       "      <td>The Doc is in! Help Doc McStuffins™ and friend...</td>\n",
       "      <td>DUPLO®</td>\n",
       "      <td>US</td>\n",
       "      <td>NaN</td>\n",
       "      <td>NaN</td>\n",
       "      <td>NaN</td>\n",
       "      <td>29.9900</td>\n",
       "      <td>154</td>\n",
       "      <td>39.0</td>\n",
       "      <td>NaN</td>\n",
       "      <td>14/02/2019</td>\n",
       "    </tr>\n",
       "    <tr>\n",
       "      <th>576</th>\n",
       "      <td>10606</td>\n",
       "      <td>Doc McStuffins™ Backyard Clinic</td>\n",
       "      <td>Help toys feel better in Doc McStuffins’™ Back...</td>\n",
       "      <td>The Doc is in! Help Doc McStuffins™ and friend...</td>\n",
       "      <td>DUPLO®</td>\n",
       "      <td>CA</td>\n",
       "      <td>NaN</td>\n",
       "      <td>NaN</td>\n",
       "      <td>NaN</td>\n",
       "      <td>27.2922</td>\n",
       "      <td>154</td>\n",
       "      <td>39.0</td>\n",
       "      <td>NaN</td>\n",
       "      <td>07/05/2010</td>\n",
       "    </tr>\n",
       "    <tr>\n",
       "      <th>735</th>\n",
       "      <td>10704</td>\n",
       "      <td>Creative Box</td>\n",
       "      <td>Imagine and create with LEGO® Classic bricks!</td>\n",
       "      <td>Unleash a world of open-ended creativity and i...</td>\n",
       "      <td>Classic</td>\n",
       "      <td>AU</td>\n",
       "      <td>NaN</td>\n",
       "      <td>NaN</td>\n",
       "      <td>2.0</td>\n",
       "      <td>45.5924</td>\n",
       "      <td>2208</td>\n",
       "      <td>900.0</td>\n",
       "      <td>4.5</td>\n",
       "      <td>05/08/2015</td>\n",
       "    </tr>\n",
       "    <tr>\n",
       "      <th>736</th>\n",
       "      <td>10704</td>\n",
       "      <td>Creative Box</td>\n",
       "      <td>Imagine and create with LEGO® Classic bricks!</td>\n",
       "      <td>Unleash a world of open-ended creativity and i...</td>\n",
       "      <td>Classic</td>\n",
       "      <td>AT</td>\n",
       "      <td>NaN</td>\n",
       "      <td>NaN</td>\n",
       "      <td>2.0</td>\n",
       "      <td>42.6878</td>\n",
       "      <td>2208</td>\n",
       "      <td>900.0</td>\n",
       "      <td>4.5</td>\n",
       "      <td>23/11/2015</td>\n",
       "    </tr>\n",
       "    <tr>\n",
       "      <th>737</th>\n",
       "      <td>10704</td>\n",
       "      <td>Creative Box</td>\n",
       "      <td>Imagine and create with LEGO® Classic bricks!</td>\n",
       "      <td>Unleash a world of open-ended creativity and i...</td>\n",
       "      <td>Classic</td>\n",
       "      <td>BE</td>\n",
       "      <td>NaN</td>\n",
       "      <td>NaN</td>\n",
       "      <td>2.0</td>\n",
       "      <td>48.7878</td>\n",
       "      <td>2208</td>\n",
       "      <td>900.0</td>\n",
       "      <td>4.5</td>\n",
       "      <td>03/10/2011</td>\n",
       "    </tr>\n",
       "    <tr>\n",
       "      <th>...</th>\n",
       "      <td>...</td>\n",
       "      <td>...</td>\n",
       "      <td>...</td>\n",
       "      <td>...</td>\n",
       "      <td>...</td>\n",
       "      <td>...</td>\n",
       "      <td>...</td>\n",
       "      <td>...</td>\n",
       "      <td>...</td>\n",
       "      <td>...</td>\n",
       "      <td>...</td>\n",
       "      <td>...</td>\n",
       "      <td>...</td>\n",
       "      <td>...</td>\n",
       "    </tr>\n",
       "    <tr>\n",
       "      <th>11897</th>\n",
       "      <td>76090</td>\n",
       "      <td>Mighty Micros: Star-Lord vs. Nebula</td>\n",
       "      <td>Help Star-Lord grab the stolen mixtape from Ne...</td>\n",
       "      <td>Join Star-Lord in a LEGO® Marvel Super Heroes ...</td>\n",
       "      <td>Marvel Super Heroes</td>\n",
       "      <td>NZ</td>\n",
       "      <td>NaN</td>\n",
       "      <td>NaN</td>\n",
       "      <td>NaN</td>\n",
       "      <td>14.1929</td>\n",
       "      <td>951</td>\n",
       "      <td>86.0</td>\n",
       "      <td>NaN</td>\n",
       "      <td>21/02/2017</td>\n",
       "    </tr>\n",
       "    <tr>\n",
       "      <th>11898</th>\n",
       "      <td>76090</td>\n",
       "      <td>Mighty Micros: Star-Lord vs. Nebula</td>\n",
       "      <td>Help Star-Lord grab the stolen mixtape from Ne...</td>\n",
       "      <td>Join Star-Lord in a LEGO® Marvel Super Heroes ...</td>\n",
       "      <td>Marvel Super Heroes</td>\n",
       "      <td>PL</td>\n",
       "      <td>NaN</td>\n",
       "      <td>NaN</td>\n",
       "      <td>NaN</td>\n",
       "      <td>13.0471</td>\n",
       "      <td>951</td>\n",
       "      <td>86.0</td>\n",
       "      <td>NaN</td>\n",
       "      <td>09/12/2017</td>\n",
       "    </tr>\n",
       "    <tr>\n",
       "      <th>11899</th>\n",
       "      <td>76090</td>\n",
       "      <td>Mighty Micros: Star-Lord vs. Nebula</td>\n",
       "      <td>Help Star-Lord grab the stolen mixtape from Ne...</td>\n",
       "      <td>Join Star-Lord in a LEGO® Marvel Super Heroes ...</td>\n",
       "      <td>Marvel Super Heroes</td>\n",
       "      <td>PT</td>\n",
       "      <td>NaN</td>\n",
       "      <td>NaN</td>\n",
       "      <td>NaN</td>\n",
       "      <td>12.1878</td>\n",
       "      <td>951</td>\n",
       "      <td>86.0</td>\n",
       "      <td>NaN</td>\n",
       "      <td>01/10/2017</td>\n",
       "    </tr>\n",
       "    <tr>\n",
       "      <th>12173</th>\n",
       "      <td>853516</td>\n",
       "      <td>LEGO® NEXO KNIGHTS™ Monsters Army-Building Set</td>\n",
       "      <td>Grow Jestro's army with these hot-headed Lava ...</td>\n",
       "      <td>Join the ranks of Jestro's legion of evil mini...</td>\n",
       "      <td>NEXO KNIGHTS™</td>\n",
       "      <td>US</td>\n",
       "      <td>6.0</td>\n",
       "      <td>NaN</td>\n",
       "      <td>NaN</td>\n",
       "      <td>14.9900</td>\n",
       "      <td>886</td>\n",
       "      <td>30.0</td>\n",
       "      <td>NaN</td>\n",
       "      <td>09/01/2012</td>\n",
       "    </tr>\n",
       "    <tr>\n",
       "      <th>12174</th>\n",
       "      <td>853516</td>\n",
       "      <td>LEGO® NEXO KNIGHTS™ Monsters Army-Building Set</td>\n",
       "      <td>Grow Jestro's army with these hot-headed Lava ...</td>\n",
       "      <td>Join the ranks of Jestro's legion of evil mini...</td>\n",
       "      <td>NEXO KNIGHTS™</td>\n",
       "      <td>CA</td>\n",
       "      <td>6.0</td>\n",
       "      <td>NaN</td>\n",
       "      <td>NaN</td>\n",
       "      <td>14.0322</td>\n",
       "      <td>886</td>\n",
       "      <td>30.0</td>\n",
       "      <td>NaN</td>\n",
       "      <td>05/12/2010</td>\n",
       "    </tr>\n",
       "  </tbody>\n",
       "</table>\n",
       "<p>2056 rows × 14 columns</p>\n",
       "</div>"
      ],
      "text/plain": [
       "       ProdID                                         SetName  \\\n",
       "575     10606                 Doc McStuffins™ Backyard Clinic   \n",
       "576     10606                 Doc McStuffins™ Backyard Clinic   \n",
       "735     10704                                    Creative Box   \n",
       "736     10704                                    Creative Box   \n",
       "737     10704                                    Creative Box   \n",
       "...       ...                                             ...   \n",
       "11897   76090             Mighty Micros: Star-Lord vs. Nebula   \n",
       "11898   76090             Mighty Micros: Star-Lord vs. Nebula   \n",
       "11899   76090             Mighty Micros: Star-Lord vs. Nebula   \n",
       "12173  853516  LEGO® NEXO KNIGHTS™ Monsters Army-Building Set   \n",
       "12174  853516  LEGO® NEXO KNIGHTS™ Monsters Army-Building Set   \n",
       "\n",
       "                                                ProdDesc  \\\n",
       "575    Help toys feel better in Doc McStuffins™’ Back...   \n",
       "576    Help toys feel better in Doc McStuffins’™ Back...   \n",
       "735        Imagine and create with LEGO® Classic bricks!   \n",
       "736        Imagine and create with LEGO® Classic bricks!   \n",
       "737        Imagine and create with LEGO® Classic bricks!   \n",
       "...                                                  ...   \n",
       "11897  Help Star-Lord grab the stolen mixtape from Ne...   \n",
       "11898  Help Star-Lord grab the stolen mixtape from Ne...   \n",
       "11899  Help Star-Lord grab the stolen mixtape from Ne...   \n",
       "12173  Grow Jestro's army with these hot-headed Lava ...   \n",
       "12174  Grow Jestro's army with these hot-headed Lava ...   \n",
       "\n",
       "                                            ProdLongDesc            ThemeName  \\\n",
       "575    The Doc is in! Help Doc McStuffins™ and friend...               DUPLO®   \n",
       "576    The Doc is in! Help Doc McStuffins™ and friend...               DUPLO®   \n",
       "735    Unleash a world of open-ended creativity and i...              Classic   \n",
       "736    Unleash a world of open-ended creativity and i...              Classic   \n",
       "737    Unleash a world of open-ended creativity and i...              Classic   \n",
       "...                                                  ...                  ...   \n",
       "11897  Join Star-Lord in a LEGO® Marvel Super Heroes ...  Marvel Super Heroes   \n",
       "11898  Join Star-Lord in a LEGO® Marvel Super Heroes ...  Marvel Super Heroes   \n",
       "11899  Join Star-Lord in a LEGO® Marvel Super Heroes ...  Marvel Super Heroes   \n",
       "12173  Join the ranks of Jestro's legion of evil mini...        NEXO KNIGHTS™   \n",
       "12174  Join the ranks of Jestro's legion of evil mini...        NEXO KNIGHTS™   \n",
       "\n",
       "      Country  Ages ReviewDifficulty  NumReviews  ListPrice  WeightGrs  \\\n",
       "575        US   NaN              NaN         NaN    29.9900        154   \n",
       "576        CA   NaN              NaN         NaN    27.2922        154   \n",
       "735        AU   NaN              NaN         2.0    45.5924       2208   \n",
       "736        AT   NaN              NaN         2.0    42.6878       2208   \n",
       "737        BE   NaN              NaN         2.0    48.7878       2208   \n",
       "...       ...   ...              ...         ...        ...        ...   \n",
       "11897      NZ   NaN              NaN         NaN    14.1929        951   \n",
       "11898      PL   NaN              NaN         NaN    13.0471        951   \n",
       "11899      PT   NaN              NaN         NaN    12.1878        951   \n",
       "12173      US   6.0              NaN         NaN    14.9900        886   \n",
       "12174      CA   6.0              NaN         NaN    14.0322        886   \n",
       "\n",
       "       PieceCount  ValStarRating  LaunchDate  \n",
       "575          39.0            NaN  14/02/2019  \n",
       "576          39.0            NaN  07/05/2010  \n",
       "735         900.0            4.5  05/08/2015  \n",
       "736         900.0            4.5  23/11/2015  \n",
       "737         900.0            4.5  03/10/2011  \n",
       "...           ...            ...         ...  \n",
       "11897        86.0            NaN  21/02/2017  \n",
       "11898        86.0            NaN  09/12/2017  \n",
       "11899        86.0            NaN  01/10/2017  \n",
       "12173        30.0            NaN  09/01/2012  \n",
       "12174        30.0            NaN  05/12/2010  \n",
       "\n",
       "[2056 rows x 14 columns]"
      ]
     },
     "execution_count": 39,
     "metadata": {},
     "output_type": "execute_result"
    }
   ],
   "source": [
    "df_cleaned.loc[df_cleaned['ReviewDifficulty'].isna()]"
   ]
  },
  {
   "cell_type": "markdown",
   "metadata": {},
   "source": [
    "There's a lot of null entries here! Unlike with `'ThemeName'` earlier, we're going to have to deal with this.\n",
    "\n",
    "There are a couple of options we could use to fill these null values. Do we have other records with the **same** `'ProdID'` where the `'ReviewDifficulty'` isn't null? If so, we could use those other rows to fill in these missing values!\n",
    "\n",
    "The code below will show us that we could use this method to fill some fields, but not all of them."
   ]
  },
  {
   "cell_type": "code",
   "execution_count": 40,
   "metadata": {},
   "outputs": [
    {
     "name": "stdout",
     "output_type": "stream",
     "text": [
      "The number of products with at least one null ReviewDifficulty is 636\n",
      "\n",
      "Of these, 8 have another record with a ReviewDifficulty that isnt null\n",
      "\n",
      "They are: {75523, 70628, 70905, 10759, 10761, 75181, 75187, 75929}\n"
     ]
    }
   ],
   "source": [
    "# Get a list of the unique product IDs with a non null 'ReviewDifficulty', and a list of unique product IDs with a null 'ReviewDifficulty'\n",
    "\n",
    "non_null = set(df_cleaned.loc[df_cleaned['ReviewDifficulty'].notna()]['ProdID'].unique())\n",
    "null = set(df_cleaned.loc[df_cleaned['ReviewDifficulty'].isna()]['ProdID'].unique())\n",
    "\n",
    "print(f'The number of products with at least one null ReviewDifficulty is {len(non_null)}\\n')\n",
    "print(f'Of these, {len(null & non_null)} have another record with a ReviewDifficulty that isnt null\\n')\n",
    "print(f'They are: {null & non_null}')"
   ]
  },
  {
   "cell_type": "markdown",
   "metadata": {},
   "source": [
    "Given the above, there's still going to be 624 null entries that we can't fill in using other similar records...\n",
    "\n",
    "Furthermore, is a `'ReviewDifficulty'` entry unique for each `'ProdID'`? This is an important question!\n",
    "\n",
    "Let's take a look at the values in `'ReviewDifficulty'`, based on the `'ProdID'`. Does `'ProdID'` uniquely determine `'ReviewDifficulty'`?\n",
    "\n",
    "### Task:\n",
    "\n",
    "* Write a block of code below to find out whether there can be >1 (non-null) entry in `'ReviewDifficulty'` for any `'ProdID'`"
   ]
  },
  {
   "cell_type": "code",
   "execution_count": 41,
   "metadata": {},
   "outputs": [
    {
     "data": {
      "text/html": [
       "<div>\n",
       "<style scoped>\n",
       "    .dataframe tbody tr th:only-of-type {\n",
       "        vertical-align: middle;\n",
       "    }\n",
       "\n",
       "    .dataframe tbody tr th {\n",
       "        vertical-align: top;\n",
       "    }\n",
       "\n",
       "    .dataframe thead th {\n",
       "        text-align: right;\n",
       "    }\n",
       "</style>\n",
       "<table border=\"1\" class=\"dataframe\">\n",
       "  <thead>\n",
       "    <tr style=\"text-align: right;\">\n",
       "      <th></th>\n",
       "      <th>ProdID</th>\n",
       "      <th>Number unique reviews</th>\n",
       "    </tr>\n",
       "  </thead>\n",
       "  <tbody>\n",
       "    <tr>\n",
       "      <th>548</th>\n",
       "      <td>75209</td>\n",
       "      <td>4</td>\n",
       "    </tr>\n",
       "    <tr>\n",
       "      <th>583</th>\n",
       "      <td>75926</td>\n",
       "      <td>2</td>\n",
       "    </tr>\n",
       "  </tbody>\n",
       "</table>\n",
       "</div>"
      ],
      "text/plain": [
       "     ProdID  Number unique reviews\n",
       "548   75209                      4\n",
       "583   75926                      2"
      ]
     },
     "execution_count": 41,
     "metadata": {},
     "output_type": "execute_result"
    }
   ],
   "source": [
    "## TODO: Add your own code below!\n"
   ]
  },
  {
   "cell_type": "markdown",
   "metadata": {},
   "source": [
    "You should find that actually there are a pair of different `'ProdID'`s that have >1 different review type:\n",
    "* 75209\n",
    "* 75926\n",
    "\n",
    "Ideally, we'll just have one `'ReviewDifficulty'` for each product. Given what we've just found about (a) null `'ReviewDifficulty'` entries, and (b) conflicting `'ReviewDifficulty'` entries for the same product, we discuss with the business and are told that for analysis purposes, we will do the following:\n",
    "\n",
    "For each `'ProdId'`, we will do the following to identify a unique `'ReviewDifficulty'`:\n",
    "\n",
    "1. If the `'ProdID'` has one unique non-null `'ReviewDifficulty'` entry in this dataset, we use that\n",
    "2. If the `'ProdID'` has >1 unique non-null `'ReviewDifficulty'` entry in this dataset, we use the one with the latest `'LaunchDate'`\n",
    "3. If the `'ProdID'` has only null `'ReviewDifficulty'` entries in this dataset, we will fill the `'ReviewDifficulty'` field using the following logic:\n",
    "   * If `'PieceCount'` <= 90 then 'Very Easy'\n",
    "   * If `'PieceCount'` > 90 and `'PieceCount'` <=230 then 'Easy'\n",
    "   * If `'PieceCount'` > 230 and `'PieceCount'` <=560 then 'Average'\n",
    "   * If `'PieceCount'` > 560 and `'PieceCount'` <=1000 then 'Challenging'\n",
    "   * If `'PieceCount'` >1000 then 'Very Challenging' \n",
    "\n",
    "## Task (HARD):\n",
    "* Create a dataframe called `new_reviews` containing two columns, `'ProdID'`, and `'ReviewDifficulty'`, that implements the logic above.\n",
    "    * To do this, you may wish to implement the logic in the three stages as specified above, then bring the three dataframes together. I.e.\n",
    "    1. Create a dataframe called `unique_reviews`, that has two columns, `'ProdID'` and `'ReviewDifficulty'`, with one row for each `'ProdID'` where there is a unique value for `'ReviewDifficulty'`\n",
    "    2. Create a dataframe called `non_unique_reviews`, that has two columns, `'ProdID'` and `'ReviewDifficulty'`, with one row for each `'ProdID'` where there is a non unique value for `'ReviewDifficulty'`, and the latest `'ReviewDifficulty'` value is chosen\n",
    "    3. Create a dataframe called `null_reviews`, that has two columns, `'ProdID'` and `'ReviewDifficulty'`, with one row for each `'ProdID'` where there are no values for `'ReviewDifficulty'`, and the `'ReviewDifficulty'` column has been filled out using the logic specified above on `'PieceCount'`\n",
    "    4. Combine all three dataframes above to create a complete dataframe, called `new_reviews`\n",
    "    "
   ]
  },
  {
   "cell_type": "code",
   "execution_count": 42,
   "metadata": {},
   "outputs": [
    {
     "data": {
      "text/html": [
       "<div>\n",
       "<style scoped>\n",
       "    .dataframe tbody tr th:only-of-type {\n",
       "        vertical-align: middle;\n",
       "    }\n",
       "\n",
       "    .dataframe tbody tr th {\n",
       "        vertical-align: top;\n",
       "    }\n",
       "\n",
       "    .dataframe thead th {\n",
       "        text-align: right;\n",
       "    }\n",
       "</style>\n",
       "<table border=\"1\" class=\"dataframe\">\n",
       "  <thead>\n",
       "    <tr style=\"text-align: right;\">\n",
       "      <th></th>\n",
       "      <th>ProdID</th>\n",
       "      <th>ReviewDifficulty</th>\n",
       "    </tr>\n",
       "  </thead>\n",
       "  <tbody>\n",
       "    <tr>\n",
       "      <th>0</th>\n",
       "      <td>630</td>\n",
       "      <td>Very Easy</td>\n",
       "    </tr>\n",
       "    <tr>\n",
       "      <th>21</th>\n",
       "      <td>2304</td>\n",
       "      <td>Easy</td>\n",
       "    </tr>\n",
       "    <tr>\n",
       "      <th>42</th>\n",
       "      <td>7280</td>\n",
       "      <td>Very Easy</td>\n",
       "    </tr>\n",
       "    <tr>\n",
       "      <th>63</th>\n",
       "      <td>7281</td>\n",
       "      <td>Very Easy</td>\n",
       "    </tr>\n",
       "    <tr>\n",
       "      <th>84</th>\n",
       "      <td>7499</td>\n",
       "      <td>Easy</td>\n",
       "    </tr>\n",
       "    <tr>\n",
       "      <th>...</th>\n",
       "      <td>...</td>\n",
       "      <td>...</td>\n",
       "    </tr>\n",
       "    <tr>\n",
       "      <th>11485</th>\n",
       "      <td>75928</td>\n",
       "      <td>Average</td>\n",
       "    </tr>\n",
       "    <tr>\n",
       "      <th>11590</th>\n",
       "      <td>75933</td>\n",
       "      <td>Challenging</td>\n",
       "    </tr>\n",
       "    <tr>\n",
       "      <th>11858</th>\n",
       "      <td>76089</td>\n",
       "      <td>Very Easy</td>\n",
       "    </tr>\n",
       "    <tr>\n",
       "      <th>11879</th>\n",
       "      <td>76090</td>\n",
       "      <td>Very Easy</td>\n",
       "    </tr>\n",
       "    <tr>\n",
       "      <th>12173</th>\n",
       "      <td>853516</td>\n",
       "      <td>Very Easy</td>\n",
       "    </tr>\n",
       "  </tbody>\n",
       "</table>\n",
       "<p>744 rows × 2 columns</p>\n",
       "</div>"
      ],
      "text/plain": [
       "       ProdID ReviewDifficulty\n",
       "0         630        Very Easy\n",
       "21       2304             Easy\n",
       "42       7280        Very Easy\n",
       "63       7281        Very Easy\n",
       "84       7499             Easy\n",
       "...       ...              ...\n",
       "11485   75928          Average\n",
       "11590   75933      Challenging\n",
       "11858   76089        Very Easy\n",
       "11879   76090        Very Easy\n",
       "12173  853516        Very Easy\n",
       "\n",
       "[744 rows x 2 columns]"
      ]
     },
     "execution_count": 42,
     "metadata": {},
     "output_type": "execute_result"
    }
   ],
   "source": [
    "## TODO: Add your own code below!\n"
   ]
  },
  {
   "cell_type": "markdown",
   "metadata": {},
   "source": [
    "### TEST: \n",
    "<span style=\"color:blue\">Run the code block below to test your output!</span>"
   ]
  },
  {
   "cell_type": "code",
   "execution_count": 43,
   "metadata": {},
   "outputs": [
    {
     "name": "stdout",
     "output_type": "stream",
     "text": [
      "( ͡❛ ͜ʖ ͡❛) Good job! Lego's looking pretty good.\n"
     ]
    }
   ],
   "source": [
    "# TEST CELL - Run this cell to test your 'new_reviews' variable\n",
    "\n",
    "try:\n",
    "    assertions.new_reviews(new_reviews)\n",
    "except:\n",
    "    print(f'Your dataframe, {new_reviews}, hasnt been found. Have you defined it?')\n"
   ]
  },
  {
   "cell_type": "markdown",
   "metadata": {},
   "source": [
    "Now that we have our `new_reviews` DataFrame, we can update the `'ReviewDifficulty'` column in `df_cleaned` by dropping that column, and using a `.merge` operation to update that column with the entries from `new_reviews`.\n",
    "\n",
    "## Task:\n",
    "\n",
    "* Replace the `ReviewDifficulty` entries in `df_cleaned` with the `'ReviewDifficulty'` entries in `new_reviews`"
   ]
  },
  {
   "cell_type": "code",
   "execution_count": 44,
   "metadata": {},
   "outputs": [
    {
     "data": {
      "text/html": [
       "<div>\n",
       "<style scoped>\n",
       "    .dataframe tbody tr th:only-of-type {\n",
       "        vertical-align: middle;\n",
       "    }\n",
       "\n",
       "    .dataframe tbody tr th {\n",
       "        vertical-align: top;\n",
       "    }\n",
       "\n",
       "    .dataframe thead th {\n",
       "        text-align: right;\n",
       "    }\n",
       "</style>\n",
       "<table border=\"1\" class=\"dataframe\">\n",
       "  <thead>\n",
       "    <tr style=\"text-align: right;\">\n",
       "      <th></th>\n",
       "      <th>ProdID</th>\n",
       "      <th>SetName</th>\n",
       "      <th>ProdDesc</th>\n",
       "      <th>ProdLongDesc</th>\n",
       "      <th>ThemeName</th>\n",
       "      <th>Country</th>\n",
       "      <th>Ages</th>\n",
       "      <th>NumReviews</th>\n",
       "      <th>ListPrice</th>\n",
       "      <th>WeightGrs</th>\n",
       "      <th>PieceCount</th>\n",
       "      <th>ValStarRating</th>\n",
       "      <th>LaunchDate</th>\n",
       "      <th>ReviewDifficulty</th>\n",
       "    </tr>\n",
       "  </thead>\n",
       "  <tbody>\n",
       "    <tr>\n",
       "      <th>0</th>\n",
       "      <td>630</td>\n",
       "      <td>Brick Separator</td>\n",
       "      <td>Everyone needs one!</td>\n",
       "      <td>This tool makes it a snap to pull those small ...</td>\n",
       "      <td>Classic</td>\n",
       "      <td>US</td>\n",
       "      <td>4.0</td>\n",
       "      <td>180.0</td>\n",
       "      <td>2.4900</td>\n",
       "      <td>2003</td>\n",
       "      <td>1.0</td>\n",
       "      <td>4.6</td>\n",
       "      <td>25/06/2017</td>\n",
       "      <td>Very Easy</td>\n",
       "    </tr>\n",
       "    <tr>\n",
       "      <th>1</th>\n",
       "      <td>630</td>\n",
       "      <td>Brick Separator</td>\n",
       "      <td>Everyone needs one!</td>\n",
       "      <td>This tool makes it a snap to pull those small ...</td>\n",
       "      <td>Classic</td>\n",
       "      <td>AU</td>\n",
       "      <td>4.0</td>\n",
       "      <td>180.0</td>\n",
       "      <td>2.2724</td>\n",
       "      <td>2003</td>\n",
       "      <td>1.0</td>\n",
       "      <td>4.6</td>\n",
       "      <td>20/02/2017</td>\n",
       "      <td>Very Easy</td>\n",
       "    </tr>\n",
       "    <tr>\n",
       "      <th>2</th>\n",
       "      <td>630</td>\n",
       "      <td>Brick Separator</td>\n",
       "      <td>Everyone needs one!</td>\n",
       "      <td>This tool makes it a snap to pull those small ...</td>\n",
       "      <td>Classic</td>\n",
       "      <td>AT</td>\n",
       "      <td>4.0</td>\n",
       "      <td>180.0</td>\n",
       "      <td>3.0378</td>\n",
       "      <td>2003</td>\n",
       "      <td>1.0</td>\n",
       "      <td>4.6</td>\n",
       "      <td>12/07/2014</td>\n",
       "      <td>Very Easy</td>\n",
       "    </tr>\n",
       "  </tbody>\n",
       "</table>\n",
       "</div>"
      ],
      "text/plain": [
       "   ProdID          SetName             ProdDesc  \\\n",
       "0     630  Brick Separator  Everyone needs one!   \n",
       "1     630  Brick Separator  Everyone needs one!   \n",
       "2     630  Brick Separator  Everyone needs one!   \n",
       "\n",
       "                                        ProdLongDesc ThemeName Country  Ages  \\\n",
       "0  This tool makes it a snap to pull those small ...   Classic      US   4.0   \n",
       "1  This tool makes it a snap to pull those small ...   Classic      AU   4.0   \n",
       "2  This tool makes it a snap to pull those small ...   Classic      AT   4.0   \n",
       "\n",
       "   NumReviews  ListPrice  WeightGrs  PieceCount  ValStarRating  LaunchDate  \\\n",
       "0       180.0     2.4900       2003         1.0            4.6  25/06/2017   \n",
       "1       180.0     2.2724       2003         1.0            4.6  20/02/2017   \n",
       "2       180.0     3.0378       2003         1.0            4.6  12/07/2014   \n",
       "\n",
       "  ReviewDifficulty  \n",
       "0        Very Easy  \n",
       "1        Very Easy  \n",
       "2        Very Easy  "
      ]
     },
     "execution_count": 44,
     "metadata": {},
     "output_type": "execute_result"
    }
   ],
   "source": [
    "## TODO: Add your own code below!\n"
   ]
  },
  {
   "cell_type": "markdown",
   "metadata": {},
   "source": [
    "### TEST: \n",
    "<span style=\"color:blue\">Run the code block below to test your output!</span>"
   ]
  },
  {
   "cell_type": "code",
   "execution_count": 45,
   "metadata": {},
   "outputs": [
    {
     "name": "stdout",
     "output_type": "stream",
     "text": [
      "( ͡❛ ͜ʖ ͡❛) Good job! Lego's looking pretty good.\n"
     ]
    }
   ],
   "source": [
    "# TEST CELL - Run this cell to test your cleaning of the 'ReviewDifficulty' column\n",
    "\n",
    "assertions.updated_reviews(df_cleaned)"
   ]
  },
  {
   "cell_type": "markdown",
   "metadata": {},
   "source": [
    "## How expensive is our Lego? The `'ListPrice'` column - PLACEHOLDER\n",
    "\n",
    "Cleaning up the `'ReviewDifficulty'` column was a tricky one! Let's hope that `'ListPrice'` is an easier challenge...\n",
    "\n",
    "As usual, before we know what we need to do, let's get some information about this column."
   ]
  },
  {
   "cell_type": "code",
   "execution_count": 46,
   "metadata": {},
   "outputs": [
    {
     "name": "stdout",
     "output_type": "stream",
     "text": [
      "ListPrice column has data type: float64\n",
      "\n",
      "Max value is: 1104.87\n",
      "\n",
      "Min value is: 2.2724\n",
      "\n",
      "Number of null entries: 0\n"
     ]
    }
   ],
   "source": [
    "# The datatype of the column\n",
    "print(f\"ListPrice column has data type: {df_cleaned['ListPrice'].dtype}\\n\")\n",
    "print(f\"Max value is: {df_cleaned['ListPrice'].max()}\\n\")\n",
    "print(f\"Min value is: {df_cleaned['ListPrice'].min()}\\n\")\n",
    "print(f\"Number of null entries: {df_cleaned['ListPrice'].isna().sum()}\")"
   ]
  },
  {
   "cell_type": "markdown",
   "metadata": {},
   "source": [
    "Wow! That's a nice surprise...\n",
    "\n",
    "The column is correctly formatted as a float, has no 0 or negative entries (how could a set sell for free or <0?)\n",
    "\n",
    "The only thing we might want to check is again whether `'ListPrice'` is uniquely determined by `'Country'` and `'ProdID'` - does `'ListPrice'` change over time?\n",
    "\n",
    "### Task:\n",
    "\n",
    "* Identify whether any pairings of `'Country'` and `'ProdID'` have >1 possible `'ListPrice'`"
   ]
  },
  {
   "cell_type": "code",
   "execution_count": 47,
   "metadata": {},
   "outputs": [],
   "source": [
    "## TODO: Add your own code below!\n"
   ]
  },
  {
   "cell_type": "markdown",
   "metadata": {},
   "source": [
    "If you manage the above, you'll see that in fact there aren't any pairings of `'Country'` and `'ProdID'` have >1 possible `'ListPrice'`! What a nice surprise that we've got such a clean column already. Let's move on to the weight!"
   ]
  },
  {
   "cell_type": "markdown",
   "metadata": {},
   "source": [
    "## How much does our Lego weigh? The `'WeightGrs'` column\n",
    "\n",
    "It should make sense that each Lego set has only one possible weight. I.e., `'WeightGrs'` should be uniquely determined by `'ProdID'`\n",
    "\n",
    "### Task:\n",
    "\n",
    "* Check that for each unique `'ProdID'`, there is only one unique `'WeightGrs'` value.\n",
    "* If there isn't, find the `'Weightgrs'` value that appears most frequently for that `'ProdID'`, and overwrite any other entries for that pairing with this value.\n",
    "\n",
    "TODO: (Note to self) Probably split this into two seperate steps.\n",
    "\n",
    "For example, the 'Airport' set appears 23 times. 21 instances list the weight as 993, and 2 instances list the weight as 1967. We would want to overwrite the weights listed as 1967 with 993."
   ]
  },
  {
   "cell_type": "code",
   "execution_count": 48,
   "metadata": {},
   "outputs": [],
   "source": [
    "## TODO: Add your own code below!\n"
   ]
  },
  {
   "cell_type": "markdown",
   "metadata": {},
   "source": [
    "### TEST: \n",
    "<span style=\"color:blue\">Run the code block below to test your output!</span>"
   ]
  },
  {
   "cell_type": "code",
   "execution_count": 49,
   "metadata": {},
   "outputs": [
    {
     "name": "stdout",
     "output_type": "stream",
     "text": [
      "( ͡❛ ͜ʖ ͡❛) Good job! Lego's looking pretty good.\n"
     ]
    }
   ],
   "source": [
    "# TEST CELL - Run this cell to test your cleaning of the 'WeightGrs' column\n",
    "\n",
    "assertions.new_weights(df_cleaned)"
   ]
  },
  {
   "cell_type": "markdown",
   "metadata": {},
   "source": [
    "## How big are our Lego sets? The `'PieceCount'` column\n",
    "\n",
    "Finally, let's turn to the `'PieceCount'` field. Running the code below shows that we have some blank (nan) values.\n"
   ]
  },
  {
   "cell_type": "code",
   "execution_count": 50,
   "metadata": {},
   "outputs": [
    {
     "data": {
      "text/html": [
       "<div>\n",
       "<style scoped>\n",
       "    .dataframe tbody tr th:only-of-type {\n",
       "        vertical-align: middle;\n",
       "    }\n",
       "\n",
       "    .dataframe tbody tr th {\n",
       "        vertical-align: top;\n",
       "    }\n",
       "\n",
       "    .dataframe thead th {\n",
       "        text-align: right;\n",
       "    }\n",
       "</style>\n",
       "<table border=\"1\" class=\"dataframe\">\n",
       "  <thead>\n",
       "    <tr style=\"text-align: right;\">\n",
       "      <th></th>\n",
       "      <th>ProdID</th>\n",
       "      <th>SetName</th>\n",
       "      <th>ProdDesc</th>\n",
       "      <th>ProdLongDesc</th>\n",
       "      <th>ThemeName</th>\n",
       "      <th>Country</th>\n",
       "      <th>Ages</th>\n",
       "      <th>NumReviews</th>\n",
       "      <th>ListPrice</th>\n",
       "      <th>PieceCount</th>\n",
       "      <th>ValStarRating</th>\n",
       "      <th>LaunchDate</th>\n",
       "      <th>ReviewDifficulty</th>\n",
       "      <th>WeightGrs</th>\n",
       "    </tr>\n",
       "  </thead>\n",
       "  <tbody>\n",
       "    <tr>\n",
       "      <th>46</th>\n",
       "      <td>7280</td>\n",
       "      <td>Straight &amp; Crossroad Plates</td>\n",
       "      <td>Add roads to your LEGO® town!</td>\n",
       "      <td>Expand your LEGO® town with this set of straig...</td>\n",
       "      <td>City</td>\n",
       "      <td>CA</td>\n",
       "      <td>NaN</td>\n",
       "      <td>85.0</td>\n",
       "      <td>15.5922</td>\n",
       "      <td>NaN</td>\n",
       "      <td>2.3</td>\n",
       "      <td>22/10/2011</td>\n",
       "      <td>Very Easy</td>\n",
       "      <td>1137</td>\n",
       "    </tr>\n",
       "    <tr>\n",
       "      <th>47</th>\n",
       "      <td>7280</td>\n",
       "      <td>Straight &amp; Crossroad Plates</td>\n",
       "      <td>Add roads to your LEGO® town!</td>\n",
       "      <td>Expand your LEGO® town with this set of straig...</td>\n",
       "      <td>City</td>\n",
       "      <td>CH</td>\n",
       "      <td>NaN</td>\n",
       "      <td>85.0</td>\n",
       "      <td>12.1380</td>\n",
       "      <td>NaN</td>\n",
       "      <td>2.3</td>\n",
       "      <td>25/10/2018</td>\n",
       "      <td>Very Easy</td>\n",
       "      <td>1137</td>\n",
       "    </tr>\n",
       "    <tr>\n",
       "      <th>48</th>\n",
       "      <td>7280</td>\n",
       "      <td>Straight &amp; Crossroad Plates</td>\n",
       "      <td>Add roads to your LEGO® town!</td>\n",
       "      <td>Expand your LEGO® town with this set of straig...</td>\n",
       "      <td>City</td>\n",
       "      <td>CZ</td>\n",
       "      <td>NaN</td>\n",
       "      <td>85.0</td>\n",
       "      <td>11.9520</td>\n",
       "      <td>NaN</td>\n",
       "      <td>2.3</td>\n",
       "      <td>06/02/2018</td>\n",
       "      <td>Very Easy</td>\n",
       "      <td>1137</td>\n",
       "    </tr>\n",
       "    <tr>\n",
       "      <th>49</th>\n",
       "      <td>7280</td>\n",
       "      <td>Straight &amp; Crossroad Plates</td>\n",
       "      <td>Add roads to your LEGO® town!</td>\n",
       "      <td>Expand your LEGO® town with this set of straig...</td>\n",
       "      <td>City</td>\n",
       "      <td>DE</td>\n",
       "      <td>NaN</td>\n",
       "      <td>85.0</td>\n",
       "      <td>14.6278</td>\n",
       "      <td>NaN</td>\n",
       "      <td>2.3</td>\n",
       "      <td>28/02/2011</td>\n",
       "      <td>Very Easy</td>\n",
       "      <td>1137</td>\n",
       "    </tr>\n",
       "    <tr>\n",
       "      <th>50</th>\n",
       "      <td>7280</td>\n",
       "      <td>Straight &amp; Crossroad Plates</td>\n",
       "      <td>Add roads to your LEGO® town!</td>\n",
       "      <td>Expand your LEGO® town with this set of straig...</td>\n",
       "      <td>City</td>\n",
       "      <td>DN</td>\n",
       "      <td>NaN</td>\n",
       "      <td>85.0</td>\n",
       "      <td>12.0000</td>\n",
       "      <td>NaN</td>\n",
       "      <td>2.3</td>\n",
       "      <td>15/03/2019</td>\n",
       "      <td>Very Easy</td>\n",
       "      <td>1137</td>\n",
       "    </tr>\n",
       "    <tr>\n",
       "      <th>51</th>\n",
       "      <td>7280</td>\n",
       "      <td>Straight &amp; Crossroad Plates</td>\n",
       "      <td>Add roads to your LEGO® town!</td>\n",
       "      <td>Expand your LEGO® town with this set of straig...</td>\n",
       "      <td>City</td>\n",
       "      <td>ES</td>\n",
       "      <td>NaN</td>\n",
       "      <td>85.0</td>\n",
       "      <td>14.6278</td>\n",
       "      <td>NaN</td>\n",
       "      <td>2.3</td>\n",
       "      <td>20/02/2019</td>\n",
       "      <td>Very Easy</td>\n",
       "      <td>1137</td>\n",
       "    </tr>\n",
       "    <tr>\n",
       "      <th>52</th>\n",
       "      <td>7280</td>\n",
       "      <td>Straight &amp; Crossroad Plates</td>\n",
       "      <td>Add roads to your LEGO® town!</td>\n",
       "      <td>Expand your LEGO® town with this set of straig...</td>\n",
       "      <td>City</td>\n",
       "      <td>FI</td>\n",
       "      <td>NaN</td>\n",
       "      <td>85.0</td>\n",
       "      <td>15.7990</td>\n",
       "      <td>NaN</td>\n",
       "      <td>2.3</td>\n",
       "      <td>08/07/2017</td>\n",
       "      <td>Very Easy</td>\n",
       "      <td>1137</td>\n",
       "    </tr>\n",
       "  </tbody>\n",
       "</table>\n",
       "</div>"
      ],
      "text/plain": [
       "    ProdID                      SetName                       ProdDesc  \\\n",
       "46    7280  Straight & Crossroad Plates  Add roads to your LEGO® town!   \n",
       "47    7280  Straight & Crossroad Plates  Add roads to your LEGO® town!   \n",
       "48    7280  Straight & Crossroad Plates  Add roads to your LEGO® town!   \n",
       "49    7280  Straight & Crossroad Plates  Add roads to your LEGO® town!   \n",
       "50    7280  Straight & Crossroad Plates  Add roads to your LEGO® town!   \n",
       "51    7280  Straight & Crossroad Plates  Add roads to your LEGO® town!   \n",
       "52    7280  Straight & Crossroad Plates  Add roads to your LEGO® town!   \n",
       "\n",
       "                                         ProdLongDesc ThemeName Country  Ages  \\\n",
       "46  Expand your LEGO® town with this set of straig...      City      CA   NaN   \n",
       "47  Expand your LEGO® town with this set of straig...      City      CH   NaN   \n",
       "48  Expand your LEGO® town with this set of straig...      City      CZ   NaN   \n",
       "49  Expand your LEGO® town with this set of straig...      City      DE   NaN   \n",
       "50  Expand your LEGO® town with this set of straig...      City      DN   NaN   \n",
       "51  Expand your LEGO® town with this set of straig...      City      ES   NaN   \n",
       "52  Expand your LEGO® town with this set of straig...      City      FI   NaN   \n",
       "\n",
       "    NumReviews  ListPrice  PieceCount  ValStarRating  LaunchDate  \\\n",
       "46        85.0    15.5922         NaN            2.3  22/10/2011   \n",
       "47        85.0    12.1380         NaN            2.3  25/10/2018   \n",
       "48        85.0    11.9520         NaN            2.3  06/02/2018   \n",
       "49        85.0    14.6278         NaN            2.3  28/02/2011   \n",
       "50        85.0    12.0000         NaN            2.3  15/03/2019   \n",
       "51        85.0    14.6278         NaN            2.3  20/02/2019   \n",
       "52        85.0    15.7990         NaN            2.3  08/07/2017   \n",
       "\n",
       "   ReviewDifficulty  WeightGrs  \n",
       "46        Very Easy       1137  \n",
       "47        Very Easy       1137  \n",
       "48        Very Easy       1137  \n",
       "49        Very Easy       1137  \n",
       "50        Very Easy       1137  \n",
       "51        Very Easy       1137  \n",
       "52        Very Easy       1137  "
      ]
     },
     "execution_count": 50,
     "metadata": {},
     "output_type": "execute_result"
    }
   ],
   "source": [
    "# Create and view a dataframe where there's a null number of pieces\n",
    "\n",
    "null_number_of_pieces = df_cleaned.loc[df_cleaned['PieceCount'].isna()]\n",
    "null_number_of_pieces"
   ]
  },
  {
   "cell_type": "code",
   "execution_count": 51,
   "metadata": {},
   "outputs": [
    {
     "data": {
      "text/plain": [
       "dtype('float64')"
      ]
     },
     "execution_count": 51,
     "metadata": {},
     "output_type": "execute_result"
    }
   ],
   "source": [
    "# Column type for 'PieceCount'\n",
    "df_cleaned['PieceCount'].dtype"
   ]
  },
  {
   "cell_type": "markdown",
   "metadata": {},
   "source": [
    "Once again, we'll need to check whether there are any `'ProdID'`'s with >1 different listed numbers of pieces. \n",
    "\n",
    "### TASK:\n",
    "\n",
    "* Create a dataframe, `piececounts`, which has two columns, `'ProdID'`, and `'NumberOfUniquePieceListings'`, and just those `'ProdID'`'s that have >1 unique listings."
   ]
  },
  {
   "cell_type": "code",
   "execution_count": 52,
   "metadata": {},
   "outputs": [
    {
     "data": {
      "text/html": [
       "<div>\n",
       "<style scoped>\n",
       "    .dataframe tbody tr th:only-of-type {\n",
       "        vertical-align: middle;\n",
       "    }\n",
       "\n",
       "    .dataframe tbody tr th {\n",
       "        vertical-align: top;\n",
       "    }\n",
       "\n",
       "    .dataframe thead th {\n",
       "        text-align: right;\n",
       "    }\n",
       "</style>\n",
       "<table border=\"1\" class=\"dataframe\">\n",
       "  <thead>\n",
       "    <tr style=\"text-align: right;\">\n",
       "      <th></th>\n",
       "      <th>ProdID</th>\n",
       "      <th>NumberOfUniquePieceListings</th>\n",
       "    </tr>\n",
       "  </thead>\n",
       "  <tbody>\n",
       "    <tr>\n",
       "      <th>332</th>\n",
       "      <td>42033</td>\n",
       "      <td>2</td>\n",
       "    </tr>\n",
       "    <tr>\n",
       "      <th>622</th>\n",
       "      <td>75181</td>\n",
       "      <td>2</td>\n",
       "    </tr>\n",
       "    <tr>\n",
       "      <th>652</th>\n",
       "      <td>75212</td>\n",
       "      <td>2</td>\n",
       "    </tr>\n",
       "  </tbody>\n",
       "</table>\n",
       "</div>"
      ],
      "text/plain": [
       "     ProdID  NumberOfUniquePieceListings\n",
       "332   42033                            2\n",
       "622   75181                            2\n",
       "652   75212                            2"
      ]
     },
     "execution_count": 52,
     "metadata": {},
     "output_type": "execute_result"
    }
   ],
   "source": [
    "## TODO: Add your own code below!\n"
   ]
  },
  {
   "cell_type": "markdown",
   "metadata": {},
   "source": [
    "### TEST: \n",
    "<span style=\"color:blue\">Run the code block below to test your output!"
   ]
  },
  {
   "cell_type": "code",
   "execution_count": 53,
   "metadata": {},
   "outputs": [
    {
     "name": "stdout",
     "output_type": "stream",
     "text": [
      "( ͡❛ ͜ʖ ͡❛) Good job! Lego's looking pretty good.\n"
     ]
    }
   ],
   "source": [
    "# TEST CELL - Run this cell to test your 'unique_piececount' variable\n",
    "\n",
    "assertions.unique_piececount(unique_piececount)"
   ]
  },
  {
   "cell_type": "markdown",
   "metadata": {},
   "source": [
    "If your code passes, you'll see that the `'ProdID'`'s:\n",
    "\n",
    "* 42033\n",
    "* 75181\n",
    "* 75212\n",
    "\n",
    "Have 2 unique listings for their `'PieceCount'`.\n",
    "\n",
    "Let's see what those possible listings are.\n",
    "\n",
    "### Task:\n",
    "\n",
    "* Create a dataframe, `duped_piececounts`, which has the `'ProdID'`s listed above, and any possible `'PieceCount'` values"
   ]
  },
  {
   "cell_type": "code",
   "execution_count": 54,
   "metadata": {},
   "outputs": [
    {
     "data": {
      "text/html": [
       "<div>\n",
       "<style scoped>\n",
       "    .dataframe tbody tr th:only-of-type {\n",
       "        vertical-align: middle;\n",
       "    }\n",
       "\n",
       "    .dataframe tbody tr th {\n",
       "        vertical-align: top;\n",
       "    }\n",
       "\n",
       "    .dataframe thead th {\n",
       "        text-align: right;\n",
       "    }\n",
       "</style>\n",
       "<table border=\"1\" class=\"dataframe\">\n",
       "  <thead>\n",
       "    <tr style=\"text-align: right;\">\n",
       "      <th></th>\n",
       "      <th>ProdID</th>\n",
       "      <th>SetName</th>\n",
       "      <th>PieceCount</th>\n",
       "      <th>NumberOfUniquePieceListings</th>\n",
       "    </tr>\n",
       "  </thead>\n",
       "  <tbody>\n",
       "    <tr>\n",
       "      <th>0</th>\n",
       "      <td>42033</td>\n",
       "      <td>Record Breaker</td>\n",
       "      <td>125.0</td>\n",
       "      <td>2</td>\n",
       "    </tr>\n",
       "    <tr>\n",
       "      <th>1</th>\n",
       "      <td>42033</td>\n",
       "      <td>Record Breaker</td>\n",
       "      <td>130.0</td>\n",
       "      <td>2</td>\n",
       "    </tr>\n",
       "    <tr>\n",
       "      <th>2</th>\n",
       "      <td>75181</td>\n",
       "      <td>Y-Wing Starfighter™</td>\n",
       "      <td>1966.0</td>\n",
       "      <td>2</td>\n",
       "    </tr>\n",
       "    <tr>\n",
       "      <th>6</th>\n",
       "      <td>75181</td>\n",
       "      <td>Y-Wing Starfighter™</td>\n",
       "      <td>1967.0</td>\n",
       "      <td>2</td>\n",
       "    </tr>\n",
       "    <tr>\n",
       "      <th>23</th>\n",
       "      <td>75212</td>\n",
       "      <td>Kessel Run Millennium Falcon™</td>\n",
       "      <td>1413.0</td>\n",
       "      <td>2</td>\n",
       "    </tr>\n",
       "    <tr>\n",
       "      <th>27</th>\n",
       "      <td>75212</td>\n",
       "      <td>Kessel Run Millennium Falcon™</td>\n",
       "      <td>1414.0</td>\n",
       "      <td>2</td>\n",
       "    </tr>\n",
       "  </tbody>\n",
       "</table>\n",
       "</div>"
      ],
      "text/plain": [
       "    ProdID                        SetName  PieceCount  \\\n",
       "0    42033                 Record Breaker       125.0   \n",
       "1    42033                 Record Breaker       130.0   \n",
       "2    75181            Y-Wing Starfighter™      1966.0   \n",
       "6    75181            Y-Wing Starfighter™      1967.0   \n",
       "23   75212  Kessel Run Millennium Falcon™      1413.0   \n",
       "27   75212  Kessel Run Millennium Falcon™      1414.0   \n",
       "\n",
       "    NumberOfUniquePieceListings  \n",
       "0                             2  \n",
       "1                             2  \n",
       "2                             2  \n",
       "6                             2  \n",
       "23                            2  \n",
       "27                            2  "
      ]
     },
     "execution_count": 54,
     "metadata": {},
     "output_type": "execute_result"
    }
   ],
   "source": [
    "## TODO: Add your own code below!\n"
   ]
  },
  {
   "cell_type": "markdown",
   "metadata": {},
   "source": [
    "We should see that they aren't in fact very different! Let's take the higher of the two listings in each case.\n",
    "\n",
    "### Task:\n",
    "\n",
    "* In the `'PieceCount'` column of `df_cleaned`, overwrite the lower values for these three `'ProdID'`'s with the higher value."
   ]
  },
  {
   "cell_type": "code",
   "execution_count": 55,
   "metadata": {},
   "outputs": [],
   "source": [
    "## TODO: Add your own code below!\n"
   ]
  },
  {
   "cell_type": "markdown",
   "metadata": {},
   "source": [
    "### TEST: \n",
    "<span style=\"color:blue\">Run the code block below to test your output!</span>"
   ]
  },
  {
   "cell_type": "code",
   "execution_count": 56,
   "metadata": {},
   "outputs": [
    {
     "name": "stdout",
     "output_type": "stream",
     "text": [
      "( ͡❛ ͜ʖ ͡❛) Good job! Lego's looking pretty good.\n"
     ]
    }
   ],
   "source": [
    "# TEST CELL - Run this cell to test your new 'PieceCount' values!\n",
    "\n",
    "assertions.new_piececounts(df_cleaned)"
   ]
  },
  {
   "cell_type": "markdown",
   "metadata": {},
   "source": [
    "## (Optional) - Further cleaning\n",
    "\n",
    "We've done a fair bit of cleaning at this point! Hopefully, you're seeing a pattern to some of the investigation:\n",
    "1. Finding null values, and using some method to fill them in\n",
    "2. Finding slight variations in spelling, and resolving them\n",
    "3. Finding out cases where `'ProdID'` should uniquely identify a column, but doesn't, and solving this. Also, finding cases where `'ProdID'` and `'Country'` should uniquely identify a column, and treating it in the same manner.\n",
    "\n",
    "But on point 3, how do we know to use the `'ProdID'` column? And how do we know to use `'ProdID'` and `'Country'` in the cases that we have? It links back to the point mentioned earlier, about **dimensions** and **facts** about data. We have certain fields that help us identify what we're looking at, and then descriptive fields about that data. Keeping this in mind, and using our intuition and common sense, is a key skill in knowing what kind of cleaning we can do, and what decisions to take.\n",
    "\n",
    "There are a number of columns we didn't yet investigate and clean. If you want to go ahead and explore them, and clean them, go ahead! The steps taken for the previous columns should act as a good blueprint.\n"
   ]
  },
  {
   "cell_type": "code",
   "execution_count": 57,
   "metadata": {},
   "outputs": [],
   "source": [
    "# Do any other cleaning you want to do here!"
   ]
  },
  {
   "cell_type": "markdown",
   "metadata": {},
   "source": [
    "-----\n",
    "<div class=\"row\">\n",
    "    <div class=\"column\">\n",
    "        <h1 style=\"font-size: 300%;\">3. Data extension: Let's get more Lego!</h1>\n",
    "        <p>\n",
    "            Wow! That was a lot of cleaning. All that work deserves a reward. I know, let's get some more Lego! \n",
    "\n",
    "We're going to find some extra information about our dataset that we might need for our analysis. In particular, we've got Lego from lots of different countries, and each set has a 'ListPrice'. But the currency of each country is different! We're going to add on some columns to find this information out.\n",
    "        </p>\n",
    "    </div>\n",
    "    <div>\n",
    "        <img src=\"https://i.pinimg.com/originals/54/53/c3/5453c36f37f0efda9c813601b286a1c7.jpg\"\n",
    "             alt=\"Greedy Lego\"\n",
    "             align=\"left\" \n",
    "             width = \"600\"\n",
    "             style=\"margin: 0px 00px\"\n",
    "             />\n",
    "    </div>\n",
    "</div>"
   ]
  },
  {
   "cell_type": "markdown",
   "metadata": {},
   "source": [
    "## Adding columns for country names, and currencies\n",
    "\n",
    "We're already thinking ahead to being able to present our lovely Lego castles and cityspaces... we've done so much cleaning already!\n",
    "\n",
    "To aid the analysis and presentation we'll be getting to later, we're also going to want the **names** of the countries, and their **currencies**, not just their country codes. In particular, the **currency** will be really important! Our ListPrice attribute doesn't yet indicate the currency, just the country. It suggests that this column will mix between units, and we'll have to convert these records to the same unit before we can use that information!\n",
    "\n",
    "### Task:\n",
    "\n",
    "* Add two new columns to `df_cleaned`, called `'CountryName'`, and `'Currency'`, to identify the countries and their currency codes\n",
    "    * A country such as 'US' will have `'CountryName'` as 'United States', and currency will be 'USD', for example\n"
   ]
  },
  {
   "cell_type": "code",
   "execution_count": 58,
   "metadata": {},
   "outputs": [
    {
     "data": {
      "text/plain": [
       "array([], dtype=object)"
      ]
     },
     "execution_count": 58,
     "metadata": {},
     "output_type": "execute_result"
    }
   ],
   "source": [
    "## TODO: Add your own code below!\n"
   ]
  },
  {
   "cell_type": "markdown",
   "metadata": {},
   "source": [
    "### TEST: \n",
    "<span style=\"color:blue\">Run the code block below to test your output!</span>"
   ]
  },
  {
   "cell_type": "code",
   "execution_count": 59,
   "metadata": {},
   "outputs": [
    {
     "name": "stdout",
     "output_type": "stream",
     "text": [
      "( ͡❛ ͜ʖ ͡❛) Good job! Lego's looking pretty good.\n"
     ]
    }
   ],
   "source": [
    "# TEST CELL - Run this cell to test your new 'CountryName' and 'Currency' values!\n",
    "\n",
    "assertions.country_additions(df_cleaned)"
   ]
  },
  {
   "cell_type": "markdown",
   "metadata": {},
   "source": [
    "Now that's done, we'll need to be able to convert from these different currencies to one single currency, say GBP. But we don't have that data!! Fear not, we have the internet...\n",
    "\n",
    "### Task:\n",
    "\n",
    "* Search online and find and save a csv/excel/any other file that has a conversion for all the currencies of these countries to GBP.\n",
    "    * You'll want it to have two columns, something such as `'CountryCode'`/`'Country'`/`'Currency'`, and one that is called something like `'ConversionRate'`\n",
    "* Load this file into a pandas dataframe, called `currency_df`\n",
    "* Merge this information onto `df_cleaned`, and create a new column in `df_cleaned` called `ListPriceGBP`, that is the converted value."
   ]
  },
  {
   "cell_type": "code",
   "execution_count": 60,
   "metadata": {},
   "outputs": [],
   "source": [
    "## TODO: Add your own code below!\n"
   ]
  },
  {
   "cell_type": "markdown",
   "metadata": {},
   "source": [
    "## (Optional) Adding an \"EndSellingDate\" column (*Difficulty: VERY HARD*)\n",
    "\n",
    "For each record, we have a 'LaunchDate' attribute, indicating when LEGO began selling that item in each country. \n",
    "\n",
    "We are told that we are later going to get some information about the 'EndSellingDate' - the date at which that item was discontinued in each country. To aid our later analysis when we get this column, we are going to create some *dummy* records for an 'EndSellingDate' column, so we can do dummy analysis now.\n",
    "\n",
    "### Task:\n",
    "\n",
    "Create a 'EndSellingDate' column, that satisfies the following criteria:\n",
    "* An 'EndSellingDate' value will ALWAYS be greater than the corresponding 'LaunchDate' value\n",
    "* Values in the 'EndSellingDate' column are **randomly** distributed between the 'LaunchDate' value, and a value ten years into the future\n",
    "\n",
    "I.e., a 'Brick Seperator' in the 'US' was launched on 25/06/2017. The 'EndSellingDate' value for this record should be a random date between 26/06/2017, and 25/06/2027.\n",
    "\n",
    "**Hint(s):**\n",
    "* To make things simpler, we can imagine that there are no leap years\n",
    "* You'll want to change the 'LaunchDate' column to have a 'datetime' datatype. You can use pandas 'to_datetime' function to acheive this\n",
    "* You will need to import the 'random' module, and use the 'randrange' method\n",
    "* You will need to import the 'datetime' module, and use the '.timedelta' method\n",
    "* You will need to define a function that takes as an input a \"start_date\" (data type datetime64[ns]), \"interval_length\" (data type int) - the number of years you want as an interval to select from\n"
   ]
  },
  {
   "cell_type": "code",
   "execution_count": 61,
   "metadata": {},
   "outputs": [
    {
     "data": {
      "text/html": [
       "<div>\n",
       "<style scoped>\n",
       "    .dataframe tbody tr th:only-of-type {\n",
       "        vertical-align: middle;\n",
       "    }\n",
       "\n",
       "    .dataframe tbody tr th {\n",
       "        vertical-align: top;\n",
       "    }\n",
       "\n",
       "    .dataframe thead th {\n",
       "        text-align: right;\n",
       "    }\n",
       "</style>\n",
       "<table border=\"1\" class=\"dataframe\">\n",
       "  <thead>\n",
       "    <tr style=\"text-align: right;\">\n",
       "      <th></th>\n",
       "      <th>LaunchDate</th>\n",
       "      <th>EndSellingDate</th>\n",
       "    </tr>\n",
       "  </thead>\n",
       "  <tbody>\n",
       "    <tr>\n",
       "      <th>1689</th>\n",
       "      <td>2016-07-28</td>\n",
       "      <td>2023-05-09</td>\n",
       "    </tr>\n",
       "    <tr>\n",
       "      <th>16542</th>\n",
       "      <td>2011-09-17</td>\n",
       "      <td>2014-08-20</td>\n",
       "    </tr>\n",
       "    <tr>\n",
       "      <th>4408</th>\n",
       "      <td>2015-04-14</td>\n",
       "      <td>2021-08-02</td>\n",
       "    </tr>\n",
       "    <tr>\n",
       "      <th>1281</th>\n",
       "      <td>2011-03-11</td>\n",
       "      <td>2016-05-18</td>\n",
       "    </tr>\n",
       "    <tr>\n",
       "      <th>18605</th>\n",
       "      <td>2019-10-31</td>\n",
       "      <td>2022-10-26</td>\n",
       "    </tr>\n",
       "    <tr>\n",
       "      <th>5978</th>\n",
       "      <td>2018-06-24</td>\n",
       "      <td>2026-07-26</td>\n",
       "    </tr>\n",
       "    <tr>\n",
       "      <th>17059</th>\n",
       "      <td>2019-09-04</td>\n",
       "      <td>2020-10-20</td>\n",
       "    </tr>\n",
       "    <tr>\n",
       "      <th>11544</th>\n",
       "      <td>2014-09-18</td>\n",
       "      <td>2016-05-27</td>\n",
       "    </tr>\n",
       "    <tr>\n",
       "      <th>3846</th>\n",
       "      <td>2017-08-15</td>\n",
       "      <td>2027-06-03</td>\n",
       "    </tr>\n",
       "    <tr>\n",
       "      <th>3551</th>\n",
       "      <td>2019-02-16</td>\n",
       "      <td>2026-06-25</td>\n",
       "    </tr>\n",
       "  </tbody>\n",
       "</table>\n",
       "</div>"
      ],
      "text/plain": [
       "      LaunchDate EndSellingDate\n",
       "1689  2016-07-28     2023-05-09\n",
       "16542 2011-09-17     2014-08-20\n",
       "4408  2015-04-14     2021-08-02\n",
       "1281  2011-03-11     2016-05-18\n",
       "18605 2019-10-31     2022-10-26\n",
       "5978  2018-06-24     2026-07-26\n",
       "17059 2019-09-04     2020-10-20\n",
       "11544 2014-09-18     2016-05-27\n",
       "3846  2017-08-15     2027-06-03\n",
       "3551  2019-02-16     2026-06-25"
      ]
     },
     "execution_count": 61,
     "metadata": {},
     "output_type": "execute_result"
    }
   ],
   "source": [
    "## TODO: Add your own code below!\n"
   ]
  },
  {
   "cell_type": "markdown",
   "metadata": {},
   "source": [
    "## (Optional) - Visualise the distribution of differences\n",
    "\n",
    "If you managed to add a `'EndSellingDate'` to your dataframe, **congratulations**! You are a brave and worthy knight of the Lego dataverse.\n"
   ]
  },
  {
   "cell_type": "markdown",
   "metadata": {},
   "source": [
    "<div class=\"row\"> \n",
    "    <img src=\"https://cdn.shopify.com/s/files/1/1123/3426/products/TournamentKnight-LegoSeries20LegoMinifigure_753x.jpg?v=1589195873\"\n",
    "             alt=\"Lego knight\"\n",
    "             align=\"left\" \n",
    "             width = \"200\"\n",
    "             style=\"margin: 0px 60px\"\n",
    "    />\n",
    "</div>"
   ]
  },
  {
   "cell_type": "markdown",
   "metadata": {},
   "source": [
    "Now, let's convince ourselves that the difference in dates between the two columns are indeed random. \n",
    "\n",
    "### Task:\n",
    "\n",
    "* Create a 'TimeDelta' column that has the difference of these columns, and plot the distribution."
   ]
  },
  {
   "cell_type": "code",
   "execution_count": null,
   "metadata": {},
   "outputs": [],
   "source": [
    "## TODO: Add your own code below!\n"
   ]
  },
  {
   "cell_type": "markdown",
   "metadata": {},
   "source": [
    "------\n",
    "## Taking stock: What have we done so far? (Part 2)\n",
    "\n",
    "It's beeen a tricky path to get here - we've had to do a lot of cleaning! But we've learnt a lot about our data along the way, and we can be fairly happy it's in a good state.\n",
    "\n"
   ]
  },
  {
   "cell_type": "code",
   "execution_count": null,
   "metadata": {},
   "outputs": [],
   "source": [
    "df_cleaned.sample(5)"
   ]
  },
  {
   "cell_type": "markdown",
   "metadata": {},
   "source": [
    "-----\n",
    "<div class=\"row\">\n",
    "    <div class=\"column\">\n",
    "        <h1 style=\"font-size: 300%;\">4. Data interrogation: Finally, playing with our Lego</h1>\n",
    "        <p>\n",
    "            Finally we're in a position to answer some questions with our Lego. Our DataFrame, df_cleaned, is now in a good state. Let's write this DataFrame to a csv that we can keep and use later on, and start answering a couple of questions.\n",
    "        </p>\n",
    "    </div>\n",
    "    <div>\n",
    "        <img src=\"https://ideascdn.lego.com/media/generate/public/lego_ci/98543b0b-646a-420f-8eee-7b16ce98b85a/resize:1600:900/native\"\n",
    "             alt=\"Lego castle\"\n",
    "             align=\"left\" \n",
    "             width = \"600\"\n",
    "             style=\"margin: 0px 00px\"\n",
    "             />\n",
    "    </div>\n",
    "</div>‘"
   ]
  },
  {
   "cell_type": "code",
   "execution_count": null,
   "metadata": {},
   "outputs": [],
   "source": [
    "# TODO - Write df_cleaned to the '/Data' directory as a csv, calling it 'LegoDataCleaned.csv'\n",
    "\n"
   ]
  },
  {
   "cell_type": "markdown",
   "metadata": {},
   "source": [
    "Now that we've got through the tricky bit of cleaning, it's up to you to produce some insight! There are some questions below, but much less guidance in this section. Solutions will still be available at the end of the day!"
   ]
  },
  {
   "cell_type": "markdown",
   "metadata": {},
   "source": [
    "## Which country has highest prices as an average?\n",
    "\n",
    "### Task:\n",
    "* Create a barchart / another chart to show the average price of items per country"
   ]
  },
  {
   "cell_type": "code",
   "execution_count": null,
   "metadata": {},
   "outputs": [],
   "source": [
    "## TODO: Add your own code below!\n"
   ]
  },
  {
   "cell_type": "markdown",
   "metadata": {},
   "source": [
    "## Which country launched each product first?\n",
    "\n",
    "### Task:\n",
    "* Create dataframe with three columns, `'SetName'`, `'CountryName'`, and `'LaunchDate'`, that only has the country that launched each respective product first"
   ]
  },
  {
   "cell_type": "code",
   "execution_count": null,
   "metadata": {},
   "outputs": [],
   "source": [
    "## TODO: Add your own code below!\n"
   ]
  },
  {
   "cell_type": "markdown",
   "metadata": {},
   "source": [
    "## How many sets are there in total?\n",
    "\n",
    "### Task:\n",
    "* Count the number of unique products sold across the world\n",
    "* Count the number of unique products sold in each country"
   ]
  },
  {
   "cell_type": "code",
   "execution_count": null,
   "metadata": {},
   "outputs": [],
   "source": [
    "## TODO: Add your own code below!\n"
   ]
  },
  {
   "cell_type": "markdown",
   "metadata": {},
   "source": [
    "## Is there a country that sells all the sets?\n",
    "\n",
    "### Task:\n",
    "* Find out whether any countries sell all the products listed in this data\n"
   ]
  },
  {
   "cell_type": "code",
   "execution_count": null,
   "metadata": {},
   "outputs": [],
   "source": [
    "## TODO: Add your own code below!\n"
   ]
  },
  {
   "cell_type": "markdown",
   "metadata": {},
   "source": [
    "## The sets in each theme\n",
    "\n",
    "### Task:\n",
    "\n",
    "* Get a count of the number of unique sets sold per `'ThemeName'`\n",
    "* Print a list of those sets sold in each `'ThemeName'`"
   ]
  },
  {
   "cell_type": "code",
   "execution_count": null,
   "metadata": {},
   "outputs": [],
   "source": [
    "## TODO: Add your own code below!\n"
   ]
  },
  {
   "cell_type": "markdown",
   "metadata": {},
   "source": [
    "## (Optional) And more playing with Lego!!!\n",
    "\n",
    "There's a tonne of things we could do here! Add any of your own code below to answer interesting questions."
   ]
  },
  {
   "cell_type": "code",
   "execution_count": null,
   "metadata": {},
   "outputs": [],
   "source": [
    "## TODO: Add your own code below!\n"
   ]
  },
  {
   "cell_type": "code",
   "execution_count": null,
   "metadata": {},
   "outputs": [],
   "source": []
  }
 ],
 "metadata": {
  "kernelspec": {
   "display_name": "Python 3",
   "language": "python",
   "name": "python3"
  },
  "language_info": {
   "codemirror_mode": {
    "name": "ipython",
    "version": 3
   },
   "file_extension": ".py",
   "mimetype": "text/x-python",
   "name": "python",
   "nbconvert_exporter": "python",
   "pygments_lexer": "ipython3",
   "version": "3.8.5"
  }
 },
 "nbformat": 4,
 "nbformat_minor": 4
}
