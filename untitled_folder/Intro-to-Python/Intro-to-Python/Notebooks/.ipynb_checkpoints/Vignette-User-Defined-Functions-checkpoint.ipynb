{
 "cells": [
  {
   "cell_type": "markdown",
   "metadata": {},
   "source": [
    "<div class=\"row\">\n",
    "    <div class=\"columm\">\n",
    "        <h1 style=\"position: absolute;font-size: 300%;\">Vignette: User Defined Functions</h1>\n",
    "    </div>\n",
    "    <div class=\"column\">\n",
    "        <img src=\"https://www.bjss.com/wp-content/uploads/BJSS.svg\"\n",
    "             alt=\"BJSS Logo\"\n",
    "             align=\"right\" \n",
    "             width = \"200\"\n",
    "             style=\"margin: 0px 60px\"\n",
    "             />\n",
    "    </div>\n",
    "</div>"
   ]
  },
  {
   "cell_type": "markdown",
   "metadata": {},
   "source": [
    "## Table of Contents\n",
    "\n",
    "<a href=\"#Background\"><font size=\"+1\">Background</font></a>\n",
    "* Learning objectives\n",
    "* Motive\n",
    "* Types of functions in python \n",
    "\n",
    "<a href=\"#Creating-and-Using-Functions\"><font size=\"+1\">Creating and Using Functions</font></a>\n",
    "* Creating user defined functions\n",
    "* Calling functions\n",
    "* <a href=\"#Exercise-1:-Create-a-function-which...\">Exercise 1: Create a function which...</a> \n",
    "* Anticipating special cases\n",
    "    \n",
    "<a href=\"#Deeper-Understanding\"><font size =\"+1\">Deeper Understanding</font></a>\n",
    "* Parameter vs argument\n",
    "* Types of arguments \n",
    "* Scope \n",
    "* Writing a docstring\n",
    "\n",
    "<a href=\"#Lambda-Functions\"><font size =\"+1\">Lambda Functions</font></a>\n",
    "* What are lambda functions?\n",
    "* Lambda function syntax\n",
    "* Advanced lambda functions\n",
    "* <a href=\"#Exercise-2:-Create-a-Lambda-Function-which...\">Exercise 2: Create a Lambda function which...</a> \n",
    "    \n",
    "<a href=\"#Introduce-Applying-Functions-on-Pandas-Objects\"><font size=\"+1\">Introduce Applying Functions on Pandas Objects</font></a>\n",
    "* Introducing pandas function application\n",
    "    - <a href=\"#Series.map\">`Series.map`</a>\n",
    "    - <a href=\"#Series.apply\">`Series.apply`</a>\n",
    "    - <a href=\"#DataFrame.applymap\">`DataFrame.applymap`</a>\n",
    "    - <a href=\"#DataFrame.apply\">`DataFrame.apply`</a>\n",
    "\n",
    "<a href=\"#Consolidation\"><font size =\"+1\">Consolidation</font></a>\n",
    "    - Recap of learning objectives"
   ]
  },
  {
   "cell_type": "markdown",
   "metadata": {},
   "source": [
    "# Background\n",
    "\n",
    "## Learning Objectives\n",
    "\n",
    "By the end of the session, participants will be able to:\n",
    "* Know what functions are and why they are useful.\n",
    "* Distinguish between a function's parameters and arguments.\n",
    "    * Including different types of arguments\n",
    "* Understand the idea of 'scope'.\n",
    "    * i.e. Global scope vs Local scope\n",
    "* Write and apply user defined functions.\n",
    "* Identify and use 'lambda' functions.\n",
    "* Apply functions to pandas `DataFrame` and `Series` objects.\n",
    "\n",
    "### Motive\n",
    "Up until now we've been writing code line by line and running it sequentially. As effective as this has been, things can get messy as we scale up to larger problems.\n",
    "\n",
    "We can avoid messy code by organising it into chunks of reusable code called functions. This allows us to create blocks of code dedicated to performing a specific procedure or task. We can then 'call' this function to perform its specifc task as and when needed. Understanding why and how to write functions is an important part of writing code that is consistent, readable and reproducible.\n",
    "\n",
    "### Types of Functions in Python  \n",
    "\n",
    "In python we have three types of functions:\n",
    "1. [Built-in functions](https://docs.python.org/3.6/library/functions.html)\n",
    "> We have already used several of these, such as `help()`, `pow()`, `print()`, etc. These functions, like the name\n",
    "suggests are built into python and are always available.\n",
    "2. User defined Functions\n",
    "> These are functions created by us to carry out a specific task. Declared using `def` keyword.\n",
    "3. Anonymous Functions (commonly referred to as 'lambda' functions)\n",
    "> These functions are also user defined but are not declared using keyword `def`. They are created using the keyword `lambda` and are generally one-line functions.\n",
    "\n",
    "Functions are not executed until they are 'called'. As such, if your code is syntactically correct but actually calling the function produces errors you will not know about this until your code is called and executed."
   ]
  },
  {
   "cell_type": "markdown",
   "metadata": {},
   "source": [
    "# Creating and Using Functions\n",
    "\n",
    "### Creating User Defined Functions\n",
    "\n",
    "To create a function in python, we:\n",
    "<ol>\n",
    "    <li>Declare it using the keyword <code>def</code></li>\n",
    "    <li>Name the function, taking into account that names:\n",
    "        <ul>\n",
    "            <li>Must start with a letter or an underscore: _.</li>\n",
    "            <li>Should be lowercase (by python convention).</li>\n",
    "            <li>Can include numbers if required, just not as the first character.</li>\n",
    "            <li>Can be any length, within reason, but short descriptive names are best.</li>\n",
    "            <li>Cannot have the same name as a python keyword.</li>\n",
    "        </ul>\n",
    "    </li>\n",
    "    <li>Brackets go on the end of the function name, containing any necessary parameters: <code>function_name(p1, p2)</code>.</li>\n",
    "    <li>Conclude with a colon <code>:</code>, which is used to start an indented block of code. Only this code will execute when the function is called.</li>\n",
    "</ol>\n",
    "\n",
    "For example:\n",
    "\n",
    "```python\n",
    "def function_name(p1,p2):\n",
    "    \"\"\"\n",
    "    this is the docstring to my function. Here is where I would describe what this function does. When I call the\n",
    "    help function on this function, it will print the docstring out.\n",
    "    \"\"\"\n",
    "    p1 = 'My first function!'\n",
    "    p2 = 'Self Hi5'\n",
    "    print(p1, p2)\n",
    "    return (len(p1)+len(p2))\n",
    "```\n",
    "\n",
    "In the body of this function, we assign our parameters `p1` and `p2` to two text strings and then `print()` our parameters out.  \n",
    "\n",
    "We then use the keyword statement `return`, which will return whatever value (in the return parenthesis) we wish to send back to the 'caller'. In this case we `return` the sum of the lengths of our parameters, using another built-in python function called `len` which itself returns the size of any iterable object. \n",
    "\n",
    "Notes: \n",
    "* Whenever the `return` statement is executed the function will stop its execution at that line and return to the caller with whatever given value. No code following the `return` statement is executed.\n",
    "* Any function without a return statement will still return a value of `None`.\n",
    "* We can return multiple values if we like by wrapping them in a tuple, list or dictionary.\n",
    "* More broadly, functions can return any object of our choosing, including other functions (this is called 'currying')!"
   ]
  },
  {
   "cell_type": "markdown",
   "metadata": {},
   "source": [
    "### Example\n",
    "In the example below, our function is slightly pointless. We can pass any two parameter values we like, however whatever we pass will simply be reassigned in the function body. `p1` will always end up as 'My first function!' and `p2` as 'Self Hi5'."
   ]
  },
  {
   "cell_type": "code",
   "execution_count": null,
   "metadata": {},
   "outputs": [],
   "source": [
    "def function_name(p1,p2):\n",
    "    \"\"\"\n",
    "    this is the docstring to my function. Here is where I would describe what this function does. When I call the\n",
    "    help function on this function, it will print the docstring out.\n",
    "    \"\"\"\n",
    "    p1 = 'My first function!'\n",
    "    p2 = 'Self Hi5'\n",
    "    print(p1, p2)\n",
    "    return(len(p1)+len(p2))\n",
    "    print('Print me out!')"
   ]
  },
  {
   "cell_type": "markdown",
   "metadata": {},
   "source": [
    "### Calling Functions\n",
    "Calling user defined functions works the same way as calling the built-in functions we've used so far. Simply, type the function name followed by parentheses containing any required parameters."
   ]
  },
  {
   "cell_type": "code",
   "execution_count": null,
   "metadata": {},
   "outputs": [],
   "source": [
    "# call the built in help function to get our function's docstring.\n",
    "help(function_name)"
   ]
  },
  {
   "cell_type": "code",
   "execution_count": null,
   "metadata": {},
   "outputs": [],
   "source": [
    "# call our function (n.b. ; suppresses output in the notebook)\n",
    "function_name('apple',36);"
   ]
  },
  {
   "cell_type": "code",
   "execution_count": null,
   "metadata": {},
   "outputs": [],
   "source": [
    "# Call our function, storing the returned value as a variable\n",
    "ans = function_name('zebra',-51)\n",
    "print('Value returned from function_name', ans)"
   ]
  },
  {
   "cell_type": "markdown",
   "metadata": {},
   "source": [
    "### Exercise 1: Create a function which...\n",
    "1. Converts from Fahrenheit to degrees Celsius using the equation below. The function should print out a value rounded to 1dp.\n",
    "\n",
    " $$C=\\frac{5}{9}(F-32)$$\n",
    "\n",
    "> Examples: \n",
    "> - `f_to_c(32)` prints `32F is 0.0C`\n",
    "> - `f_to_c(11)` prints `11F is -11.7C`\n",
    "> - `f_to_c(81.3)` prints `81.3F is 27.4C`\n",
    "\n",
    "2. Given a number and a list of numbers, return the index of the number from the list which produced the greatest difference from the given number. \n",
    "\n",
    "> Example:\n",
    "- `max_diff(3, [5,7,3,-5])` returns `3`   \n",
    "\n",
    "3. Given a list of numbers returns a dictionary containing:\n",
    "    1. the arithmetic mean of values in the list\n",
    "    2. the index of the number in the passed list which produces the greatest difference from the mean\n",
    "    3. the absolute value of the greatest difference from the mean. \n",
    "\n",
    ">Example\n",
    "- `mean_info([5,7,3,-5,2])` returns `{'mean' : 2.4, 'max diff index' : 3, 'max diff' : 7.4}`"
   ]
  },
  {
   "cell_type": "code",
   "execution_count": null,
   "metadata": {},
   "outputs": [],
   "source": [
    "# Create your functions here\n"
   ]
  },
  {
   "cell_type": "code",
   "execution_count": null,
   "metadata": {},
   "outputs": [],
   "source": [
    "# Test your functions here\n",
    "# Question 1\n",
    "f_to_c(32)\n",
    "f_to_c(11)\n",
    "f_to_c(81.3)\n",
    "\n",
    "#Question 2 \n",
    "print(max_diff(3, [5,7,3,-5]))\n",
    "\n",
    "#Question 3\n",
    "print(mean_info([5,7,3,-5,2]))"
   ]
  },
  {
   "cell_type": "code",
   "execution_count": null,
   "metadata": {},
   "outputs": [],
   "source": [
    "%load ../Solutions/Functions/exercise1.py"
   ]
  },
  {
   "cell_type": "markdown",
   "metadata": {},
   "source": [
    "### Anticipating Special Cases\n",
    "\n",
    "In the solutions given, there is a special case where the function may not produce the expected behaviour. This is when the largest difference between a given number and two or more items in a given list is the same. The behaviour of the functions above relies on how `list.index()` works, which is to produce the _lowest_ index in `list` where the element you searched for appears. This means that the output is always the index of the first instance of that maximum difference, irrespective of whether that instance is unique or not.\n",
    "\n",
    "This function behaviour may be entirely appropriate to our use case for the function, however it highlights that designing an effective and useful function requires some degree of critical thinking. It is important that you as the designer of the function have a sense of when and how the function should be used, and whether there are special cases that either need ot be dealt with, or acknowledged."
   ]
  },
  {
   "cell_type": "markdown",
   "metadata": {},
   "source": [
    "# Deeper Understanding\n",
    "\n",
    "### Parameters vs Arguments\n",
    "\n",
    "In short, parameters are the names listed in a function declaration and arguments are the actual values which are passed when we call the function. Argument values are mapped onto the parameter names when the function is called.\n",
    "\n",
    "#### Example:\n",
    "```python\n",
    "# This is the function definition:\n",
    "def func(parameter1, parameter2, parameter3):\n",
    "    #Do some stuff\n",
    "    print(\"Done!\")\n",
    "\n",
    "# Here is the actual function call:\n",
    "func(argument1, argument2, argument3)\n",
    "```\n",
    "\n",
    "### Types of Arguments:\n",
    "- **Required Arguments**: Like the name suggests, these are arguments which are required by a function and must be passed in the correct order.\n",
    "    ```python\n",
    "    def arithmetic(a,b):\n",
    "        return pow(a,b)/b\n",
    "    \n",
    "    arithmetic(4,9)\n",
    "    ```\n",
    "    `a` and `b` are both required arguments. We would get a TypeError if we did not pass both arguments. \n",
    "    Also, `arithmetic(a,b) != arithmetic(b,a)` (in most cases!) \n",
    "    \n",
    "\n",
    "- **Default arguments**: This is where, in the function declaration, the value of the parameter is preset. The function will retain this value unless it is changed when the function is called.\n",
    "    ```python\n",
    "    def arithmetic(a,b = 1):\n",
    "        return pow(a,b)/b\n",
    "    \n",
    "    arithmetic(5)\n",
    "    ```\n",
    "    In the example above the function will take `a = 5` and use the default value `b = 1`. Note: A default argument cannot be followed by non-default arguments.  \n",
    "    \n",
    "    \n",
    "- **Keyword arguments**: This refers to when we call a function and specify what each parameter should equal.\n",
    "    ```python\n",
    "    arithmetic(b = 9, a = 31)\n",
    "    ```\n",
    "    As you can see, the order is not important when we use keywords to pass parameter values. \n",
    "    \n",
    "    \n",
    "- **Variable Numbers of Arguments**: Using the character `*`, `**` (followed by parameter name) we can pass any number of variables to a function. \n",
    "    \n",
    "    - `*` - are used to pass multiple non-keyworded variables. Common practice is to use `*args` as parameter name.\n",
    "        - In practice these additional arguments are 'packed' as a tuple, and the `*` unpacks them.\n",
    "    - `**` - are used to pass multiple keyworded variables. Common practice is to use `**kwargs` as parameter name.\n",
    "        - `**` can also be used to unpack a dictionary, where dictionary keys are keywords and values are arguments."
   ]
  },
  {
   "cell_type": "code",
   "execution_count": null,
   "metadata": {},
   "outputs": [],
   "source": [
    "# args example\n",
    "def print_these_args(para1, *args):\n",
    "    print(\"my first arg: \", para1)\n",
    "    for arg in args:\n",
    "        print(\"an arg from args: \", arg)\n",
    "\n",
    "print_these_args('Making', 'my', 'way', 'downtown','...')"
   ]
  },
  {
   "cell_type": "code",
   "execution_count": null,
   "metadata": {},
   "outputs": [],
   "source": [
    "# same args example unpacking a list with *\n",
    "extra_args = ['my', 'way', 'downtown','...']+\n",
    "# try removing the * and see what happens\n",
    "print_these_args('Making', *extra_args)"
   ]
  },
  {
   "cell_type": "code",
   "execution_count": null,
   "metadata": {},
   "outputs": [],
   "source": [
    "# kwargs example\n",
    "def print_these_kwargs(**kwargs):\n",
    "    for key, value in kwargs.items():\n",
    "        print(\"{0} = {1}\".format(key, value))\n",
    "        \n",
    "print_these_kwargs(name = \"Vanessa Carlton\", song = \"Thousand Miles\")"
   ]
  },
  {
   "cell_type": "code",
   "execution_count": null,
   "metadata": {},
   "outputs": [],
   "source": [
    "# Dictionary of keyword: argument pairs unpacked with **\n",
    "def arithmetic(a,b):\n",
    "    return pow(a,b)/b\n",
    "\n",
    "arg_dict = {'b':2,'a':10}\n",
    "arithmetic(**arg_dict)"
   ]
  },
  {
   "cell_type": "markdown",
   "metadata": {},
   "source": [
    "### Scope\n",
    "\n",
    "There are two types of scopes, _global_ and _local_. Variables that have _global_ scope are visible everywhere - in every function, loop, conditional, basically every part of the code. However, variables that have _local_ scope are only visible and hence can only be used within that local scope.\n",
    "\n",
    "In python every time you create a new function, you effectively create a new local scope. All functions have their own local scope. \n",
    "\n",
    "So, when you define a variable in the indented code of a function, it is local to that function. Once the function is done computing, all variables inside that local scope will be collected by python's garbage collector and cease to exist. A function variable can use the same name as a variable in other functions, because they are distinct to their specific local scopes. Confusingly, a function can also create a variable with the same name as a variable in the global scope without overwriting the global variable, however that global variable will not then be available to the function.\n",
    "\n",
    "Any variable defined outside of a function is said to have a global scope. Variables with global scope can be seen and called inside a function. In general, global variables can also be edited inside a function, but this should be avoided in most cases, since it's considered bad programming practice. \n",
    "\n",
    "The way python searches for variables is interesting. It will start off by looking through the most local scope and then iterate outwards towards the highest scope ([Built-In](https://www.datacamp.com/community/tutorials/scope-of-variables-python#LEGB)). If it makes it all the way out to the highest scope without finding the variable name, we get a `NameError`. "
   ]
  },
  {
   "cell_type": "markdown",
   "metadata": {},
   "source": [
    "### Writing a docstring\n",
    "\n",
    "Docstrings are how programmers document the workings of python modules, functions, classes, and methods. A docstring is usually a multi-line string included at the very top of the object's definition. Ideally all functions will have docstrings so that users know what a given function does.\n",
    "\n",
    "A simple one-liner docstring can be used for really obvious cases:\n",
    "```python\n",
    "def square_number(a):\n",
    "    \"\"\"Return the square of a.\"\"\"\n",
    "    return (a**2)\n",
    "```\n",
    "A more complicated function probably requires a multi-line docstring, it consists of a summary line, like with the one line docstring, then a blank line, and then a more elaborate description. The docstring for a function or method should summarize its behaviour and document its arguments, return value(s), side effects, exceptions raised, and restrictions on when it can be called (all if applicable). Optional arguments should be indicated.\n",
    "\n",
    "```python\n",
    "def arithmetic(a = 0, b = 2):\n",
    "    \"\"\" Return the value of a number raised to a power and divided by that power\n",
    "    \n",
    "    Keyword arguments:\n",
    "    a -- the base (default 0)\n",
    "    b -- the power and divisor (default 2)\n",
    "    \"\"\"\n",
    "    return pow(a,b)/b\n",
    "```\n",
    "\n",
    "Full details of docstring conventions can be found [here](https://www.python.org/dev/peps/pep-0257/)"
   ]
  },
  {
   "cell_type": "code",
   "execution_count": null,
   "metadata": {},
   "outputs": [],
   "source": [
    "# define a simple function\n",
    "def square_number(a):\n",
    "    \"\"\"Return the square of a.\"\"\"\n",
    "    return (a**2)"
   ]
  },
  {
   "cell_type": "code",
   "execution_count": null,
   "metadata": {},
   "outputs": [],
   "source": [
    "help(square_number)"
   ]
  },
  {
   "cell_type": "code",
   "execution_count": null,
   "metadata": {},
   "outputs": [],
   "source": [
    "def arithmetic(a = 0, b = 2):\n",
    "    \"\"\" Return the value of a number raised to a power and divided by that power\n",
    "\n",
    "    Keyword arguments:\n",
    "    a -- the base (default 0)\n",
    "    b -- the power and divisor (default 2)\n",
    "    \"\"\"\n",
    "    return pow(a,b)/b"
   ]
  },
  {
   "cell_type": "code",
   "execution_count": null,
   "metadata": {},
   "outputs": [],
   "source": [
    "help(arithmetic)"
   ]
  },
  {
   "cell_type": "markdown",
   "metadata": {},
   "source": [
    "# Lambda Functions\n",
    "\n",
    "### What are Lambda Functions?\n",
    "Lambda Functions are simply a different way of creating functions. Specifically, simple, one-line functions. Rather than using keyword `def` we use the keyword `lambda`.\n",
    "\n",
    "Below you can see a function which takes a value `x` and returns `x + 1` and its lambda function equivalent.\n",
    "\n",
    "```python\n",
    "def increment(x):\n",
    "    return x + 1\n",
    "``` \n",
    "This function is equivalent to:\n",
    "```python\n",
    "increment = lambda x : x + 1\n",
    "```\n",
    "\n",
    "Both functions can be called using the function name and passing the necessary arguments in parenthesis: `increment(12)`\n",
    "\n",
    "### Lambda Function Syntax\n",
    "On the left of the equals sign we have `function_name`. On the right of the equals sign, we start off with the keyword `lambda` followed by the function's parameters. After the colon `:` we have the expression. The expression is the bit of code which is executed when the function is called. In the example above, this is: `x + 1`.\n",
    "\n",
    "The `lambda` statement creates a simple function which is assigned to a given variable for reuse. Technically lambda functions do not have names hence they are 'anonymous', their name is essentially the name of the variable storing the function.\n",
    "\n",
    "Note: lambda functions do not require a `return` statement. This is because in Lambda functions `return` statements are implicit. The expression (to the right of the `:`) in the lambda function is evaluated and returned to the function caller.\n",
    "\n",
    "### Advanced Lambda Functions\n",
    "We can also introduce control flow to our lambda functions.\n",
    "\n",
    "Here is function which finds checks if a given number is even.\n",
    "```python\n",
    "def is_even(x):\n",
    "    if(x % 2 == 0):\n",
    "        return True\n",
    "    else: \n",
    "        return False\n",
    "```\n",
    "Here is the Lambda equivalent:\n",
    "```python\n",
    "is_even = lambda x: True if x % 2 == 0 else False\n",
    "```\n",
    "\n",
    "The difference in syntax here is after our expression which will be evaluated we simply add-on the conditions in similar one-line fashion. One thing to note here, `lambda` functions must always return something, so you must specify what to return in the case where your `if` statement is false (using the `else` statement)."
   ]
  },
  {
   "cell_type": "markdown",
   "metadata": {},
   "source": [
    "### Exercise 2: Create a Lambda function which...\n",
    "1. Multiplies together two values passed as a tuple.\n",
    "> Example:\n",
    "    - `multiply_tuple((5,9))` returns `45`\n",
    "\n",
    "2. Takes a number and subtracts 50. If the result is less than 0, the function should return 0, otherwise it returns 1.\n",
    "    \n",
    "> Examples:\n",
    "- `sub50(27)` returns `0`\n",
    "- `sub50(51)` returns `1`\n",
    "\n",
    "3. Takes three strings and performs the following formatting:\n",
    "    * Checks if the first string starts with `\"Data\"`\n",
    "    * Ensures they're lower case,\n",
    "    * Combine them into one string, with each string separated by a space. \n",
    "    \n",
    "> Examples:\n",
    "- `str_manipulation(\"DaTA Science\", 'FOR puBLIc', 'GOoD')` returns `data science for public good`\n",
    "- `str_manipulation(\"DaT Science\", 'FOR puBLIc', 'GOoD')` returns `First string does not start with 'Data'`"
   ]
  },
  {
   "cell_type": "code",
   "execution_count": null,
   "metadata": {},
   "outputs": [],
   "source": [
    "# Start your code here\n"
   ]
  },
  {
   "cell_type": "code",
   "execution_count": null,
   "metadata": {},
   "outputs": [],
   "source": [
    "# Test cases\n",
    "# Question 1 \n",
    "print(multiply_tuple((5,9)))\n",
    "\n",
    "# Question 2 \n",
    "print(sub50(27))\n",
    "print(sub50(51))\n",
    "\n",
    "# Question 3\n",
    "print(str_manipulation(\"DaTA Science\", 'FOR puBLIc', 'GOoD'))\n",
    "print(str_manipulation(\"DaT Science\", 'FOR puBLIc', 'GOoD'))"
   ]
  },
  {
   "cell_type": "code",
   "execution_count": null,
   "metadata": {
    "ExecuteTime": {
     "end_time": "2021-04-29T10:48:13.394240Z",
     "start_time": "2021-04-29T10:48:13.387248Z"
    }
   },
   "outputs": [],
   "source": [
    "# %load ../Solutions/Functions/exercise2.py"
   ]
  },
  {
   "cell_type": "markdown",
   "metadata": {},
   "source": [
    "# Introduce Applying Functions on Pandas Objects\n",
    "\n",
    "Firstly, import the now (hopefully) familiar pandas library, and the titanic dataset that we've been working with. "
   ]
  },
  {
   "cell_type": "code",
   "execution_count": null,
   "metadata": {},
   "outputs": [],
   "source": [
    "import pandas as pd\n",
    "\n",
    "titanic = pd.read_csv(\"../data/titanic.csv\")\n",
    "titanic.head()"
   ]
  },
  {
   "cell_type": "markdown",
   "metadata": {},
   "source": [
    "The `pandas` package has several methods dedicated to applying functions to both [`DataFrames`](http://pandas.pydata.org/pandas-docs/stable/reference/frame.html#function-application-groupby-window) and [`Series`](http://pandas.pydata.org/pandas-docs/stable/reference/series.html#function-application-groupby-window) objects. Out of which we will introduce the following:\n",
    "\n",
    "   * `Series.map()`\n",
    "   * `Series.apply()`\n",
    "   * `DataFrame.apply()`\n",
    "   * `DataFrame.applymap()`\n",
    "   \n",
    "Note: These are all relatively high-level functions which we will only be introducing. They are capable of doing a lot more than what we will see in this vignette."
   ]
  },
  {
   "cell_type": "markdown",
   "metadata": {},
   "source": [
    "### `Series.map`\n",
    "\n",
    "- Works element-wise, that is, item-by-item along the `Series` object. \n",
    "- Used for substituting each value in a Series with another value, that may be derived from a function or a dictionary.\n",
    "- Returns a series object of same length.\n",
    "- Has a parameter to ignore na (missing) values.\n",
    "\n",
    "We have only seen a glimpse of this so far which we will recap now. "
   ]
  },
  {
   "cell_type": "code",
   "execution_count": null,
   "metadata": {},
   "outputs": [],
   "source": [
    "# First have a look at a sample of values from the embarked column\n",
    "titanic['embarked'].sample(10, random_state = 33)"
   ]
  },
  {
   "cell_type": "code",
   "execution_count": null,
   "metadata": {},
   "outputs": [],
   "source": [
    "# Now map a dictionary onto that column, and take a sample of the resultant Series.\n",
    "titanic['embarked'].map({'S':'Southampton','C':'Cherbourg','Q':'Queenstown'}).sample(10, random_state = 33)"
   ]
  },
  {
   "cell_type": "markdown",
   "metadata": {},
   "source": [
    "### `Series.apply`\n",
    "\n",
    "- Used more often to apply more complex functions to `Series`.\n",
    "- Also operates elementwise, *but is flexible to functions which work on entire `Series` object*.\n",
    "- Allows us to pass parameters to function we're applying.\n",
    "- Will return a `Series` object of same length."
   ]
  },
  {
   "cell_type": "code",
   "execution_count": null,
   "metadata": {},
   "outputs": [],
   "source": [
    "titanic['age'].apply(round, ndigits = 2).head(10)"
   ]
  },
  {
   "cell_type": "markdown",
   "metadata": {},
   "source": [
    "### `DataFrame.applymap`\n",
    "\n",
    "- This method applies a function that accepts and returns a scalar to every element (e.g. each cell) of a DataFrame.\n",
    "- Works elementwise throughout the `DataFrame`.\n",
    "- Accepts dictionaries for mapping.\n",
    "- Does not allow us to pass parameters for function.\n",
    "- Similar to `Series.map`."
   ]
  },
  {
   "cell_type": "markdown",
   "metadata": {},
   "source": [
    "### `DataFrame.apply`\n",
    "\n",
    "- Applies a function elementwise along a given axis.\n",
    "- Axis defaults to 0. `{0 : applies function to each column, 1 : applies function to each row}`.\n",
    "- Can also pass parameters to function\n",
    "- Allows us to use DataFrame rows or columns to as function variables. e.g. row/column-wise sum.\n",
    "- Could return a single row or a Series or an entire DateFrame depending on function passed.\n",
    "- Similar to `Series.apply`."
   ]
  },
  {
   "cell_type": "code",
   "execution_count": null,
   "metadata": {},
   "outputs": [],
   "source": [
    "titanic.loc[:, ['age','sibsp', 'parch', 'fare']].apply(max, axis = 0)"
   ]
  },
  {
   "cell_type": "code",
   "execution_count": null,
   "metadata": {},
   "outputs": [],
   "source": [
    "family_count = lambda df: df['sibsp'] + df['parch']"
   ]
  },
  {
   "cell_type": "code",
   "execution_count": null,
   "metadata": {},
   "outputs": [],
   "source": [
    "titanic['family_members'] = titanic.apply(family_count, axis = 1)\n",
    "titanic.head()"
   ]
  },
  {
   "cell_type": "markdown",
   "metadata": {},
   "source": [
    "# Consolidation\n",
    "\n",
    "This vignette introduces functions, and in reality only scratches the surface. Functions are the kind of tool that make their usefulness apparent when you are actually coding in the wild. The core use case for a function becomes apparent if you find that you need to do that same thing many times. Rather than write (or copy-paste) the same code each time you need to do something, write a function instead and call that. This will save you time and effort, and if you ever need to change or tweak the behaviour of that piece of code you now only have to change a single function rather than masses of code. This is could for clarity, reproducibility and error and sense checking. Additionally, in situations where it is important to abstract out a particular calculation from a block of code, using a fucntion may be a good move. This could be helpful for Quality Assurance purposes.\n",
    "\n",
    "Of particular interest are the `apply` and `map`/`applymap` methods on `Series` and `DataFrame` objects, these are a little confusing at first, but given a bit of time and experience prove to be really useful and succinct ways of writing code.\n",
    "\n",
    "## Learning Objectives\n",
    "\n",
    "By the end of the session, participants will be able to:\n",
    "* Know what functions are and why they are useful.\n",
    "* Distinguish between a function's parameters and arguments.\n",
    "    * Including different types of arguments\n",
    "* Understand the idea of 'scope'.\n",
    "    * i.e. Global scope vs Local scope\n",
    "* Write and apply user defined functions.\n",
    "* Identify and use 'lambda' functions.\n",
    "* Apply functions to pandas `DataFrame` and `Series` objects."
   ]
  }
 ],
 "metadata": {
  "kernelspec": {
   "display_name": "Python 3",
   "language": "python",
   "name": "python3"
  },
  "language_info": {
   "codemirror_mode": {
    "name": "ipython",
    "version": 3
   },
   "file_extension": ".py",
   "mimetype": "text/x-python",
   "name": "python",
   "nbconvert_exporter": "python",
   "pygments_lexer": "ipython3",
   "version": "3.8.8"
  }
 },
 "nbformat": 4,
 "nbformat_minor": 2
}
